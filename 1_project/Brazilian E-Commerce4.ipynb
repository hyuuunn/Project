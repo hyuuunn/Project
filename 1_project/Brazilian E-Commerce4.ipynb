{
 "cells": [
  {
   "cell_type": "markdown",
   "id": "74f3073b",
   "metadata": {},
   "source": [
    "eda-viz-nlp\n"
   ]
  },
  {
   "cell_type": "code",
   "execution_count": 1,
   "id": "fe31a461",
   "metadata": {},
   "outputs": [
    {
     "name": "stdout",
     "output_type": "stream",
     "text": [
      "archive.zip                            olist_order_reviews_dataset.csv\r\n",
      "olist_customers_dataset.csv            olist_orders_dataset.csv\r\n",
      "olist_geolocation_dataset.csv          olist_products_dataset.csv\r\n",
      "olist_order_items_dataset.csv          olist_sellers_dataset.csv\r\n",
      "olist_order_payments_dataset.csv       product_category_name_translation.csv\r\n"
     ]
    }
   ],
   "source": [
    "%ls data"
   ]
  },
  {
   "cell_type": "code",
   "execution_count": 4,
   "id": "0951a537",
   "metadata": {},
   "outputs": [],
   "source": [
    "# Standard libs\n",
    "import pandas as pd\n",
    "import numpy as np\n",
    "import matplotlib.pyplot as plt\n",
    "import seaborn as sns\n",
    "%matplotlib inline\n",
    "from matplotlib.gridspec import GridSpec\n",
    "pd.set_option('display.max_columns', 100)\n",
    "import plotly.offline as py\n",
    "import plotly.express as px\n",
    "import plotly.graph_objs as go\n",
    "import json\n",
    "import requests\n",
    "import folium\n",
    "from folium.plugins import FastMarkerCluster, Fullscreen, MiniMap, HeatMap, HeatMapWithTime, LocateControl\n",
    "from wordcloud import WordCloud\n",
    "from collections import Counter\n",
    "from PIL import Image\n",
    "\n",
    "# # Utilities\n",
    "# from viz_utils import *\n",
    "# from custom_transformers import *\n",
    "# from ml_utils import *\n",
    "\n",
    "# DataPrep\n",
    "import re\n",
    "from nltk.corpus import stopwords\n",
    "from nltk.stem import RSLPStemmer\n",
    "from sklearn.feature_extraction.text import CountVectorizer, TfidfVectorizer\n",
    "from sklearn.base import BaseEstimator, TransformerMixin\n",
    "from sklearn.pipeline import Pipeline\n",
    "import joblib\n",
    "\n",
    "# Modeling\n",
    "from sklearn.model_selection import train_test_split\n",
    "from sklearn.linear_model import LogisticRegression\n",
    "from sklearn.naive_bayes import GaussianNB\n",
    "import lightgbm as lgb"
   ]
  },
  {
   "cell_type": "code",
   "execution_count": 5,
   "id": "23ddbc16",
   "metadata": {},
   "outputs": [],
   "source": [
    "# Reading all the files\n",
    "olist_customer = pd.read_csv('data/olist_customers_dataset.csv')\n",
    "olist_geolocation = pd.read_csv('data/olist_geolocation_dataset.csv')\n",
    "olist_orders = pd.read_csv('data/olist_orders_dataset.csv')\n",
    "olist_order_items = pd.read_csv('data/olist_order_items_dataset.csv')\n",
    "olist_order_payments = pd.read_csv('data/olist_order_payments_dataset.csv')\n",
    "olist_order_reviews = pd.read_csv('data/olist_order_reviews_dataset.csv')\n",
    "olist_products = pd.read_csv('data/olist_products_dataset.csv')\n",
    "olist_sellers = pd.read_csv('data/olist_sellers_dataset.csv')"
   ]
  },
  {
   "cell_type": "code",
   "execution_count": 6,
   "id": "289f551c",
   "metadata": {},
   "outputs": [
    {
     "data": {
      "text/html": [
       "<style  type=\"text/css\" >\n",
       "#T_10dfb_row0_col1,#T_10dfb_row2_col1,#T_10dfb_row5_col1{\n",
       "            background-color:  #f1ebf4;\n",
       "            color:  #000000;\n",
       "        }#T_10dfb_row0_col2,#T_10dfb_row1_col2,#T_10dfb_row4_col2{\n",
       "            background-color:  #dbdaeb;\n",
       "            color:  #000000;\n",
       "        }#T_10dfb_row0_col3,#T_10dfb_row0_col4,#T_10dfb_row1_col3,#T_10dfb_row1_col4,#T_10dfb_row3_col3,#T_10dfb_row3_col4,#T_10dfb_row4_col3,#T_10dfb_row4_col4,#T_10dfb_row7_col1,#T_10dfb_row7_col2,#T_10dfb_row7_col3,#T_10dfb_row7_col4{\n",
       "            background-color:  #fff7fb;\n",
       "            color:  #000000;\n",
       "        }#T_10dfb_row1_col1,#T_10dfb_row5_col3,#T_10dfb_row6_col2,#T_10dfb_row6_col4{\n",
       "            background-color:  #023858;\n",
       "            color:  #f1f1f1;\n",
       "        }#T_10dfb_row2_col2{\n",
       "            background-color:  #0567a2;\n",
       "            color:  #f1f1f1;\n",
       "        }#T_10dfb_row2_col3{\n",
       "            background-color:  #faf3f9;\n",
       "            color:  #000000;\n",
       "        }#T_10dfb_row2_col4{\n",
       "            background-color:  #a5bddb;\n",
       "            color:  #000000;\n",
       "        }#T_10dfb_row3_col1{\n",
       "            background-color:  #eee9f3;\n",
       "            color:  #000000;\n",
       "        }#T_10dfb_row3_col2,#T_10dfb_row5_col2{\n",
       "            background-color:  #4295c3;\n",
       "            color:  #000000;\n",
       "        }#T_10dfb_row4_col1{\n",
       "            background-color:  #f0eaf4;\n",
       "            color:  #000000;\n",
       "        }#T_10dfb_row5_col4{\n",
       "            background-color:  #d0d1e6;\n",
       "            color:  #000000;\n",
       "        }#T_10dfb_row6_col1{\n",
       "            background-color:  #fbf3f9;\n",
       "            color:  #000000;\n",
       "        }#T_10dfb_row6_col3{\n",
       "            background-color:  #fdf5fa;\n",
       "            color:  #000000;\n",
       "        }</style><table id=\"T_10dfb_\" ><thead>    <tr>        <th class=\"blank level0\" ></th>        <th class=\"col_heading level0 col0\" >dataset</th>        <th class=\"col_heading level0 col1\" >n_rows</th>        <th class=\"col_heading level0 col2\" >n_cols</th>        <th class=\"col_heading level0 col3\" >null_amount</th>        <th class=\"col_heading level0 col4\" >qty_null_columns</th>        <th class=\"col_heading level0 col5\" >null_columns</th>    </tr></thead><tbody>\n",
       "                <tr>\n",
       "                        <th id=\"T_10dfb_level0_row0\" class=\"row_heading level0 row0\" >0</th>\n",
       "                        <td id=\"T_10dfb_row0_col0\" class=\"data row0 col0\" >olist_customer</td>\n",
       "                        <td id=\"T_10dfb_row0_col1\" class=\"data row0 col1\" >99441</td>\n",
       "                        <td id=\"T_10dfb_row0_col2\" class=\"data row0 col2\" >5</td>\n",
       "                        <td id=\"T_10dfb_row0_col3\" class=\"data row0 col3\" >0</td>\n",
       "                        <td id=\"T_10dfb_row0_col4\" class=\"data row0 col4\" >0</td>\n",
       "                        <td id=\"T_10dfb_row0_col5\" class=\"data row0 col5\" ></td>\n",
       "            </tr>\n",
       "            <tr>\n",
       "                        <th id=\"T_10dfb_level0_row1\" class=\"row_heading level0 row1\" >1</th>\n",
       "                        <td id=\"T_10dfb_row1_col0\" class=\"data row1 col0\" >olist_geolocation</td>\n",
       "                        <td id=\"T_10dfb_row1_col1\" class=\"data row1 col1\" >1000163</td>\n",
       "                        <td id=\"T_10dfb_row1_col2\" class=\"data row1 col2\" >5</td>\n",
       "                        <td id=\"T_10dfb_row1_col3\" class=\"data row1 col3\" >0</td>\n",
       "                        <td id=\"T_10dfb_row1_col4\" class=\"data row1 col4\" >0</td>\n",
       "                        <td id=\"T_10dfb_row1_col5\" class=\"data row1 col5\" ></td>\n",
       "            </tr>\n",
       "            <tr>\n",
       "                        <th id=\"T_10dfb_level0_row2\" class=\"row_heading level0 row2\" >2</th>\n",
       "                        <td id=\"T_10dfb_row2_col0\" class=\"data row2 col0\" >olist_orders</td>\n",
       "                        <td id=\"T_10dfb_row2_col1\" class=\"data row2 col1\" >99441</td>\n",
       "                        <td id=\"T_10dfb_row2_col2\" class=\"data row2 col2\" >8</td>\n",
       "                        <td id=\"T_10dfb_row2_col3\" class=\"data row2 col3\" >4908</td>\n",
       "                        <td id=\"T_10dfb_row2_col4\" class=\"data row2 col4\" >3</td>\n",
       "                        <td id=\"T_10dfb_row2_col5\" class=\"data row2 col5\" >order_approved_at, order_delivered_carrier_date, order_delivered_customer_date</td>\n",
       "            </tr>\n",
       "            <tr>\n",
       "                        <th id=\"T_10dfb_level0_row3\" class=\"row_heading level0 row3\" >3</th>\n",
       "                        <td id=\"T_10dfb_row3_col0\" class=\"data row3 col0\" >olist_order_items</td>\n",
       "                        <td id=\"T_10dfb_row3_col1\" class=\"data row3 col1\" >112650</td>\n",
       "                        <td id=\"T_10dfb_row3_col2\" class=\"data row3 col2\" >7</td>\n",
       "                        <td id=\"T_10dfb_row3_col3\" class=\"data row3 col3\" >0</td>\n",
       "                        <td id=\"T_10dfb_row3_col4\" class=\"data row3 col4\" >0</td>\n",
       "                        <td id=\"T_10dfb_row3_col5\" class=\"data row3 col5\" ></td>\n",
       "            </tr>\n",
       "            <tr>\n",
       "                        <th id=\"T_10dfb_level0_row4\" class=\"row_heading level0 row4\" >4</th>\n",
       "                        <td id=\"T_10dfb_row4_col0\" class=\"data row4 col0\" >olist_order_payments</td>\n",
       "                        <td id=\"T_10dfb_row4_col1\" class=\"data row4 col1\" >103886</td>\n",
       "                        <td id=\"T_10dfb_row4_col2\" class=\"data row4 col2\" >5</td>\n",
       "                        <td id=\"T_10dfb_row4_col3\" class=\"data row4 col3\" >0</td>\n",
       "                        <td id=\"T_10dfb_row4_col4\" class=\"data row4 col4\" >0</td>\n",
       "                        <td id=\"T_10dfb_row4_col5\" class=\"data row4 col5\" ></td>\n",
       "            </tr>\n",
       "            <tr>\n",
       "                        <th id=\"T_10dfb_level0_row5\" class=\"row_heading level0 row5\" >5</th>\n",
       "                        <td id=\"T_10dfb_row5_col0\" class=\"data row5 col0\" >olist_order_reviews</td>\n",
       "                        <td id=\"T_10dfb_row5_col1\" class=\"data row5 col1\" >99224</td>\n",
       "                        <td id=\"T_10dfb_row5_col2\" class=\"data row5 col2\" >7</td>\n",
       "                        <td id=\"T_10dfb_row5_col3\" class=\"data row5 col3\" >145903</td>\n",
       "                        <td id=\"T_10dfb_row5_col4\" class=\"data row5 col4\" >2</td>\n",
       "                        <td id=\"T_10dfb_row5_col5\" class=\"data row5 col5\" >review_comment_title, review_comment_message</td>\n",
       "            </tr>\n",
       "            <tr>\n",
       "                        <th id=\"T_10dfb_level0_row6\" class=\"row_heading level0 row6\" >6</th>\n",
       "                        <td id=\"T_10dfb_row6_col0\" class=\"data row6 col0\" >olist_products</td>\n",
       "                        <td id=\"T_10dfb_row6_col1\" class=\"data row6 col1\" >32951</td>\n",
       "                        <td id=\"T_10dfb_row6_col2\" class=\"data row6 col2\" >9</td>\n",
       "                        <td id=\"T_10dfb_row6_col3\" class=\"data row6 col3\" >2448</td>\n",
       "                        <td id=\"T_10dfb_row6_col4\" class=\"data row6 col4\" >8</td>\n",
       "                        <td id=\"T_10dfb_row6_col5\" class=\"data row6 col5\" >product_category_name, product_name_lenght, product_description_lenght, product_photos_qty, product_weight_g, product_length_cm, product_height_cm, product_width_cm</td>\n",
       "            </tr>\n",
       "            <tr>\n",
       "                        <th id=\"T_10dfb_level0_row7\" class=\"row_heading level0 row7\" >7</th>\n",
       "                        <td id=\"T_10dfb_row7_col0\" class=\"data row7 col0\" >olist_sellers</td>\n",
       "                        <td id=\"T_10dfb_row7_col1\" class=\"data row7 col1\" >3095</td>\n",
       "                        <td id=\"T_10dfb_row7_col2\" class=\"data row7 col2\" >4</td>\n",
       "                        <td id=\"T_10dfb_row7_col3\" class=\"data row7 col3\" >0</td>\n",
       "                        <td id=\"T_10dfb_row7_col4\" class=\"data row7 col4\" >0</td>\n",
       "                        <td id=\"T_10dfb_row7_col5\" class=\"data row7 col5\" ></td>\n",
       "            </tr>\n",
       "    </tbody></table>"
      ],
      "text/plain": [
       "<pandas.io.formats.style.Styler at 0x7f9ee0c4ca60>"
      ]
     },
     "execution_count": 6,
     "metadata": {},
     "output_type": "execute_result"
    }
   ],
   "source": [
    "# Collections for each dataset\n",
    "datasets = [olist_customer, olist_geolocation, olist_orders, olist_order_items, olist_order_payments,\n",
    "            olist_order_reviews, olist_products, olist_sellers]\n",
    "names = ['olist_customer', 'olist_geolocation', 'olist_orders', 'olist_order_items', 'olist_order_payments',\n",
    "         'olist_order_reviews', 'olist_products', 'olist_sellers']\n",
    "\n",
    "# Creating a DataFrame with useful information about all datasets\n",
    "data_info = pd.DataFrame({})\n",
    "data_info['dataset'] = names\n",
    "data_info['n_rows'] = [df.shape[0] for df in datasets]\n",
    "data_info['n_cols'] = [df.shape[1] for df in datasets]\n",
    "data_info['null_amount'] = [df.isnull().sum().sum() for df in datasets]\n",
    "data_info['qty_null_columns'] = [len([col for col, null in df.isnull().sum().items() if null > 0]) for df in datasets]\n",
    "data_info['null_columns'] = [', '.join([col for col, null in df.isnull().sum().items() if null > 0]) for df in datasets]\n",
    "\n",
    "data_info.style.background_gradient()"
   ]
  },
  {
   "cell_type": "code",
   "execution_count": null,
   "id": "96e422b9",
   "metadata": {},
   "outputs": [],
   "source": []
  }
 ],
 "metadata": {
  "kernelspec": {
   "display_name": "Python 3",
   "language": "python",
   "name": "python3"
  },
  "language_info": {
   "codemirror_mode": {
    "name": "ipython",
    "version": 3
   },
   "file_extension": ".py",
   "mimetype": "text/x-python",
   "name": "python",
   "nbconvert_exporter": "python",
   "pygments_lexer": "ipython3",
   "version": "3.8.8"
  },
  "toc": {
   "base_numbering": 1,
   "nav_menu": {},
   "number_sections": true,
   "sideBar": true,
   "skip_h1_title": false,
   "title_cell": "Table of Contents",
   "title_sidebar": "Contents",
   "toc_cell": false,
   "toc_position": {},
   "toc_section_display": true,
   "toc_window_display": false
  },
  "varInspector": {
   "cols": {
    "lenName": 16,
    "lenType": 16,
    "lenVar": 40
   },
   "kernels_config": {
    "python": {
     "delete_cmd_postfix": "",
     "delete_cmd_prefix": "del ",
     "library": "var_list.py",
     "varRefreshCmd": "print(var_dic_list())"
    },
    "r": {
     "delete_cmd_postfix": ") ",
     "delete_cmd_prefix": "rm(",
     "library": "var_list.r",
     "varRefreshCmd": "cat(var_dic_list()) "
    }
   },
   "types_to_exclude": [
    "module",
    "function",
    "builtin_function_or_method",
    "instance",
    "_Feature"
   ],
   "window_display": false
  }
 },
 "nbformat": 4,
 "nbformat_minor": 5
}
