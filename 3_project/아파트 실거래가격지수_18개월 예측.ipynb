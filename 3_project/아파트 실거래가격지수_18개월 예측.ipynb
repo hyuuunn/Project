{
 "cells": [
  {
   "cell_type": "code",
   "execution_count": null,
   "metadata": {},
   "outputs": [],
   "source": [
    "!pip install cython"
   ]
  },
  {
   "cell_type": "code",
   "execution_count": null,
   "metadata": {},
   "outputs": [],
   "source": [
    "!pip install \"pystan<2.18\""
   ]
  },
  {
   "cell_type": "code",
   "execution_count": null,
   "metadata": {},
   "outputs": [],
   "source": [
    "!pip install fbprophet"
   ]
  },
  {
   "cell_type": "code",
   "execution_count": null,
   "metadata": {
    "id": "BOiOvvAKZknH"
   },
   "outputs": [],
   "source": [
    "# library import\n",
    "import pandas as pd\n",
    "from matplotlib import pyplot\n",
    "from fbprophet import Prophet\n",
    "from fbprophet.plot import plot_plotly, plot_components_plotly, add_changepoints_to_plot\n",
    "import plotly.graph_objs as go\n",
    "import plotly.offline as py\n",
    "from plotly.offline import init_notebook_mode\n",
    "\n",
    "import warnings\n",
    "warnings.simplefilter(action='ignore', category=FutureWarning)"
   ]
  },
  {
   "cell_type": "code",
   "execution_count": null,
   "metadata": {
    "id": "GoFwoMI8ZnmJ"
   },
   "outputs": [],
   "source": [
    "# data load\n",
    "def load_data():\n",
    "  df = pd.read_csv(\"data/아파트 실거래가격지수.csv\")\n",
    "  df.rename(columns={\"Unnamed: 0\" : \"Column1\"}, inplace=True)\n",
    "  df = df.set_index(\"Column1\").reset_index()\n",
    "\n",
    "  return df\n",
    "\n",
    "# prophet modeling\n",
    "def m_prophet(target,period):\n",
    "  df = load_data()\n",
    "  df = df[[\"Column1\",target]]\n",
    "    \n",
    "  df.columns = ['ds','y']\n",
    "\n",
    "  m = Prophet(yearly_seasonality=10, weekly_seasonality=False, daily_seasonality=False)\n",
    "  m.fit(df)\n",
    "\n",
    "  future = m.make_future_dataframe(periods=period, freq=\"MS\")\n",
    "    \n",
    "  forecast = m.predict(future)[['ds','yhat','yhat_upper','yhat_lower']]\n",
    "  # m.plot(forecast)\n",
    "\n",
    "  return forecast"
   ]
  },
  {
   "cell_type": "code",
   "execution_count": null,
   "metadata": {
    "id": "NaL-YOhkZnoD"
   },
   "outputs": [],
   "source": [
    "target_list = ['도심권[2017.11=100]', '동북권[2017.11=100]', '동남권[2017.11=100]',\n",
    "       '부산[2017.11=100]', '대구[2017.11=100]', '인천[2017.11=100]',\n",
    "       '광주[2017.11=100]', '대전[2017.11=100]', '울산[2017.11=100]',\n",
    "       '세종[2017.11=100]', '경기[2017.11=100]', '강원[2017.11=100]',\n",
    "       '충북[2017.11=100]', '충남[2017.11=100]', '서북권[2017.11=100]',\n",
    "       '서남권[2017.11=100]', '전북[2017.11=100]', '전남[2017.11=100]',\n",
    "       '경북[2017.11=100]', '경남[2017.11=100]', '제주[2017.11=100]',\n",
    "       '광역시[2017.11=100]', '지방광역시[2017.11=100]', '지방도[2017.11=100]',\n",
    "       '전국[2017.11=100]', '서울[2017.11=100]', '수도권[2017.11=100]',\n",
    "       '지방[2017.11=100]']"
   ]
  },
  {
   "cell_type": "code",
   "execution_count": null,
   "metadata": {
    "id": "09IUs5zwZnqV"
   },
   "outputs": [],
   "source": [
    "final = pd.DataFrame()\n",
    "for target in target_list:\n",
    "  if target == \"광역시[2017.11=100]\" or target == \"광역시[2017.11=100]_yhat\" or target == \"광역시[2017.11=100]_yhat_upper\" or target == \"광역시[2017.11=100]_yhat_upper\":\n",
    "    pass\n",
    "\n",
    "  else:\n",
    "    \n",
    "    dd = load_data()\n",
    "    forecast = m_prophet(target,18) # 18개월 예측\n",
    "    sub = pd.DataFrame()\n",
    "    sub['date'] = pd.date_range(start='2006-01-01', end='2022-07-01', freq='MS')\n",
    "    sub['city'] = target\n",
    "    sub['yhat'] = list(forecast[\"yhat\"])\n",
    "    sub['yhat_upper'] = list(forecast[\"yhat_upper\"])\n",
    "    sub['yhat_lower'] = list(forecast[\"yhat_lower\"])\n",
    "\n",
    "    sub2 = pd.DataFrame()\n",
    "    sub2['date'] = pd.date_range(start='2006-01-01', end='2021-01-01', freq='MS')\n",
    "    sub2['real'] = list(dd[target])\n",
    "\n",
    "    sub3 = pd.merge(sub2,sub, how='right')\n",
    "\n",
    "    final = pd.concat([final,sub3])\n",
    "\n",
    "final.set_index(\"date\", inplace=True)\n",
    "final.to_excel('data/prep_실거래지수.xlsx')"
   ]
  },
  {
   "cell_type": "markdown",
   "metadata": {
    "id": "ofgZCfCckiXx"
   },
   "source": [
    "* 외부 데이터\n",
    "  - 주가 데이터(FinanceDataReader API)\n",
    "  - KOSIS 국가통계포털(https://kosis.kr/index/index.do)"
   ]
  }
 ],
 "metadata": {
  "colab": {
   "collapsed_sections": [],
   "name": "submission.ipynb",
   "provenance": []
  },
  "kernelspec": {
   "display_name": "Python 3",
   "language": "python",
   "name": "python3"
  },
  "language_info": {
   "codemirror_mode": {
    "name": "ipython",
    "version": 3
   },
   "file_extension": ".py",
   "mimetype": "text/x-python",
   "name": "python",
   "nbconvert_exporter": "python",
   "pygments_lexer": "ipython3",
   "version": "3.8.8"
  },
  "toc": {
   "base_numbering": 1,
   "nav_menu": {},
   "number_sections": true,
   "sideBar": true,
   "skip_h1_title": false,
   "title_cell": "Table of Contents",
   "title_sidebar": "Contents",
   "toc_cell": false,
   "toc_position": {},
   "toc_section_display": true,
   "toc_window_display": false
  },
  "varInspector": {
   "cols": {
    "lenName": 16,
    "lenType": 16,
    "lenVar": 40
   },
   "kernels_config": {
    "python": {
     "delete_cmd_postfix": "",
     "delete_cmd_prefix": "del ",
     "library": "var_list.py",
     "varRefreshCmd": "print(var_dic_list())"
    },
    "r": {
     "delete_cmd_postfix": ") ",
     "delete_cmd_prefix": "rm(",
     "library": "var_list.r",
     "varRefreshCmd": "cat(var_dic_list()) "
    }
   },
   "types_to_exclude": [
    "module",
    "function",
    "builtin_function_or_method",
    "instance",
    "_Feature"
   ],
   "window_display": false
  }
 },
 "nbformat": 4,
 "nbformat_minor": 1
}
