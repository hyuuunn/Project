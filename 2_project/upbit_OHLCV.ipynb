{
 "cells": [
  {
   "cell_type": "code",
   "execution_count": 1,
   "id": "9df81790",
   "metadata": {},
   "outputs": [],
   "source": [
    "# pip install -U pyupbit\n",
    "# 최신 버전 업데이트"
   ]
  },
  {
   "cell_type": "code",
   "execution_count": 2,
   "id": "9a0c52a2",
   "metadata": {},
   "outputs": [
    {
     "name": "stdout",
     "output_type": "stream",
     "text": [
      "<class 'pyupbit.exchange_api.Upbit'>\n"
     ]
    }
   ],
   "source": [
    "# pyupbit 모듈이 잘 설치됐는지 확인하기 위해 모듈을 import\n",
    "import pyupbit\n",
    "print(pyupbit.Upbit)"
   ]
  },
  {
   "cell_type": "markdown",
   "id": "a38ad02a",
   "metadata": {},
   "source": [
    "## 티커 조회"
   ]
  },
  {
   "cell_type": "code",
   "execution_count": 3,
   "id": "9b7387b6",
   "metadata": {},
   "outputs": [
    {
     "name": "stdout",
     "output_type": "stream",
     "text": [
      "['KRW-BTC', 'KRW-ETH', 'BTC-ETH', 'BTC-LTC', 'BTC-XRP', 'BTC-ETC', 'BTC-OMG', 'BTC-CVC', 'BTC-DGB', 'BTC-SC', 'BTC-SNT', 'BTC-WAVES', 'BTC-NMR', 'BTC-XEM', 'BTC-QTUM', 'BTC-BAT', 'BTC-LSK', 'BTC-STEEM', 'BTC-DOGE', 'BTC-BNT', 'BTC-XLM', 'BTC-ARDR', 'BTC-ARK', 'BTC-STORJ', 'BTC-GRS', 'BTC-REP', 'BTC-RLC', 'USDT-BTC', 'USDT-ETH', 'USDT-LTC', 'USDT-XRP', 'USDT-ETC', 'KRW-NEO', 'KRW-MTL', 'KRW-LTC', 'KRW-XRP', 'KRW-ETC', 'KRW-OMG', 'KRW-SNT', 'KRW-WAVES', 'KRW-XEM', 'KRW-QTUM', 'KRW-LSK', 'KRW-STEEM', 'KRW-XLM', 'KRW-ARDR', 'KRW-ARK', 'KRW-STORJ', 'KRW-GRS', 'KRW-REP', 'KRW-ADA', 'BTC-ADA', 'BTC-MANA', 'USDT-OMG', 'KRW-SBD', 'BTC-SBD', 'KRW-POWR', 'BTC-POWR', 'KRW-BTG', 'USDT-ADA', 'BTC-DNT', 'BTC-ZRX', 'BTC-TRX', 'BTC-TUSD', 'BTC-LRC', 'KRW-ICX', 'KRW-EOS', 'USDT-TUSD', 'KRW-TRX', 'BTC-POLY', 'USDT-SC', 'USDT-TRX', 'KRW-SC', 'KRW-ONT', 'KRW-ZIL', 'KRW-POLY', 'KRW-ZRX', 'KRW-LOOM', 'BTC-BCH', 'USDT-BCH', 'KRW-BCH', 'BTC-MFT', 'BTC-LOOM', 'KRW-BAT', 'KRW-IOST', 'BTC-RFR', 'KRW-RFR', 'USDT-DGB', 'KRW-CVC', 'KRW-IQ', 'KRW-IOTA', 'BTC-RVN', 'BTC-GO', 'BTC-UPP', 'BTC-ENJ', 'KRW-MFT', 'KRW-ONG', 'KRW-GAS', 'BTC-MTL', 'KRW-UPP', 'KRW-ELF', 'USDT-DOGE', 'USDT-ZRX', 'USDT-RVN', 'USDT-BAT', 'KRW-KNC', 'BTC-MOC', 'BTC-ZIL', 'KRW-BSV', 'BTC-BSV', 'BTC-IOST', 'KRW-THETA', 'BTC-DENT', 'KRW-QKC', 'BTC-ELF', 'KRW-BTT', 'BTC-IOTX', 'BTC-SOLVE', 'BTC-NKN', 'BTC-META', 'KRW-MOC', 'BTC-ANKR', 'BTC-CRO', 'KRW-ENJ', 'KRW-TFUEL', 'KRW-MANA', 'KRW-ANKR', 'BTC-ORBS', 'BTC-AERGO', 'KRW-AERGO', 'KRW-ATOM', 'KRW-TT', 'KRW-CRE', 'BTC-ATOM', 'BTC-STPT', 'KRW-MBL', 'BTC-EOS', 'BTC-LUNA', 'BTC-DAI', 'BTC-MKR', 'BTC-BORA', 'KRW-WAXP', 'BTC-WAXP', 'KRW-HBAR', 'KRW-MED', 'BTC-MED', 'BTC-MLK', 'KRW-MLK', 'KRW-STPT', 'BTC-VET', 'KRW-ORBS', 'BTC-CHZ', 'KRW-VET', 'BTC-FX', 'BTC-OGN', 'KRW-CHZ', 'BTC-XTZ', 'BTC-HIVE', 'BTC-HBD', 'BTC-OBSR', 'BTC-DKA', 'KRW-STMX', 'BTC-STMX', 'BTC-AHT', 'BTC-PCI', 'KRW-DKA', 'BTC-LINK', 'KRW-HIVE', 'KRW-KAVA', 'BTC-KAVA', 'KRW-AHT', 'KRW-LINK', 'KRW-XTZ', 'KRW-BORA', 'BTC-JST', 'BTC-CHR', 'BTC-DAD', 'BTC-TON', 'KRW-JST', 'BTC-CTSI', 'BTC-DOT', 'KRW-CRO', 'BTC-COMP', 'BTC-SXP', 'BTC-HUNT', 'KRW-TON', 'BTC-ONIT', 'BTC-CRV', 'BTC-ALGO', 'BTC-RSR', 'KRW-SXP', 'BTC-OXT', 'BTC-PLA', 'KRW-HUNT', 'BTC-MARO', 'BTC-SAND', 'BTC-SUN', 'KRW-PLA', 'KRW-DOT', 'BTC-SRM', 'BTC-QTCON', 'BTC-MVL', 'KRW-SRM', 'KRW-MVL', 'BTC-GXC', 'BTC-AQT', 'BTC-AXS', 'BTC-STRAX', 'KRW-STRAX', 'KRW-AQT', 'BTC-GLM', 'KRW-GLM', 'BTC-FCT2', 'BTC-SSX', 'KRW-SSX', 'KRW-META', 'KRW-FCT2', 'BTC-FIL', 'BTC-UNI', 'BTC-BASIC', 'BTC-INJ', 'BTC-PROM', 'BTC-VAL', 'BTC-PSG', 'BTC-JUV', 'BTC-CBK', 'BTC-FOR', 'KRW-CBK', 'BTC-BFC', 'BTC-LINA', 'BTC-HUM', 'BTC-CELO', 'KRW-SAND', 'KRW-HUM', 'BTC-IQ', 'BTC-STX', 'KRW-DOGE', 'BTC-NEAR', 'BTC-AUCTION', 'BTC-DAWN', 'BTC-FLOW', 'BTC-STRK', 'KRW-STRK', 'BTC-PUNDIX', 'KRW-PUNDIX', 'KRW-FLOW', 'KRW-DAWN', 'KRW-AXS', 'KRW-STX', 'BTC-GRT', 'BTC-SNX', 'BTC-USDP', 'KRW-XEC', 'KRW-SOL', 'BTC-SOL', 'KRW-MATIC', 'BTC-MATIC', 'KRW-NU', 'BTC-NU', 'KRW-AAVE', 'KRW-1INCH', 'BTC-AAVE', 'BTC-1INCH', 'BTC-MASK', 'KRW-ALGO', 'BTC-AUDIO', 'KRW-NEAR', 'BTC-YGG', 'BTC-GTC', 'BTC-OCEAN', 'BTC-CTC', 'BTC-LPT']\n"
     ]
    }
   ],
   "source": [
    "# pyupbit 모듈의 get_tickers() 함수는 업비트에서 사용할 수 있는 티커를 조회\n",
    "import pyupbit\n",
    " \n",
    "tickers = pyupbit.get_tickers()\n",
    "print(tickers)"
   ]
  },
  {
   "cell_type": "code",
   "execution_count": 4,
   "id": "7063ffb0",
   "metadata": {},
   "outputs": [
    {
     "name": "stdout",
     "output_type": "stream",
     "text": [
      "['KRW-BTC', 'KRW-ETH', 'KRW-NEO', 'KRW-MTL', 'KRW-LTC', 'KRW-XRP', 'KRW-ETC', 'KRW-OMG', 'KRW-SNT', 'KRW-WAVES', 'KRW-XEM', 'KRW-QTUM', 'KRW-LSK', 'KRW-STEEM', 'KRW-XLM', 'KRW-ARDR', 'KRW-ARK', 'KRW-STORJ', 'KRW-GRS', 'KRW-REP', 'KRW-ADA', 'KRW-SBD', 'KRW-POWR', 'KRW-BTG', 'KRW-ICX', 'KRW-EOS', 'KRW-TRX', 'KRW-SC', 'KRW-ONT', 'KRW-ZIL', 'KRW-POLY', 'KRW-ZRX', 'KRW-LOOM', 'KRW-BCH', 'KRW-BAT', 'KRW-IOST', 'KRW-RFR', 'KRW-CVC', 'KRW-IQ', 'KRW-IOTA', 'KRW-MFT', 'KRW-ONG', 'KRW-GAS', 'KRW-UPP', 'KRW-ELF', 'KRW-KNC', 'KRW-BSV', 'KRW-THETA', 'KRW-QKC', 'KRW-BTT', 'KRW-MOC', 'KRW-ENJ', 'KRW-TFUEL', 'KRW-MANA', 'KRW-ANKR', 'KRW-AERGO', 'KRW-ATOM', 'KRW-TT', 'KRW-CRE', 'KRW-MBL', 'KRW-WAXP', 'KRW-HBAR', 'KRW-MED', 'KRW-MLK', 'KRW-STPT', 'KRW-ORBS', 'KRW-VET', 'KRW-CHZ', 'KRW-STMX', 'KRW-DKA', 'KRW-HIVE', 'KRW-KAVA', 'KRW-AHT', 'KRW-LINK', 'KRW-XTZ', 'KRW-BORA', 'KRW-JST', 'KRW-CRO', 'KRW-TON', 'KRW-SXP', 'KRW-HUNT', 'KRW-PLA', 'KRW-DOT', 'KRW-SRM', 'KRW-MVL', 'KRW-STRAX', 'KRW-AQT', 'KRW-GLM', 'KRW-SSX', 'KRW-META', 'KRW-FCT2', 'KRW-CBK', 'KRW-SAND', 'KRW-HUM', 'KRW-DOGE', 'KRW-STRK', 'KRW-PUNDIX', 'KRW-FLOW', 'KRW-DAWN', 'KRW-AXS', 'KRW-STX', 'KRW-XEC', 'KRW-SOL', 'KRW-MATIC', 'KRW-NU', 'KRW-AAVE', 'KRW-1INCH', 'KRW-ALGO', 'KRW-NEAR']\n"
     ]
    }
   ],
   "source": [
    "# 원화 시장에서 주문 가능한 티커 목록\n",
    "tickers = pyupbit.get_tickers(fiat=\"KRW\")\n",
    "print(tickers)"
   ]
  },
  {
   "cell_type": "markdown",
   "id": "4375829a",
   "metadata": {},
   "source": [
    "## 현재가 조회"
   ]
  },
  {
   "cell_type": "code",
   "execution_count": 5,
   "id": "6af317bc",
   "metadata": {},
   "outputs": [
    {
     "name": "stdout",
     "output_type": "stream",
     "text": [
      "51950000.0\n"
     ]
    }
   ],
   "source": [
    "# 원화 시장에서 비트코인 현재가 조회\n",
    "import pyupbit\n",
    "\n",
    "price = pyupbit.get_current_price(\"KRW-BTC\")\n",
    "print(price)"
   ]
  },
  {
   "cell_type": "code",
   "execution_count": 6,
   "id": "1651d738",
   "metadata": {},
   "outputs": [
    {
     "name": "stdout",
     "output_type": "stream",
     "text": [
      "1.81e-05\n"
     ]
    }
   ],
   "source": [
    "# BTC 시장에서 리플 현재가 조회\n",
    "price = pyupbit.get_current_price(\"BTC-XRP\")\n",
    "print(price)"
   ]
  },
  {
   "cell_type": "code",
   "execution_count": 7,
   "id": "7ac39450",
   "metadata": {},
   "outputs": [
    {
     "name": "stdout",
     "output_type": "stream",
     "text": [
      "{'BTC-XRP': 1.81e-05, 'KRW-XRP': 933.0}\n"
     ]
    }
   ],
   "source": [
    "# 여러 가상화폐의 현재가를 한 번에 조회 -> 티커를 리스트로\n",
    "price = pyupbit.get_current_price([\"BTC-XRP\", \"KRW-XRP\"])\n",
    "print(price)\n",
    "# 여러 가상화폐의 현재가를 한 번에 조회했기 때문에 결과값이 딕셔너리로 리턴\n",
    "# 티커를 key로 해서 현재가가 value로 저장"
   ]
  },
  {
   "cell_type": "markdown",
   "id": "49b271aa",
   "metadata": {},
   "source": [
    "## 과거 데이터 조회"
   ]
  },
  {
   "cell_type": "code",
   "execution_count": 8,
   "id": "6adc2b3e",
   "metadata": {},
   "outputs": [
    {
     "name": "stdout",
     "output_type": "stream",
     "text": [
      "                           open        high         low       close  \\\n",
      "2021-06-25 09:00:00  40100000.0  40956000.0  36901000.0  37152000.0   \n",
      "2021-06-26 09:00:00  37152000.0  37999000.0  35522000.0  37629000.0   \n",
      "2021-06-27 09:00:00  37617000.0  40000000.0  37253000.0  39985000.0   \n",
      "2021-06-28 09:00:00  39985000.0  40570000.0  39188000.0  39959000.0   \n",
      "2021-06-29 09:00:00  39971000.0  42180000.0  39810000.0  41528000.0   \n",
      "...                         ...         ...         ...         ...   \n",
      "2022-01-06 09:00:00  53854000.0  54300000.0  52388000.0  53239000.0   \n",
      "2022-01-07 09:00:00  53240000.0  53358000.0  50900000.0  51449000.0   \n",
      "2022-01-08 09:00:00  51449000.0  52709000.0  50829000.0  52142000.0   \n",
      "2022-01-09 09:00:00  52142000.0  52600000.0  51144000.0  51678000.0   \n",
      "2022-01-10 09:00:00  51672000.0  51979000.0  51441000.0  51950000.0   \n",
      "\n",
      "                           volume         value  \n",
      "2021-06-25 09:00:00  14567.876361  5.655958e+11  \n",
      "2021-06-26 09:00:00  13300.236454  4.875955e+11  \n",
      "2021-06-27 09:00:00  12422.201350  4.774966e+11  \n",
      "2021-06-28 09:00:00  12722.915503  5.074234e+11  \n",
      "2021-06-29 09:00:00  13195.494368  5.404886e+11  \n",
      "...                           ...           ...  \n",
      "2022-01-06 09:00:00   6389.079302  3.396310e+11  \n",
      "2022-01-07 09:00:00   7509.108093  3.895280e+11  \n",
      "2022-01-08 09:00:00   4171.096458  2.154237e+11  \n",
      "2022-01-09 09:00:00   3369.095090  1.748699e+11  \n",
      "2022-01-10 09:00:00    921.338235  4.764713e+10  \n",
      "\n",
      "[200 rows x 6 columns]\n"
     ]
    }
   ],
   "source": [
    "# 시가(open), 고가(high), 저가(low), 종가(close), 거래량(volume)은 기술적 분석에 사용되는 대표적인 지표\n",
    "import pyupbit\n",
    "\n",
    "df = pyupbit.get_ohlcv(\"KRW-BTC\")\n",
    "print(df)\n",
    "\n",
    "# get_ohlcv() 함수는 가상화폐의 티커를 입력받아 OHLCV 데이터를 판다스 DataFrame으로 반환"
   ]
  },
  {
   "cell_type": "code",
   "execution_count": 9,
   "id": "e9d65bd0",
   "metadata": {},
   "outputs": [
    {
     "name": "stdout",
     "output_type": "stream",
     "text": [
      "                           open        high         low       close  \\\n",
      "2017-12-03 09:00:00  12970000.0  13529000.0  12840000.0  13128000.0   \n",
      "2017-12-04 09:00:00  13120000.0  13688000.0  13119000.0  13684000.0   \n",
      "2017-12-05 09:00:00  13683000.0  14794000.0  13612000.0  14645000.0   \n",
      "2017-12-06 09:00:00  14645000.0  19006000.0  14645000.0  18390000.0   \n",
      "2017-12-07 09:00:00  18389000.0  23860000.0  17965000.0  23791000.0   \n",
      "...                         ...         ...         ...         ...   \n",
      "2022-01-06 09:00:00  53854000.0  54300000.0  52388000.0  53239000.0   \n",
      "2022-01-07 09:00:00  53240000.0  53358000.0  50900000.0  51449000.0   \n",
      "2022-01-08 09:00:00  51449000.0  52709000.0  50829000.0  52142000.0   \n",
      "2022-01-09 09:00:00  52142000.0  52600000.0  51144000.0  51678000.0   \n",
      "2022-01-10 09:00:00  51672000.0  51979000.0  51441000.0  51950000.0   \n",
      "\n",
      "                           volume         value  \n",
      "2017-12-03 09:00:00  26158.443220  3.426520e+11  \n",
      "2017-12-04 09:00:00  23034.669188  3.087941e+11  \n",
      "2017-12-05 09:00:00  27842.824832  3.933544e+11  \n",
      "2017-12-06 09:00:00  46874.815723  7.644868e+11  \n",
      "2017-12-07 09:00:00  55171.056944  1.118270e+12  \n",
      "...                           ...           ...  \n",
      "2022-01-06 09:00:00   6389.079302  3.396310e+11  \n",
      "2022-01-07 09:00:00   7509.108093  3.895280e+11  \n",
      "2022-01-08 09:00:00   4171.096458  2.154237e+11  \n",
      "2022-01-09 09:00:00   3369.095090  1.748699e+11  \n",
      "2022-01-10 09:00:00    921.338235  4.764713e+10  \n",
      "\n",
      "[1500 rows x 6 columns]\n"
     ]
    }
   ],
   "source": [
    "# count 옵션은 가져오려는 데이터의 개수를 지정하는 데 사용\n",
    "# 최근 1000일간의 데이터 조회\n",
    "df = pyupbit.get_ohlcv(\"KRW-BTC\", count=1500)\n",
    "print(df)"
   ]
  },
  {
   "cell_type": "code",
   "execution_count": 10,
   "id": "7c0173fe",
   "metadata": {},
   "outputs": [
    {
     "name": "stdout",
     "output_type": "stream",
     "text": [
      "                           open        high         low       close    volume  \\\n",
      "2022-01-10 10:36:00  51599000.0  51607000.0  51578000.0  51600000.0  1.279330   \n",
      "2022-01-10 10:37:00  51605000.0  51605000.0  51586000.0  51597000.0  2.152934   \n",
      "2022-01-10 10:38:00  51598000.0  51614000.0  51597000.0  51614000.0  1.965364   \n",
      "2022-01-10 10:39:00  51615000.0  51632000.0  51599000.0  51600000.0  0.759323   \n",
      "2022-01-10 10:40:00  51632000.0  51632000.0  51599000.0  51600000.0  1.103183   \n",
      "...                         ...         ...         ...         ...       ...   \n",
      "2022-01-10 13:51:00  51963000.0  51973000.0  51947000.0  51969000.0  1.553195   \n",
      "2022-01-10 13:52:00  51967000.0  51969000.0  51960000.0  51961000.0  1.522976   \n",
      "2022-01-10 13:53:00  51960000.0  51961000.0  51938000.0  51956000.0  1.671941   \n",
      "2022-01-10 13:54:00  51956000.0  51961000.0  51945000.0  51953000.0  2.442717   \n",
      "2022-01-10 13:55:00  51950000.0  51950000.0  51947000.0  51950000.0  0.185117   \n",
      "\n",
      "                            value  \n",
      "2022-01-10 10:36:00  6.600929e+07  \n",
      "2022-01-10 10:37:00  1.110880e+08  \n",
      "2022-01-10 10:38:00  1.014177e+08  \n",
      "2022-01-10 10:39:00  3.918651e+07  \n",
      "2022-01-10 10:40:00  5.692856e+07  \n",
      "...                           ...  \n",
      "2022-01-10 13:51:00  8.069917e+07  \n",
      "2022-01-10 13:52:00  7.913852e+07  \n",
      "2022-01-10 13:53:00  8.685362e+07  \n",
      "2022-01-10 13:54:00  1.269137e+08  \n",
      "2022-01-10 13:55:00  9.616691e+06  \n",
      "\n",
      "[200 rows x 6 columns]\n"
     ]
    }
   ],
   "source": [
    "# get_ohlcv() 함수의 interval 옵션으로 월/주/일/분봉 중 하나를 선택\n",
    "# interval을 입력하지 않은 경우에는 내부적으로 일봉이 선택\n",
    "# 원화 시장에서 비트코인의 분봉\n",
    "df_m = pyupbit.get_ohlcv(\"KRW-BTC\", interval=\"minute1\")\n",
    "print(df_m)"
   ]
  },
  {
   "cell_type": "code",
   "execution_count": 11,
   "id": "45ab3dad",
   "metadata": {},
   "outputs": [
    {
     "data": {
      "text/html": [
       "<div>\n",
       "<style scoped>\n",
       "    .dataframe tbody tr th:only-of-type {\n",
       "        vertical-align: middle;\n",
       "    }\n",
       "\n",
       "    .dataframe tbody tr th {\n",
       "        vertical-align: top;\n",
       "    }\n",
       "\n",
       "    .dataframe thead th {\n",
       "        text-align: right;\n",
       "    }\n",
       "</style>\n",
       "<table border=\"1\" class=\"dataframe\">\n",
       "  <thead>\n",
       "    <tr style=\"text-align: right;\">\n",
       "      <th></th>\n",
       "      <th>open</th>\n",
       "      <th>high</th>\n",
       "      <th>low</th>\n",
       "      <th>close</th>\n",
       "      <th>volume</th>\n",
       "      <th>value</th>\n",
       "    </tr>\n",
       "  </thead>\n",
       "  <tbody>\n",
       "    <tr>\n",
       "      <th>2017-12-03 09:00:00</th>\n",
       "      <td>12970000.0</td>\n",
       "      <td>13529000.0</td>\n",
       "      <td>12840000.0</td>\n",
       "      <td>13128000.0</td>\n",
       "      <td>26158.443220</td>\n",
       "      <td>3.426520e+11</td>\n",
       "    </tr>\n",
       "    <tr>\n",
       "      <th>2017-12-04 09:00:00</th>\n",
       "      <td>13120000.0</td>\n",
       "      <td>13688000.0</td>\n",
       "      <td>13119000.0</td>\n",
       "      <td>13684000.0</td>\n",
       "      <td>23034.669188</td>\n",
       "      <td>3.087941e+11</td>\n",
       "    </tr>\n",
       "  </tbody>\n",
       "</table>\n",
       "</div>"
      ],
      "text/plain": [
       "                           open        high         low       close  \\\n",
       "2017-12-03 09:00:00  12970000.0  13529000.0  12840000.0  13128000.0   \n",
       "2017-12-04 09:00:00  13120000.0  13688000.0  13119000.0  13684000.0   \n",
       "\n",
       "                           volume         value  \n",
       "2017-12-03 09:00:00  26158.443220  3.426520e+11  \n",
       "2017-12-04 09:00:00  23034.669188  3.087941e+11  "
      ]
     },
     "execution_count": 11,
     "metadata": {},
     "output_type": "execute_result"
    }
   ],
   "source": [
    "df.head(2)"
   ]
  },
  {
   "cell_type": "code",
   "execution_count": 12,
   "id": "ca3a789f",
   "metadata": {},
   "outputs": [
    {
     "data": {
      "text/html": [
       "<div>\n",
       "<style scoped>\n",
       "    .dataframe tbody tr th:only-of-type {\n",
       "        vertical-align: middle;\n",
       "    }\n",
       "\n",
       "    .dataframe tbody tr th {\n",
       "        vertical-align: top;\n",
       "    }\n",
       "\n",
       "    .dataframe thead th {\n",
       "        text-align: right;\n",
       "    }\n",
       "</style>\n",
       "<table border=\"1\" class=\"dataframe\">\n",
       "  <thead>\n",
       "    <tr style=\"text-align: right;\">\n",
       "      <th></th>\n",
       "      <th>index</th>\n",
       "      <th>open</th>\n",
       "      <th>high</th>\n",
       "      <th>low</th>\n",
       "      <th>close</th>\n",
       "      <th>volume</th>\n",
       "      <th>value</th>\n",
       "    </tr>\n",
       "  </thead>\n",
       "  <tbody>\n",
       "    <tr>\n",
       "      <th>0</th>\n",
       "      <td>2017-12-03 09:00:00</td>\n",
       "      <td>12970000.0</td>\n",
       "      <td>13529000.0</td>\n",
       "      <td>12840000.0</td>\n",
       "      <td>13128000.0</td>\n",
       "      <td>26158.443220</td>\n",
       "      <td>3.426520e+11</td>\n",
       "    </tr>\n",
       "    <tr>\n",
       "      <th>1</th>\n",
       "      <td>2017-12-04 09:00:00</td>\n",
       "      <td>13120000.0</td>\n",
       "      <td>13688000.0</td>\n",
       "      <td>13119000.0</td>\n",
       "      <td>13684000.0</td>\n",
       "      <td>23034.669188</td>\n",
       "      <td>3.087941e+11</td>\n",
       "    </tr>\n",
       "  </tbody>\n",
       "</table>\n",
       "</div>"
      ],
      "text/plain": [
       "                index        open        high         low       close  \\\n",
       "0 2017-12-03 09:00:00  12970000.0  13529000.0  12840000.0  13128000.0   \n",
       "1 2017-12-04 09:00:00  13120000.0  13688000.0  13119000.0  13684000.0   \n",
       "\n",
       "         volume         value  \n",
       "0  26158.443220  3.426520e+11  \n",
       "1  23034.669188  3.087941e+11  "
      ]
     },
     "execution_count": 12,
     "metadata": {},
     "output_type": "execute_result"
    }
   ],
   "source": [
    "df = df.reset_index()\n",
    "df.head(2)"
   ]
  },
  {
   "cell_type": "code",
   "execution_count": 13,
   "id": "c6903f25",
   "metadata": {},
   "outputs": [
    {
     "data": {
      "text/html": [
       "<div>\n",
       "<style scoped>\n",
       "    .dataframe tbody tr th:only-of-type {\n",
       "        vertical-align: middle;\n",
       "    }\n",
       "\n",
       "    .dataframe tbody tr th {\n",
       "        vertical-align: top;\n",
       "    }\n",
       "\n",
       "    .dataframe thead th {\n",
       "        text-align: right;\n",
       "    }\n",
       "</style>\n",
       "<table border=\"1\" class=\"dataframe\">\n",
       "  <thead>\n",
       "    <tr style=\"text-align: right;\">\n",
       "      <th></th>\n",
       "      <th>timestamp</th>\n",
       "      <th>open</th>\n",
       "      <th>high</th>\n",
       "      <th>low</th>\n",
       "      <th>close</th>\n",
       "      <th>volume</th>\n",
       "      <th>value</th>\n",
       "    </tr>\n",
       "  </thead>\n",
       "  <tbody>\n",
       "    <tr>\n",
       "      <th>0</th>\n",
       "      <td>2017-12-03 09:00:00</td>\n",
       "      <td>12970000.0</td>\n",
       "      <td>13529000.0</td>\n",
       "      <td>12840000.0</td>\n",
       "      <td>13128000.0</td>\n",
       "      <td>26158.443220</td>\n",
       "      <td>3.426520e+11</td>\n",
       "    </tr>\n",
       "    <tr>\n",
       "      <th>1</th>\n",
       "      <td>2017-12-04 09:00:00</td>\n",
       "      <td>13120000.0</td>\n",
       "      <td>13688000.0</td>\n",
       "      <td>13119000.0</td>\n",
       "      <td>13684000.0</td>\n",
       "      <td>23034.669188</td>\n",
       "      <td>3.087941e+11</td>\n",
       "    </tr>\n",
       "  </tbody>\n",
       "</table>\n",
       "</div>"
      ],
      "text/plain": [
       "            timestamp        open        high         low       close  \\\n",
       "0 2017-12-03 09:00:00  12970000.0  13529000.0  12840000.0  13128000.0   \n",
       "1 2017-12-04 09:00:00  13120000.0  13688000.0  13119000.0  13684000.0   \n",
       "\n",
       "         volume         value  \n",
       "0  26158.443220  3.426520e+11  \n",
       "1  23034.669188  3.087941e+11  "
      ]
     },
     "execution_count": 13,
     "metadata": {},
     "output_type": "execute_result"
    }
   ],
   "source": [
    "df = df.rename(columns={'index':'timestamp'})\n",
    "df.head(2)"
   ]
  },
  {
   "cell_type": "code",
   "execution_count": 14,
   "id": "189fac19",
   "metadata": {},
   "outputs": [],
   "source": [
    "df.to_csv(\"KRW-BTC_OHLCV.csv\",index = False)"
   ]
  },
  {
   "cell_type": "code",
   "execution_count": 15,
   "id": "58bb4f68",
   "metadata": {},
   "outputs": [],
   "source": [
    "import pandas as pd\n",
    "df = pd.read_csv(\"KRW-BTC_OHLCV.csv\")"
   ]
  },
  {
   "cell_type": "code",
   "execution_count": 16,
   "id": "873bcfcb",
   "metadata": {},
   "outputs": [
    {
     "data": {
      "text/html": [
       "<div>\n",
       "<style scoped>\n",
       "    .dataframe tbody tr th:only-of-type {\n",
       "        vertical-align: middle;\n",
       "    }\n",
       "\n",
       "    .dataframe tbody tr th {\n",
       "        vertical-align: top;\n",
       "    }\n",
       "\n",
       "    .dataframe thead th {\n",
       "        text-align: right;\n",
       "    }\n",
       "</style>\n",
       "<table border=\"1\" class=\"dataframe\">\n",
       "  <thead>\n",
       "    <tr style=\"text-align: right;\">\n",
       "      <th></th>\n",
       "      <th>timestamp</th>\n",
       "      <th>open</th>\n",
       "      <th>high</th>\n",
       "      <th>low</th>\n",
       "      <th>close</th>\n",
       "      <th>volume</th>\n",
       "      <th>value</th>\n",
       "    </tr>\n",
       "  </thead>\n",
       "  <tbody>\n",
       "    <tr>\n",
       "      <th>0</th>\n",
       "      <td>2017-12-03 09:00:00</td>\n",
       "      <td>12970000.0</td>\n",
       "      <td>13529000.0</td>\n",
       "      <td>12840000.0</td>\n",
       "      <td>13128000.0</td>\n",
       "      <td>26158.443220</td>\n",
       "      <td>3.426520e+11</td>\n",
       "    </tr>\n",
       "    <tr>\n",
       "      <th>1</th>\n",
       "      <td>2017-12-04 09:00:00</td>\n",
       "      <td>13120000.0</td>\n",
       "      <td>13688000.0</td>\n",
       "      <td>13119000.0</td>\n",
       "      <td>13684000.0</td>\n",
       "      <td>23034.669188</td>\n",
       "      <td>3.087941e+11</td>\n",
       "    </tr>\n",
       "    <tr>\n",
       "      <th>2</th>\n",
       "      <td>2017-12-05 09:00:00</td>\n",
       "      <td>13683000.0</td>\n",
       "      <td>14794000.0</td>\n",
       "      <td>13612000.0</td>\n",
       "      <td>14645000.0</td>\n",
       "      <td>27842.824832</td>\n",
       "      <td>3.933544e+11</td>\n",
       "    </tr>\n",
       "    <tr>\n",
       "      <th>3</th>\n",
       "      <td>2017-12-06 09:00:00</td>\n",
       "      <td>14645000.0</td>\n",
       "      <td>19006000.0</td>\n",
       "      <td>14645000.0</td>\n",
       "      <td>18390000.0</td>\n",
       "      <td>46874.815723</td>\n",
       "      <td>7.644868e+11</td>\n",
       "    </tr>\n",
       "    <tr>\n",
       "      <th>4</th>\n",
       "      <td>2017-12-07 09:00:00</td>\n",
       "      <td>18389000.0</td>\n",
       "      <td>23860000.0</td>\n",
       "      <td>17965000.0</td>\n",
       "      <td>23791000.0</td>\n",
       "      <td>55171.056944</td>\n",
       "      <td>1.118270e+12</td>\n",
       "    </tr>\n",
       "    <tr>\n",
       "      <th>...</th>\n",
       "      <td>...</td>\n",
       "      <td>...</td>\n",
       "      <td>...</td>\n",
       "      <td>...</td>\n",
       "      <td>...</td>\n",
       "      <td>...</td>\n",
       "      <td>...</td>\n",
       "    </tr>\n",
       "    <tr>\n",
       "      <th>1495</th>\n",
       "      <td>2022-01-06 09:00:00</td>\n",
       "      <td>53854000.0</td>\n",
       "      <td>54300000.0</td>\n",
       "      <td>52388000.0</td>\n",
       "      <td>53239000.0</td>\n",
       "      <td>6389.079302</td>\n",
       "      <td>3.396310e+11</td>\n",
       "    </tr>\n",
       "    <tr>\n",
       "      <th>1496</th>\n",
       "      <td>2022-01-07 09:00:00</td>\n",
       "      <td>53240000.0</td>\n",
       "      <td>53358000.0</td>\n",
       "      <td>50900000.0</td>\n",
       "      <td>51449000.0</td>\n",
       "      <td>7509.108093</td>\n",
       "      <td>3.895280e+11</td>\n",
       "    </tr>\n",
       "    <tr>\n",
       "      <th>1497</th>\n",
       "      <td>2022-01-08 09:00:00</td>\n",
       "      <td>51449000.0</td>\n",
       "      <td>52709000.0</td>\n",
       "      <td>50829000.0</td>\n",
       "      <td>52142000.0</td>\n",
       "      <td>4171.096458</td>\n",
       "      <td>2.154237e+11</td>\n",
       "    </tr>\n",
       "    <tr>\n",
       "      <th>1498</th>\n",
       "      <td>2022-01-09 09:00:00</td>\n",
       "      <td>52142000.0</td>\n",
       "      <td>52600000.0</td>\n",
       "      <td>51144000.0</td>\n",
       "      <td>51678000.0</td>\n",
       "      <td>3369.095090</td>\n",
       "      <td>1.748699e+11</td>\n",
       "    </tr>\n",
       "    <tr>\n",
       "      <th>1499</th>\n",
       "      <td>2022-01-10 09:00:00</td>\n",
       "      <td>51672000.0</td>\n",
       "      <td>51979000.0</td>\n",
       "      <td>51441000.0</td>\n",
       "      <td>51950000.0</td>\n",
       "      <td>921.338235</td>\n",
       "      <td>4.764713e+10</td>\n",
       "    </tr>\n",
       "  </tbody>\n",
       "</table>\n",
       "<p>1500 rows × 7 columns</p>\n",
       "</div>"
      ],
      "text/plain": [
       "                timestamp        open        high         low       close  \\\n",
       "0     2017-12-03 09:00:00  12970000.0  13529000.0  12840000.0  13128000.0   \n",
       "1     2017-12-04 09:00:00  13120000.0  13688000.0  13119000.0  13684000.0   \n",
       "2     2017-12-05 09:00:00  13683000.0  14794000.0  13612000.0  14645000.0   \n",
       "3     2017-12-06 09:00:00  14645000.0  19006000.0  14645000.0  18390000.0   \n",
       "4     2017-12-07 09:00:00  18389000.0  23860000.0  17965000.0  23791000.0   \n",
       "...                   ...         ...         ...         ...         ...   \n",
       "1495  2022-01-06 09:00:00  53854000.0  54300000.0  52388000.0  53239000.0   \n",
       "1496  2022-01-07 09:00:00  53240000.0  53358000.0  50900000.0  51449000.0   \n",
       "1497  2022-01-08 09:00:00  51449000.0  52709000.0  50829000.0  52142000.0   \n",
       "1498  2022-01-09 09:00:00  52142000.0  52600000.0  51144000.0  51678000.0   \n",
       "1499  2022-01-10 09:00:00  51672000.0  51979000.0  51441000.0  51950000.0   \n",
       "\n",
       "            volume         value  \n",
       "0     26158.443220  3.426520e+11  \n",
       "1     23034.669188  3.087941e+11  \n",
       "2     27842.824832  3.933544e+11  \n",
       "3     46874.815723  7.644868e+11  \n",
       "4     55171.056944  1.118270e+12  \n",
       "...            ...           ...  \n",
       "1495   6389.079302  3.396310e+11  \n",
       "1496   7509.108093  3.895280e+11  \n",
       "1497   4171.096458  2.154237e+11  \n",
       "1498   3369.095090  1.748699e+11  \n",
       "1499    921.338235  4.764713e+10  \n",
       "\n",
       "[1500 rows x 7 columns]"
      ]
     },
     "execution_count": 16,
     "metadata": {},
     "output_type": "execute_result"
    }
   ],
   "source": [
    "df"
   ]
  },
  {
   "cell_type": "code",
   "execution_count": 17,
   "id": "0e10babd",
   "metadata": {},
   "outputs": [
    {
     "name": "stdout",
     "output_type": "stream",
     "text": [
      "{'ty': 'ticker', 'cd': 'KRW-BTC', 'op': 51672000.0, 'hp': 51979000.0, 'lp': 51441000.0, 'tp': 51950000.0, 'pcp': 51678000.0, 'atp': 47649731458.19178, 'c': 'RISE', 'cp': 272000.0, 'scp': 272000.0, 'cr': 0.0052633616, 'scr': 0.0052633616, 'ab': 'ASK', 'tv': 0.0035577, 'atv': 921.38823451, 'tdt': '20220110', 'ttm': '045513', 'ttms': 1641790513000, 'aav': 432.03396469, 'abv': 489.35426982, 'h52wp': 82700000.0, 'h52wdt': '2021-11-09', 'l52wp': 31662000.0, 'l52wdt': '2021-01-22', 'ms': 'ACTIVE', 'its': False, 'dd': None, 'mw': 'NONE', 'tms': 1641790513726, 'atp24h': 177159672330.5687, 'atv24h': 3419.77158543, 'st': 'REALTIME'}\n",
      "{'ty': 'ticker', 'cd': 'KRW-BTC', 'op': 51672000.0, 'hp': 51979000.0, 'lp': 51441000.0, 'tp': 51947000.0, 'pcp': 51678000.0, 'atp': 47650243244.19154, 'c': 'RISE', 'cp': 269000.0, 'scp': 269000.0, 'cr': 0.0052053098, 'scr': 0.0052053098, 'ab': 'ASK', 'tv': 0.00985208, 'atv': 921.39808659, 'tdt': '20220110', 'ttm': '045513', 'ttms': 1641790513000, 'aav': 432.04381677, 'abv': 489.35426982, 'h52wp': 82700000.0, 'h52wdt': '2021-11-09', 'l52wp': 31662000.0, 'l52wdt': '2021-01-22', 'ms': 'ACTIVE', 'its': False, 'dd': None, 'mw': 'NONE', 'tms': 1641790513727, 'atp24h': 177159672330.5687, 'atv24h': 3419.77158543, 'st': 'REALTIME'}\n",
      "{'ty': 'ticker', 'cd': 'KRW-BTC', 'op': 51672000.0, 'hp': 51979000.0, 'lp': 51441000.0, 'tp': 51948000.0, 'pcp': 51678000.0, 'atp': 47651345945.94598, 'c': 'RISE', 'cp': 270000.0, 'scp': 270000.0, 'cr': 0.0052246604, 'scr': 0.0052246604, 'ab': 'ASK', 'tv': 0.02122703, 'atv': 921.41931362, 'tdt': '20220110', 'ttm': '045513', 'ttms': 1641790513000, 'aav': 432.0650438, 'abv': 489.35426982, 'h52wp': 82700000.0, 'h52wdt': '2021-11-09', 'l52wp': 31662000.0, 'l52wdt': '2021-01-22', 'ms': 'ACTIVE', 'its': False, 'dd': None, 'mw': 'NONE', 'tms': 1641790513727, 'atp24h': 177159672330.5687, 'atv24h': 3419.77158543, 'st': 'REALTIME'}\n",
      "{'ty': 'ticker', 'cd': 'KRW-BTC', 'op': 51672000.0, 'hp': 51979000.0, 'lp': 51441000.0, 'tp': 51947000.0, 'pcp': 51678000.0, 'atp': 47651356335.34598, 'c': 'RISE', 'cp': 269000.0, 'scp': 269000.0, 'cr': 0.0052053098, 'scr': 0.0052053098, 'ab': 'ASK', 'tv': 0.0002, 'atv': 921.41951362, 'tdt': '20220110', 'ttm': '045513', 'ttms': 1641790513000, 'aav': 432.0652438, 'abv': 489.35426982, 'h52wp': 82700000.0, 'h52wdt': '2021-11-09', 'l52wp': 31662000.0, 'l52wdt': '2021-01-22', 'ms': 'ACTIVE', 'its': False, 'dd': None, 'mw': 'NONE', 'tms': 1641790513727, 'atp24h': 177159672330.5687, 'atv24h': 3419.77158543, 'st': 'REALTIME'}\n",
      "{'ty': 'ticker', 'cd': 'KRW-BTC', 'op': 51672000.0, 'hp': 51979000.0, 'lp': 51441000.0, 'tp': 51947000.0, 'pcp': 51678000.0, 'atp': 47651503199.90438, 'c': 'RISE', 'cp': 269000.0, 'scp': 269000.0, 'cr': 0.0052053098, 'scr': 0.0052053098, 'ab': 'ASK', 'tv': 0.0028272, 'atv': 921.42234082, 'tdt': '20220110', 'ttm': '045513', 'ttms': 1641790513000, 'aav': 432.068071, 'abv': 489.35426982, 'h52wp': 82700000.0, 'h52wdt': '2021-11-09', 'l52wp': 31662000.0, 'l52wdt': '2021-01-22', 'ms': 'ACTIVE', 'its': False, 'dd': None, 'mw': 'NONE', 'tms': 1641790513727, 'atp24h': 177159672330.5687, 'atv24h': 3419.77158543, 'st': 'REALTIME'}\n",
      "{'ty': 'ticker', 'cd': 'KRW-BTC', 'op': 51672000.0, 'hp': 51979000.0, 'lp': 51441000.0, 'tp': 51947000.0, 'pcp': 51678000.0, 'atp': 47654221796.28026, 'c': 'RISE', 'cp': 269000.0, 'scp': 269000.0, 'cr': 0.0052053098, 'scr': 0.0052053098, 'ab': 'ASK', 'tv': 0.05233404, 'atv': 921.47467486, 'tdt': '20220110', 'ttm': '045513', 'ttms': 1641790513000, 'aav': 432.12040504, 'abv': 489.35426982, 'h52wp': 82700000.0, 'h52wdt': '2021-11-09', 'l52wp': 31662000.0, 'l52wdt': '2021-01-22', 'ms': 'ACTIVE', 'its': False, 'dd': None, 'mw': 'NONE', 'tms': 1641790513727, 'atp24h': 177159672330.5687, 'atv24h': 3419.77158543, 'st': 'REALTIME'}\n",
      "{'ty': 'ticker', 'cd': 'KRW-BTC', 'op': 51672000.0, 'hp': 51979000.0, 'lp': 51441000.0, 'tp': 51947000.0, 'pcp': 51678000.0, 'atp': 47654321795.81367, 'c': 'RISE', 'cp': 269000.0, 'scp': 269000.0, 'cr': 0.0052053098, 'scr': 0.0052053098, 'ab': 'ASK', 'tv': 0.00192503, 'atv': 921.47659989, 'tdt': '20220110', 'ttm': '045513', 'ttms': 1641790513000, 'aav': 432.12233007, 'abv': 489.35426982, 'h52wp': 82700000.0, 'h52wdt': '2021-11-09', 'l52wp': 31662000.0, 'l52wdt': '2021-01-22', 'ms': 'ACTIVE', 'its': False, 'dd': None, 'mw': 'NONE', 'tms': 1641790513727, 'atp24h': 177159672330.5687, 'atv24h': 3419.77158543, 'st': 'REALTIME'}\n",
      "{'ty': 'ticker', 'cd': 'KRW-BTC', 'op': 51672000.0, 'hp': 51979000.0, 'lp': 51441000.0, 'tp': 51947000.0, 'pcp': 51678000.0, 'atp': 47657456798.30261, 'c': 'RISE', 'cp': 269000.0, 'scp': 269000.0, 'cr': 0.0052053098, 'scr': 0.0052053098, 'ab': 'ASK', 'tv': 0.06035002, 'atv': 921.53694991, 'tdt': '20220110', 'ttm': '045513', 'ttms': 1641790513000, 'aav': 432.18268009, 'abv': 489.35426982, 'h52wp': 82700000.0, 'h52wdt': '2021-11-09', 'l52wp': 31662000.0, 'l52wdt': '2021-01-22', 'ms': 'ACTIVE', 'its': False, 'dd': None, 'mw': 'NONE', 'tms': 1641790513727, 'atp24h': 177159672330.5687, 'atv24h': 3419.77158543, 'st': 'REALTIME'}\n",
      "{'ty': 'ticker', 'cd': 'KRW-BTC', 'op': 51672000.0, 'hp': 51979000.0, 'lp': 51441000.0, 'tp': 51946000.0, 'pcp': 51678000.0, 'atp': 47658214509.15107, 'c': 'RISE', 'cp': 268000.0, 'scp': 268000.0, 'cr': 0.0051859592, 'scr': 0.0051859592, 'ab': 'ASK', 'tv': 0.01458651, 'atv': 921.55153642, 'tdt': '20220110', 'ttm': '045518', 'ttms': 1641790518000, 'aav': 432.1972666, 'abv': 489.35426982, 'h52wp': 82700000.0, 'h52wdt': '2021-11-09', 'l52wp': 31662000.0, 'l52wdt': '2021-01-22', 'ms': 'ACTIVE', 'its': False, 'dd': None, 'mw': 'NONE', 'tms': 1641790518220, 'atp24h': 177159672330.5687, 'atv24h': 3419.77158543, 'st': 'REALTIME'}\n",
      "{'ty': 'ticker', 'cd': 'KRW-BTC', 'op': 51672000.0, 'hp': 51979000.0, 'lp': 51441000.0, 'tp': 51947000.0, 'pcp': 51678000.0, 'atp': 47658976697.87228, 'c': 'RISE', 'cp': 269000.0, 'scp': 269000.0, 'cr': 0.0052053098, 'scr': 0.0052053098, 'ab': 'BID', 'tv': 0.01467243, 'atv': 921.56620885, 'tdt': '20220110', 'ttm': '045520', 'ttms': 1641790520000, 'aav': 432.1972666, 'abv': 489.36894225, 'h52wp': 82700000.0, 'h52wdt': '2021-11-09', 'l52wp': 31662000.0, 'l52wdt': '2021-01-22', 'ms': 'ACTIVE', 'its': False, 'dd': None, 'mw': 'NONE', 'tms': 1641790520921, 'atp24h': 177159672330.5687, 'atv24h': 3419.77158543, 'st': 'REALTIME'}\n",
      "{'ty': 'ticker', 'cd': 'KRW-BTC', 'op': 51672000.0, 'hp': 51979000.0, 'lp': 51441000.0, 'tp': 51947000.0, 'pcp': 51678000.0, 'atp': 47659874763.84192, 'c': 'RISE', 'cp': 269000.0, 'scp': 269000.0, 'cr': 0.0052053098, 'scr': 0.0052053098, 'ab': 'BID', 'tv': 0.01728812, 'atv': 921.58349697, 'tdt': '20220110', 'ttm': '045522', 'ttms': 1641790522000, 'aav': 432.1972666, 'abv': 489.38623037, 'h52wp': 82700000.0, 'h52wdt': '2021-11-09', 'l52wp': 31662000.0, 'l52wdt': '2021-01-22', 'ms': 'ACTIVE', 'its': False, 'dd': None, 'mw': 'NONE', 'tms': 1641790522408, 'atp24h': 177159672330.5687, 'atv24h': 3419.77158543, 'st': 'REALTIME'}\n",
      "{'ty': 'ticker', 'cd': 'KRW-BTC', 'op': 51672000.0, 'hp': 51979000.0, 'lp': 51441000.0, 'tp': 51946000.0, 'pcp': 51678000.0, 'atp': 47659950534.87482, 'c': 'RISE', 'cp': 268000.0, 'scp': 268000.0, 'cr': 0.0051859592, 'scr': 0.0051859592, 'ab': 'ASK', 'tv': 0.00145865, 'atv': 921.58495562, 'tdt': '20220110', 'ttm': '045524', 'ttms': 1641790524000, 'aav': 432.19872525, 'abv': 489.38623037, 'h52wp': 82700000.0, 'h52wdt': '2021-11-09', 'l52wp': 31662000.0, 'l52wdt': '2021-01-22', 'ms': 'ACTIVE', 'its': False, 'dd': None, 'mw': 'NONE', 'tms': 1641790524416, 'atp24h': 177159672330.5687, 'atv24h': 3419.77158543, 'st': 'REALTIME'}\n",
      "{'ty': 'ticker', 'cd': 'KRW-BTC', 'op': 51672000.0, 'hp': 51979000.0, 'lp': 51441000.0, 'tp': 51946000.0, 'pcp': 51678000.0, 'atp': 47659955560.65032, 'c': 'RISE', 'cp': 268000.0, 'scp': 268000.0, 'cr': 0.0051859592, 'scr': 0.0051859592, 'ab': 'ASK', 'tv': 9.675e-05, 'atv': 921.58505237, 'tdt': '20220110', 'ttm': '045526', 'ttms': 1641790526000, 'aav': 432.198822, 'abv': 489.38623037, 'h52wp': 82700000.0, 'h52wdt': '2021-11-09', 'l52wp': 31662000.0, 'l52wdt': '2021-01-22', 'ms': 'ACTIVE', 'its': False, 'dd': None, 'mw': 'NONE', 'tms': 1641790526812, 'atp24h': 177159672330.5687, 'atv24h': 3419.77158543, 'st': 'REALTIME'}\n",
      "{'ty': 'ticker', 'cd': 'KRW-BTC', 'op': 51672000.0, 'hp': 51979000.0, 'lp': 51441000.0, 'tp': 51946000.0, 'pcp': 51678000.0, 'atp': 47660144076.84, 'c': 'RISE', 'cp': 268000.0, 'scp': 268000.0, 'cr': 0.0051859592, 'scr': 0.0051859592, 'ab': 'ASK', 'tv': 0.00362908, 'atv': 921.58868145, 'tdt': '20220110', 'ttm': '045527', 'ttms': 1641790527000, 'aav': 432.20245108, 'abv': 489.38623037, 'h52wp': 82700000.0, 'h52wdt': '2021-11-09', 'l52wp': 31662000.0, 'l52wdt': '2021-01-22', 'ms': 'ACTIVE', 'its': False, 'dd': None, 'mw': 'NONE', 'tms': 1641790527508, 'atp24h': 177159672330.5687, 'atv24h': 3419.77158543, 'st': 'REALTIME'}\n",
      "{'ty': 'ticker', 'cd': 'KRW-BTC', 'op': 51672000.0, 'hp': 51979000.0, 'lp': 51441000.0, 'tp': 51946000.0, 'pcp': 51678000.0, 'atp': 47660880774.49254, 'c': 'RISE', 'cp': 268000.0, 'scp': 268000.0, 'cr': 0.0051859592, 'scr': 0.0051859592, 'ab': 'ASK', 'tv': 0.01418199, 'atv': 921.60286344, 'tdt': '20220110', 'ttm': '045527', 'ttms': 1641790527000, 'aav': 432.21663307, 'abv': 489.38623037, 'h52wp': 82700000.0, 'h52wdt': '2021-11-09', 'l52wp': 31662000.0, 'l52wdt': '2021-01-22', 'ms': 'ACTIVE', 'its': False, 'dd': None, 'mw': 'NONE', 'tms': 1641790527509, 'atp24h': 177159672330.5687, 'atv24h': 3419.77158543, 'st': 'REALTIME'}\n"
     ]
    },
    {
     "ename": "CancelledError",
     "evalue": "",
     "output_type": "error",
     "traceback": [
      "\u001b[0;31m---------------------------------------------------------------------------\u001b[0m",
      "\u001b[0;31mCancelledError\u001b[0m                            Traceback (most recent call last)",
      "\u001b[0;32m<ipython-input-17-38da21fa58e1>\u001b[0m in \u001b[0;36m<module>\u001b[0;34m\u001b[0m\n\u001b[1;32m     28\u001b[0m      \u001b[0;32mawait\u001b[0m \u001b[0mupbit_ws_client\u001b[0m\u001b[0;34m(\u001b[0m\u001b[0;34m)\u001b[0m\u001b[0;34m\u001b[0m\u001b[0;34m\u001b[0m\u001b[0m\n\u001b[1;32m     29\u001b[0m \u001b[0;34m\u001b[0m\u001b[0m\n\u001b[0;32m---> 30\u001b[0;31m \u001b[0;32mawait\u001b[0m \u001b[0mmain\u001b[0m\u001b[0;34m(\u001b[0m\u001b[0;34m)\u001b[0m\u001b[0;34m\u001b[0m\u001b[0;34m\u001b[0m\u001b[0m\n\u001b[0m\u001b[1;32m     31\u001b[0m \u001b[0;31m# asyncio.run(main())\u001b[0m\u001b[0;34m\u001b[0m\u001b[0;34m\u001b[0m\u001b[0;34m\u001b[0m\u001b[0m\n",
      "\u001b[0;32m<ipython-input-17-38da21fa58e1>\u001b[0m in \u001b[0;36mmain\u001b[0;34m()\u001b[0m\n\u001b[1;32m     26\u001b[0m \u001b[0;34m\u001b[0m\u001b[0m\n\u001b[1;32m     27\u001b[0m \u001b[0;32masync\u001b[0m \u001b[0;32mdef\u001b[0m \u001b[0mmain\u001b[0m\u001b[0;34m(\u001b[0m\u001b[0;34m)\u001b[0m\u001b[0;34m:\u001b[0m\u001b[0;34m\u001b[0m\u001b[0;34m\u001b[0m\u001b[0m\n\u001b[0;32m---> 28\u001b[0;31m      \u001b[0;32mawait\u001b[0m \u001b[0mupbit_ws_client\u001b[0m\u001b[0;34m(\u001b[0m\u001b[0;34m)\u001b[0m\u001b[0;34m\u001b[0m\u001b[0;34m\u001b[0m\u001b[0m\n\u001b[0m\u001b[1;32m     29\u001b[0m \u001b[0;34m\u001b[0m\u001b[0m\n\u001b[1;32m     30\u001b[0m \u001b[0;32mawait\u001b[0m \u001b[0mmain\u001b[0m\u001b[0;34m(\u001b[0m\u001b[0;34m)\u001b[0m\u001b[0;34m\u001b[0m\u001b[0;34m\u001b[0m\u001b[0m\n",
      "\u001b[0;32m<ipython-input-17-38da21fa58e1>\u001b[0m in \u001b[0;36mupbit_ws_client\u001b[0;34m()\u001b[0m\n\u001b[1;32m     20\u001b[0m \u001b[0;34m\u001b[0m\u001b[0m\n\u001b[1;32m     21\u001b[0m          \u001b[0;32mwhile\u001b[0m \u001b[0;32mTrue\u001b[0m\u001b[0;34m:\u001b[0m\u001b[0;34m\u001b[0m\u001b[0;34m\u001b[0m\u001b[0m\n\u001b[0;32m---> 22\u001b[0;31m              \u001b[0mdata\u001b[0m \u001b[0;34m=\u001b[0m \u001b[0;32mawait\u001b[0m \u001b[0mwebsocket\u001b[0m\u001b[0;34m.\u001b[0m\u001b[0mrecv\u001b[0m\u001b[0;34m(\u001b[0m\u001b[0;34m)\u001b[0m\u001b[0;34m\u001b[0m\u001b[0;34m\u001b[0m\u001b[0m\n\u001b[0m\u001b[1;32m     23\u001b[0m              \u001b[0mdata\u001b[0m \u001b[0;34m=\u001b[0m \u001b[0mjson\u001b[0m\u001b[0;34m.\u001b[0m\u001b[0mloads\u001b[0m\u001b[0;34m(\u001b[0m\u001b[0mdata\u001b[0m\u001b[0;34m)\u001b[0m\u001b[0;34m\u001b[0m\u001b[0;34m\u001b[0m\u001b[0m\n\u001b[1;32m     24\u001b[0m              \u001b[0mprint\u001b[0m\u001b[0;34m(\u001b[0m\u001b[0mdata\u001b[0m\u001b[0;34m)\u001b[0m\u001b[0;34m\u001b[0m\u001b[0;34m\u001b[0m\u001b[0m\n",
      "\u001b[0;32m/Applications/anaconda3/lib/python3.8/site-packages/websockets/legacy/protocol.py\u001b[0m in \u001b[0;36mrecv\u001b[0;34m(self)\u001b[0m\n\u001b[1;32m    402\u001b[0m                 \u001b[0;31m# If asyncio.wait() is canceled, it doesn't cancel\u001b[0m\u001b[0;34m\u001b[0m\u001b[0;34m\u001b[0m\u001b[0;34m\u001b[0m\u001b[0m\n\u001b[1;32m    403\u001b[0m                 \u001b[0;31m# pop_message_waiter and self.transfer_data_task.\u001b[0m\u001b[0;34m\u001b[0m\u001b[0;34m\u001b[0m\u001b[0;34m\u001b[0m\u001b[0m\n\u001b[0;32m--> 404\u001b[0;31m                 await asyncio.wait(\n\u001b[0m\u001b[1;32m    405\u001b[0m                     \u001b[0;34m[\u001b[0m\u001b[0mpop_message_waiter\u001b[0m\u001b[0;34m,\u001b[0m \u001b[0mself\u001b[0m\u001b[0;34m.\u001b[0m\u001b[0mtransfer_data_task\u001b[0m\u001b[0;34m]\u001b[0m\u001b[0;34m,\u001b[0m\u001b[0;34m\u001b[0m\u001b[0;34m\u001b[0m\u001b[0m\n\u001b[1;32m    406\u001b[0m                     \u001b[0mloop\u001b[0m\u001b[0;34m=\u001b[0m\u001b[0mself\u001b[0m\u001b[0;34m.\u001b[0m\u001b[0mloop\u001b[0m \u001b[0;32mif\u001b[0m \u001b[0msys\u001b[0m\u001b[0;34m.\u001b[0m\u001b[0mversion_info\u001b[0m\u001b[0;34m[\u001b[0m\u001b[0;34m:\u001b[0m\u001b[0;36m2\u001b[0m\u001b[0;34m]\u001b[0m \u001b[0;34m<\u001b[0m \u001b[0;34m(\u001b[0m\u001b[0;36m3\u001b[0m\u001b[0;34m,\u001b[0m \u001b[0;36m8\u001b[0m\u001b[0;34m)\u001b[0m \u001b[0;32melse\u001b[0m \u001b[0;32mNone\u001b[0m\u001b[0;34m,\u001b[0m\u001b[0;34m\u001b[0m\u001b[0;34m\u001b[0m\u001b[0m\n",
      "\u001b[0;32m/Applications/anaconda3/lib/python3.8/asyncio/tasks.py\u001b[0m in \u001b[0;36mwait\u001b[0;34m(fs, loop, timeout, return_when)\u001b[0m\n\u001b[1;32m    424\u001b[0m     \u001b[0mfs\u001b[0m \u001b[0;34m=\u001b[0m \u001b[0;34m{\u001b[0m\u001b[0mensure_future\u001b[0m\u001b[0;34m(\u001b[0m\u001b[0mf\u001b[0m\u001b[0;34m,\u001b[0m \u001b[0mloop\u001b[0m\u001b[0;34m=\u001b[0m\u001b[0mloop\u001b[0m\u001b[0;34m)\u001b[0m \u001b[0;32mfor\u001b[0m \u001b[0mf\u001b[0m \u001b[0;32min\u001b[0m \u001b[0mset\u001b[0m\u001b[0;34m(\u001b[0m\u001b[0mfs\u001b[0m\u001b[0;34m)\u001b[0m\u001b[0;34m}\u001b[0m\u001b[0;34m\u001b[0m\u001b[0;34m\u001b[0m\u001b[0m\n\u001b[1;32m    425\u001b[0m \u001b[0;34m\u001b[0m\u001b[0m\n\u001b[0;32m--> 426\u001b[0;31m     \u001b[0;32mreturn\u001b[0m \u001b[0;32mawait\u001b[0m \u001b[0m_wait\u001b[0m\u001b[0;34m(\u001b[0m\u001b[0mfs\u001b[0m\u001b[0;34m,\u001b[0m \u001b[0mtimeout\u001b[0m\u001b[0;34m,\u001b[0m \u001b[0mreturn_when\u001b[0m\u001b[0;34m,\u001b[0m \u001b[0mloop\u001b[0m\u001b[0;34m)\u001b[0m\u001b[0;34m\u001b[0m\u001b[0;34m\u001b[0m\u001b[0m\n\u001b[0m\u001b[1;32m    427\u001b[0m \u001b[0;34m\u001b[0m\u001b[0m\n\u001b[1;32m    428\u001b[0m \u001b[0;34m\u001b[0m\u001b[0m\n",
      "\u001b[0;32m/Applications/anaconda3/lib/python3.8/asyncio/tasks.py\u001b[0m in \u001b[0;36m_wait\u001b[0;34m(fs, timeout, return_when, loop)\u001b[0m\n\u001b[1;32m    532\u001b[0m \u001b[0;34m\u001b[0m\u001b[0m\n\u001b[1;32m    533\u001b[0m     \u001b[0;32mtry\u001b[0m\u001b[0;34m:\u001b[0m\u001b[0;34m\u001b[0m\u001b[0;34m\u001b[0m\u001b[0m\n\u001b[0;32m--> 534\u001b[0;31m         \u001b[0;32mawait\u001b[0m \u001b[0mwaiter\u001b[0m\u001b[0;34m\u001b[0m\u001b[0;34m\u001b[0m\u001b[0m\n\u001b[0m\u001b[1;32m    535\u001b[0m     \u001b[0;32mfinally\u001b[0m\u001b[0;34m:\u001b[0m\u001b[0;34m\u001b[0m\u001b[0;34m\u001b[0m\u001b[0m\n\u001b[1;32m    536\u001b[0m         \u001b[0;32mif\u001b[0m \u001b[0mtimeout_handle\u001b[0m \u001b[0;32mis\u001b[0m \u001b[0;32mnot\u001b[0m \u001b[0;32mNone\u001b[0m\u001b[0;34m:\u001b[0m\u001b[0;34m\u001b[0m\u001b[0;34m\u001b[0m\u001b[0m\n",
      "\u001b[0;31mCancelledError\u001b[0m: "
     ]
    }
   ],
   "source": [
    "import websockets\n",
    "import asyncio \n",
    "import json\n",
    "\n",
    "async def upbit_ws_client():\n",
    "     uri = \"wss://api.upbit.com/websocket/v1\"\n",
    " \n",
    "     async with websockets.connect(uri) as websocket:\n",
    "         subscribe_fmt = [ \n",
    "             {\"ticket\":\"test\"},\n",
    "             {\n",
    "                 \"type\": \"ticker\",\n",
    "                 \"codes\":[\"KRW-BTC\"],\n",
    "                 \"isOnlyRealtime\": True\n",
    "             },\n",
    "             {\"format\":\"SIMPLE\"}\n",
    "         ]\n",
    "         subscribe_data = json.dumps(subscribe_fmt)\n",
    "         await websocket.send(subscribe_data)\n",
    " \n",
    "         while True:\n",
    "             data = await websocket.recv()\n",
    "             data = json.loads(data)\n",
    "             print(data)\n",
    " \n",
    " \n",
    "async def main():\n",
    "     await upbit_ws_client()\n",
    "\n",
    "await main()        \n",
    "# asyncio.run(main())"
   ]
  }
 ],
 "metadata": {
  "kernelspec": {
   "display_name": "Python 3",
   "language": "python",
   "name": "python3"
  },
  "language_info": {
   "codemirror_mode": {
    "name": "ipython",
    "version": 3
   },
   "file_extension": ".py",
   "mimetype": "text/x-python",
   "name": "python",
   "nbconvert_exporter": "python",
   "pygments_lexer": "ipython3",
   "version": "3.8.8"
  },
  "toc": {
   "base_numbering": 1,
   "nav_menu": {},
   "number_sections": true,
   "sideBar": true,
   "skip_h1_title": false,
   "title_cell": "Table of Contents",
   "title_sidebar": "Contents",
   "toc_cell": false,
   "toc_position": {},
   "toc_section_display": true,
   "toc_window_display": false
  },
  "varInspector": {
   "cols": {
    "lenName": 16,
    "lenType": 16,
    "lenVar": 40
   },
   "kernels_config": {
    "python": {
     "delete_cmd_postfix": "",
     "delete_cmd_prefix": "del ",
     "library": "var_list.py",
     "varRefreshCmd": "print(var_dic_list())"
    },
    "r": {
     "delete_cmd_postfix": ") ",
     "delete_cmd_prefix": "rm(",
     "library": "var_list.r",
     "varRefreshCmd": "cat(var_dic_list()) "
    }
   },
   "types_to_exclude": [
    "module",
    "function",
    "builtin_function_or_method",
    "instance",
    "_Feature"
   ],
   "window_display": false
  }
 },
 "nbformat": 4,
 "nbformat_minor": 5
}
