{
 "cells": [
  {
   "cell_type": "code",
   "execution_count": 1,
   "id": "290e9c7d",
   "metadata": {},
   "outputs": [],
   "source": [
    "import pandas as pd\n",
    "df = pd.read_csv(\"./df_concat(최종388개).csv\")\n",
    "df = df.dropna()\n",
    "c = 0.2"
   ]
  },
  {
   "cell_type": "code",
   "execution_count": 2,
   "id": "f9396086",
   "metadata": {},
   "outputs": [],
   "source": [
    "df = df.drop([\"name\", \"num\",\"day\", \"day1\",\"col\"], axis = 1)"
   ]
  },
  {
   "cell_type": "code",
   "execution_count": 3,
   "id": "be8e238a",
   "metadata": {},
   "outputs": [],
   "source": [
    "growth = ((df['min']-df['price1'])/df['price1'] * 100)\n",
    "growth.describe()\n",
    "\n",
    "a = growth.describe().tolist()[4]\n",
    "b = growth.describe().tolist()[6]\n",
    "\n",
    "# c = 0.9\n",
    "\n",
    "top = b + c*(b-a)\n",
    "bottom = a - c*(b-a)\n",
    "\n",
    "df = df[(growth <= top) & (growth >= bottom)]\n",
    "# df = df[df['min']>=0]\n",
    "num = len(df)"
   ]
  },
  {
   "cell_type": "code",
   "execution_count": 4,
   "id": "14fb1019",
   "metadata": {},
   "outputs": [],
   "source": [
    "# 색상값 1\n",
    "df_col1 = pd.get_dummies(df['col1'], prefix = 'col1')\n",
    "df_col2 = pd.get_dummies(df['col2'], prefix = 'col2')\n",
    "df_co1_1 = pd.concat([df_col1 , df_col2], axis =1)\n",
    "\n",
    "# 카테고리\n",
    "df_category = pd.get_dummies(df['category'], prefix = 'category')\n",
    "\n",
    "# 로우하이\n",
    "df_high_low_mid = pd.get_dummies(df['high/low'], prefix = 'high/low/mid')\n",
    "\n",
    "# 브랜드\n",
    "df_brand = pd.get_dummies(df['brand'], prefix = 'brand')\n",
    "\n",
    "# line\n",
    "df_line = pd.get_dummies(df['line'], prefix = 'line')\n",
    "\n",
    "# 성별\n",
    "df_sex = pd.get_dummies(df['W1M0'], prefix = 'W1M0')\n",
    "\n",
    "df_final_p = pd.concat([df_co1_1, df_category, df_high_low_mid, df_brand, df_line, df_sex], axis =1)"
   ]
  },
  {
   "cell_type": "code",
   "execution_count": 5,
   "id": "76f24fbf",
   "metadata": {},
   "outputs": [],
   "source": [
    "df_copy = df.copy().drop([\"col1\",\"col2\",\"brand\",\"category\",\"high/low\",\"W1M0\",\"line\"], axis = 1)"
   ]
  },
  {
   "cell_type": "code",
   "execution_count": 8,
   "id": "87d70ee7",
   "metadata": {},
   "outputs": [],
   "source": [
    "#feature importances 0 제외\n",
    "df_copy = df_copy.copy().drop([\"scrap\"], axis = 1)\n",
    "df_final_p = df_final_p.copy().drop([\"col2_silver\",\"col2_ivory\"], axis = 1)"
   ]
  },
  {
   "cell_type": "code",
   "execution_count": 9,
   "id": "9851bfb1",
   "metadata": {},
   "outputs": [],
   "source": [
    "df = pd.concat([df_copy, df_final_p], axis = 1)"
   ]
  },
  {
   "cell_type": "code",
   "execution_count": 10,
   "id": "900c7a0a",
   "metadata": {},
   "outputs": [],
   "source": [
    "data = df.drop(\"min\", axis = 1)"
   ]
  },
  {
   "cell_type": "markdown",
   "id": "4d5c8a3b",
   "metadata": {},
   "source": [
    "## XGBoost"
   ]
  },
  {
   "cell_type": "code",
   "execution_count": 11,
   "id": "87fcf0e5",
   "metadata": {},
   "outputs": [],
   "source": [
    "import xgboost as xgb\n",
    "from sklearn.metrics import mean_squared_error\n",
    "import pandas as pd\n",
    "import numpy as np\n",
    "import seaborn as sns"
   ]
  },
  {
   "cell_type": "code",
   "execution_count": 12,
   "id": "2fd71ab5",
   "metadata": {},
   "outputs": [],
   "source": [
    "X = data.to_numpy()\n",
    "y = df['min'].to_numpy()"
   ]
  },
  {
   "cell_type": "code",
   "execution_count": 13,
   "id": "fab362c5",
   "metadata": {},
   "outputs": [],
   "source": [
    "from sklearn.model_selection import train_test_split\n",
    "# 70프로를 트레이닝 셋, 30프로를 테스트 셋\n",
    "X_train, X_test, y_train, y_test = train_test_split(X, y, test_size=0.3, random_state=123) "
   ]
  },
  {
   "cell_type": "code",
   "execution_count": 14,
   "id": "83488e6f",
   "metadata": {},
   "outputs": [],
   "source": [
    "xg_reg = xgb.XGBRegressor(n_estimators = 16 ,alpha = 104, colsample_bytree = 0.9,max_depth = 6, learning_rate = 0.3)"
   ]
  },
  {
   "cell_type": "code",
   "execution_count": 15,
   "id": "d938da04",
   "metadata": {},
   "outputs": [],
   "source": [
    "xg_reg.fit(X_train,y_train)\n",
    "preds = xg_reg.predict(X_test)"
   ]
  },
  {
   "cell_type": "code",
   "execution_count": 16,
   "id": "350f5465",
   "metadata": {},
   "outputs": [
    {
     "name": "stdout",
     "output_type": "stream",
     "text": [
      "RMSE: 17193.920614\n"
     ]
    }
   ],
   "source": [
    "from sklearn.metrics import mean_squared_error\n",
    "rmse = np.sqrt(mean_squared_error(y_test, preds))\n",
    "print(\"RMSE: %f\" % (rmse))"
   ]
  },
  {
   "cell_type": "code",
   "execution_count": 17,
   "id": "4c845cc0",
   "metadata": {},
   "outputs": [],
   "source": [
    "rmse_x = rmse"
   ]
  },
  {
   "cell_type": "code",
   "execution_count": 18,
   "id": "feefd25e",
   "metadata": {},
   "outputs": [
    {
     "name": "stdout",
     "output_type": "stream",
     "text": [
      "0.2\n",
      "251\n",
      "17193.9206144892\n"
     ]
    }
   ],
   "source": [
    "print(c)\n",
    "print(num)\n",
    "print(rmse_x)"
   ]
  },
  {
   "cell_type": "code",
   "execution_count": null,
   "id": "f6bef9d9",
   "metadata": {},
   "outputs": [],
   "source": []
  }
 ],
 "metadata": {
  "kernelspec": {
   "display_name": "Python 3",
   "language": "python",
   "name": "python3"
  },
  "language_info": {
   "codemirror_mode": {
    "name": "ipython",
    "version": 3
   },
   "file_extension": ".py",
   "mimetype": "text/x-python",
   "name": "python",
   "nbconvert_exporter": "python",
   "pygments_lexer": "ipython3",
   "version": "3.8.8"
  },
  "toc": {
   "base_numbering": 1,
   "nav_menu": {},
   "number_sections": true,
   "sideBar": true,
   "skip_h1_title": false,
   "title_cell": "Table of Contents",
   "title_sidebar": "Contents",
   "toc_cell": false,
   "toc_position": {
    "height": "calc(100% - 180px)",
    "left": "10px",
    "top": "150px",
    "width": "165px"
   },
   "toc_section_display": true,
   "toc_window_display": true
  },
  "varInspector": {
   "cols": {
    "lenName": 16,
    "lenType": 16,
    "lenVar": 40
   },
   "kernels_config": {
    "python": {
     "delete_cmd_postfix": "",
     "delete_cmd_prefix": "del ",
     "library": "var_list.py",
     "varRefreshCmd": "print(var_dic_list())"
    },
    "r": {
     "delete_cmd_postfix": ") ",
     "delete_cmd_prefix": "rm(",
     "library": "var_list.r",
     "varRefreshCmd": "cat(var_dic_list()) "
    }
   },
   "types_to_exclude": [
    "module",
    "function",
    "builtin_function_or_method",
    "instance",
    "_Feature"
   ],
   "window_display": false
  }
 },
 "nbformat": 4,
 "nbformat_minor": 5
}
