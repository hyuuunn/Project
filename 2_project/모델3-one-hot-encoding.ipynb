{
 "cells": [
  {
   "cell_type": "code",
   "execution_count": 43,
   "id": "290e9c7d",
   "metadata": {},
   "outputs": [
    {
     "data": {
      "text/html": [
       "<div>\n",
       "<style scoped>\n",
       "    .dataframe tbody tr th:only-of-type {\n",
       "        vertical-align: middle;\n",
       "    }\n",
       "\n",
       "    .dataframe tbody tr th {\n",
       "        vertical-align: top;\n",
       "    }\n",
       "\n",
       "    .dataframe thead th {\n",
       "        text-align: right;\n",
       "    }\n",
       "</style>\n",
       "<table border=\"1\" class=\"dataframe\">\n",
       "  <thead>\n",
       "    <tr style=\"text-align: right;\">\n",
       "      <th></th>\n",
       "      <th>name</th>\n",
       "      <th>num</th>\n",
       "      <th>col</th>\n",
       "      <th>col1</th>\n",
       "      <th>col2</th>\n",
       "      <th>wish</th>\n",
       "      <th>day</th>\n",
       "      <th>price</th>\n",
       "      <th>day1</th>\n",
       "      <th>price1</th>\n",
       "      <th>...</th>\n",
       "      <th>category</th>\n",
       "      <th>high/low</th>\n",
       "      <th>W1M0</th>\n",
       "      <th>line</th>\n",
       "      <th>scrap</th>\n",
       "      <th>disrupt</th>\n",
       "      <th>X</th>\n",
       "      <th>event</th>\n",
       "      <th>prm</th>\n",
       "      <th>emb</th>\n",
       "    </tr>\n",
       "  </thead>\n",
       "  <tbody>\n",
       "    <tr>\n",
       "      <th>0</th>\n",
       "      <td>(W) nike Dunk High Aluminum</td>\n",
       "      <td>DD1869-107</td>\n",
       "      <td>WHITE/ALUMINUM</td>\n",
       "      <td>white</td>\n",
       "      <td>blue</td>\n",
       "      <td>5072</td>\n",
       "      <td>2021-08-17</td>\n",
       "      <td>129000</td>\n",
       "      <td>2021-07-24</td>\n",
       "      <td>170000</td>\n",
       "      <td>...</td>\n",
       "      <td>dunk</td>\n",
       "      <td>high</td>\n",
       "      <td>w</td>\n",
       "      <td>nm</td>\n",
       "      <td>0</td>\n",
       "      <td>0</td>\n",
       "      <td>0</td>\n",
       "      <td>0</td>\n",
       "      <td>0</td>\n",
       "      <td>0</td>\n",
       "    </tr>\n",
       "    <tr>\n",
       "      <th>1</th>\n",
       "      <td>(W) nike Dunk High Black and White</td>\n",
       "      <td>DD1869-103</td>\n",
       "      <td>WHITE/BLACK-UNIVERSITY RED</td>\n",
       "      <td>white</td>\n",
       "      <td>black</td>\n",
       "      <td>10000</td>\n",
       "      <td>2021-05-01</td>\n",
       "      <td>129000</td>\n",
       "      <td>2021-05-01</td>\n",
       "      <td>299500</td>\n",
       "      <td>...</td>\n",
       "      <td>dunk</td>\n",
       "      <td>high</td>\n",
       "      <td>w</td>\n",
       "      <td>nm</td>\n",
       "      <td>0</td>\n",
       "      <td>0</td>\n",
       "      <td>0</td>\n",
       "      <td>0</td>\n",
       "      <td>0</td>\n",
       "      <td>0</td>\n",
       "    </tr>\n",
       "    <tr>\n",
       "      <th>2</th>\n",
       "      <td>(W) nike Dunk High Crimson Tint</td>\n",
       "      <td>DD1869-104</td>\n",
       "      <td>SAIL/CRIMSON TINT</td>\n",
       "      <td>white</td>\n",
       "      <td>pink</td>\n",
       "      <td>1381</td>\n",
       "      <td>2021-06-04</td>\n",
       "      <td>129000</td>\n",
       "      <td>2021-05-22</td>\n",
       "      <td>130000</td>\n",
       "      <td>...</td>\n",
       "      <td>dunk</td>\n",
       "      <td>high</td>\n",
       "      <td>w</td>\n",
       "      <td>nm</td>\n",
       "      <td>0</td>\n",
       "      <td>0</td>\n",
       "      <td>0</td>\n",
       "      <td>0</td>\n",
       "      <td>0</td>\n",
       "      <td>0</td>\n",
       "    </tr>\n",
       "    <tr>\n",
       "      <th>3</th>\n",
       "      <td>(W) nike Dunk High Dark Sulfur</td>\n",
       "      <td>DD1869-106</td>\n",
       "      <td>WHITE/DARK SULFUR-WHITE</td>\n",
       "      <td>white</td>\n",
       "      <td>yellow</td>\n",
       "      <td>2607</td>\n",
       "      <td>2021-04-16</td>\n",
       "      <td>129000</td>\n",
       "      <td>2021-04-16</td>\n",
       "      <td>207692</td>\n",
       "      <td>...</td>\n",
       "      <td>dunk</td>\n",
       "      <td>high</td>\n",
       "      <td>w</td>\n",
       "      <td>sp</td>\n",
       "      <td>0</td>\n",
       "      <td>0</td>\n",
       "      <td>0</td>\n",
       "      <td>0</td>\n",
       "      <td>0</td>\n",
       "      <td>0</td>\n",
       "    </tr>\n",
       "    <tr>\n",
       "      <th>4</th>\n",
       "      <td>(W) nike Dunk High Football Grey</td>\n",
       "      <td>DD1869-102</td>\n",
       "      <td>SAIL/FOOTBALL GREY-PALE IVORY</td>\n",
       "      <td>white</td>\n",
       "      <td>grey</td>\n",
       "      <td>5488</td>\n",
       "      <td>2021-01-07</td>\n",
       "      <td>129000</td>\n",
       "      <td>2021-01-06</td>\n",
       "      <td>166000</td>\n",
       "      <td>...</td>\n",
       "      <td>dunk</td>\n",
       "      <td>high</td>\n",
       "      <td>w</td>\n",
       "      <td>nm</td>\n",
       "      <td>0</td>\n",
       "      <td>0</td>\n",
       "      <td>0</td>\n",
       "      <td>0</td>\n",
       "      <td>0</td>\n",
       "      <td>0</td>\n",
       "    </tr>\n",
       "    <tr>\n",
       "      <th>...</th>\n",
       "      <td>...</td>\n",
       "      <td>...</td>\n",
       "      <td>...</td>\n",
       "      <td>...</td>\n",
       "      <td>...</td>\n",
       "      <td>...</td>\n",
       "      <td>...</td>\n",
       "      <td>...</td>\n",
       "      <td>...</td>\n",
       "      <td>...</td>\n",
       "      <td>...</td>\n",
       "      <td>...</td>\n",
       "      <td>...</td>\n",
       "      <td>...</td>\n",
       "      <td>...</td>\n",
       "      <td>...</td>\n",
       "      <td>...</td>\n",
       "      <td>...</td>\n",
       "      <td>...</td>\n",
       "      <td>...</td>\n",
       "      <td>...</td>\n",
       "    </tr>\n",
       "    <tr>\n",
       "      <th>384</th>\n",
       "      <td>Adidas Yeezy Boost 700 V2 Mauve</td>\n",
       "      <td>GZ0724</td>\n",
       "      <td>MAUVE/MAUVE/MAUVE</td>\n",
       "      <td>grey</td>\n",
       "      <td>grey</td>\n",
       "      <td>751</td>\n",
       "      <td>2021-09-25</td>\n",
       "      <td>309000</td>\n",
       "      <td>2021-09-25</td>\n",
       "      <td>344455</td>\n",
       "      <td>...</td>\n",
       "      <td>yeezy</td>\n",
       "      <td>low</td>\n",
       "      <td>m</td>\n",
       "      <td>nm</td>\n",
       "      <td>0</td>\n",
       "      <td>0</td>\n",
       "      <td>0</td>\n",
       "      <td>0</td>\n",
       "      <td>0</td>\n",
       "      <td>0</td>\n",
       "    </tr>\n",
       "    <tr>\n",
       "      <th>385</th>\n",
       "      <td>Adidas Yeezy Boost 700 Wash Orange</td>\n",
       "      <td>GW0296</td>\n",
       "      <td>WASH ORANGE/WASH ORANGE/WASH ORANGE</td>\n",
       "      <td>blue</td>\n",
       "      <td>orange</td>\n",
       "      <td>362</td>\n",
       "      <td>2021-10-15</td>\n",
       "      <td>309000</td>\n",
       "      <td>2021-10-16</td>\n",
       "      <td>324500</td>\n",
       "      <td>...</td>\n",
       "      <td>yeezy</td>\n",
       "      <td>low</td>\n",
       "      <td>m</td>\n",
       "      <td>nm</td>\n",
       "      <td>0</td>\n",
       "      <td>0</td>\n",
       "      <td>0</td>\n",
       "      <td>0</td>\n",
       "      <td>0</td>\n",
       "      <td>0</td>\n",
       "    </tr>\n",
       "    <tr>\n",
       "      <th>386</th>\n",
       "      <td>Adidas Yeezy QNTM Barium</td>\n",
       "      <td>H68771</td>\n",
       "      <td>BARIUM/BARIUM/BARIUM</td>\n",
       "      <td>beige</td>\n",
       "      <td>black</td>\n",
       "      <td>800</td>\n",
       "      <td>2020-06-25</td>\n",
       "      <td>329000</td>\n",
       "      <td>2020-06-25</td>\n",
       "      <td>542600</td>\n",
       "      <td>...</td>\n",
       "      <td>yeezy</td>\n",
       "      <td>low</td>\n",
       "      <td>m</td>\n",
       "      <td>nm</td>\n",
       "      <td>0</td>\n",
       "      <td>0</td>\n",
       "      <td>0</td>\n",
       "      <td>0</td>\n",
       "      <td>0</td>\n",
       "      <td>0</td>\n",
       "    </tr>\n",
       "    <tr>\n",
       "      <th>387</th>\n",
       "      <td>Adidas Yeezy QNTM Lifestyle</td>\n",
       "      <td>Q46473</td>\n",
       "      <td>QNTM</td>\n",
       "      <td>black</td>\n",
       "      <td>black</td>\n",
       "      <td>1294</td>\n",
       "      <td>2020-09-05</td>\n",
       "      <td>329000</td>\n",
       "      <td>2020-06-08</td>\n",
       "      <td>1250000</td>\n",
       "      <td>...</td>\n",
       "      <td>yeezy</td>\n",
       "      <td>low</td>\n",
       "      <td>m</td>\n",
       "      <td>nm</td>\n",
       "      <td>0</td>\n",
       "      <td>0</td>\n",
       "      <td>0</td>\n",
       "      <td>0</td>\n",
       "      <td>0</td>\n",
       "      <td>0</td>\n",
       "    </tr>\n",
       "    <tr>\n",
       "      <th>388</th>\n",
       "      <td>Adidas Yeezy QNTM Onyx</td>\n",
       "      <td>GX1317</td>\n",
       "      <td>ONYX/ONYX/ONYX</td>\n",
       "      <td>grey</td>\n",
       "      <td>black</td>\n",
       "      <td>425</td>\n",
       "      <td>2021-09-10</td>\n",
       "      <td>355100</td>\n",
       "      <td>2021-09-10</td>\n",
       "      <td>375000</td>\n",
       "      <td>...</td>\n",
       "      <td>yeezy</td>\n",
       "      <td>low</td>\n",
       "      <td>m</td>\n",
       "      <td>nm</td>\n",
       "      <td>0</td>\n",
       "      <td>0</td>\n",
       "      <td>0</td>\n",
       "      <td>0</td>\n",
       "      <td>0</td>\n",
       "      <td>0</td>\n",
       "    </tr>\n",
       "  </tbody>\n",
       "</table>\n",
       "<p>389 rows × 24 columns</p>\n",
       "</div>"
      ],
      "text/plain": [
       "                                   name         num  \\\n",
       "0           (W) nike Dunk High Aluminum  DD1869-107   \n",
       "1    (W) nike Dunk High Black and White  DD1869-103   \n",
       "2       (W) nike Dunk High Crimson Tint  DD1869-104   \n",
       "3        (W) nike Dunk High Dark Sulfur  DD1869-106   \n",
       "4      (W) nike Dunk High Football Grey  DD1869-102   \n",
       "..                                  ...         ...   \n",
       "384     Adidas Yeezy Boost 700 V2 Mauve     GZ0724    \n",
       "385  Adidas Yeezy Boost 700 Wash Orange     GW0296    \n",
       "386            Adidas Yeezy QNTM Barium     H68771    \n",
       "387         Adidas Yeezy QNTM Lifestyle     Q46473    \n",
       "388              Adidas Yeezy QNTM Onyx     GX1317    \n",
       "\n",
       "                                       col   col1    col2   wish         day  \\\n",
       "0                           WHITE/ALUMINUM  white    blue   5072  2021-08-17   \n",
       "1               WHITE/BLACK-UNIVERSITY RED  white   black  10000  2021-05-01   \n",
       "2                        SAIL/CRIMSON TINT  white    pink   1381  2021-06-04   \n",
       "3                  WHITE/DARK SULFUR-WHITE  white  yellow   2607  2021-04-16   \n",
       "4            SAIL/FOOTBALL GREY-PALE IVORY  white    grey   5488  2021-01-07   \n",
       "..                                     ...    ...     ...    ...         ...   \n",
       "384                     MAUVE/MAUVE/MAUVE    grey    grey    751  2021-09-25   \n",
       "385   WASH ORANGE/WASH ORANGE/WASH ORANGE    blue  orange    362  2021-10-15   \n",
       "386                  BARIUM/BARIUM/BARIUM   beige   black    800  2020-06-25   \n",
       "387                                  QNTM   black   black   1294  2020-09-05   \n",
       "388                        ONYX/ONYX/ONYX    grey   black    425  2021-09-10   \n",
       "\n",
       "      price        day1   price1  ...  category  high/low  W1M0 line scrap  \\\n",
       "0    129000  2021-07-24   170000  ...      dunk      high     w   nm     0   \n",
       "1    129000  2021-05-01   299500  ...      dunk      high     w   nm     0   \n",
       "2    129000  2021-05-22   130000  ...      dunk      high     w   nm     0   \n",
       "3    129000  2021-04-16   207692  ...      dunk      high     w   sp     0   \n",
       "4    129000  2021-01-06   166000  ...      dunk      high     w   nm     0   \n",
       "..      ...         ...      ...  ...       ...       ...   ...  ...   ...   \n",
       "384  309000  2021-09-25   344455  ...     yeezy       low     m   nm     0   \n",
       "385  309000  2021-10-16   324500  ...     yeezy       low     m   nm     0   \n",
       "386  329000  2020-06-25   542600  ...     yeezy       low     m   nm     0   \n",
       "387  329000  2020-06-08  1250000  ...     yeezy       low     m   nm     0   \n",
       "388  355100  2021-09-10   375000  ...     yeezy       low     m   nm     0   \n",
       "\n",
       "    disrupt  X event  prm  emb  \n",
       "0         0  0     0    0    0  \n",
       "1         0  0     0    0    0  \n",
       "2         0  0     0    0    0  \n",
       "3         0  0     0    0    0  \n",
       "4         0  0     0    0    0  \n",
       "..      ... ..   ...  ...  ...  \n",
       "384       0  0     0    0    0  \n",
       "385       0  0     0    0    0  \n",
       "386       0  0     0    0    0  \n",
       "387       0  0     0    0    0  \n",
       "388       0  0     0    0    0  \n",
       "\n",
       "[389 rows x 24 columns]"
      ]
     },
     "execution_count": 43,
     "metadata": {},
     "output_type": "execute_result"
    }
   ],
   "source": [
    "import pandas as pd\n",
    "df = pd.read_csv(\"./df_concat(최종388개).csv\")\n",
    "df = df.dropna()\n",
    "c = 0.2\n",
    "df"
   ]
  },
  {
   "cell_type": "code",
   "execution_count": 44,
   "id": "f9396086",
   "metadata": {},
   "outputs": [],
   "source": [
    "df = df.drop([\"name\", \"num\",\"day\", \"day1\",\"col\"], axis = 1)"
   ]
  },
  {
   "cell_type": "code",
   "execution_count": 45,
   "id": "be8e238a",
   "metadata": {},
   "outputs": [
    {
     "data": {
      "text/html": [
       "<div>\n",
       "<style scoped>\n",
       "    .dataframe tbody tr th:only-of-type {\n",
       "        vertical-align: middle;\n",
       "    }\n",
       "\n",
       "    .dataframe tbody tr th {\n",
       "        vertical-align: top;\n",
       "    }\n",
       "\n",
       "    .dataframe thead th {\n",
       "        text-align: right;\n",
       "    }\n",
       "</style>\n",
       "<table border=\"1\" class=\"dataframe\">\n",
       "  <thead>\n",
       "    <tr style=\"text-align: right;\">\n",
       "      <th></th>\n",
       "      <th>col1</th>\n",
       "      <th>col2</th>\n",
       "      <th>wish</th>\n",
       "      <th>price</th>\n",
       "      <th>price1</th>\n",
       "      <th>price2</th>\n",
       "      <th>price3</th>\n",
       "      <th>min</th>\n",
       "      <th>brand</th>\n",
       "      <th>category</th>\n",
       "      <th>high/low</th>\n",
       "      <th>W1M0</th>\n",
       "      <th>line</th>\n",
       "      <th>scrap</th>\n",
       "      <th>disrupt</th>\n",
       "      <th>X</th>\n",
       "      <th>event</th>\n",
       "      <th>prm</th>\n",
       "      <th>emb</th>\n",
       "    </tr>\n",
       "  </thead>\n",
       "  <tbody>\n",
       "    <tr>\n",
       "      <th>0</th>\n",
       "      <td>white</td>\n",
       "      <td>blue</td>\n",
       "      <td>5072</td>\n",
       "      <td>129000</td>\n",
       "      <td>170000</td>\n",
       "      <td>150000</td>\n",
       "      <td>150750</td>\n",
       "      <td>132700</td>\n",
       "      <td>nike</td>\n",
       "      <td>dunk</td>\n",
       "      <td>high</td>\n",
       "      <td>w</td>\n",
       "      <td>nm</td>\n",
       "      <td>0</td>\n",
       "      <td>0</td>\n",
       "      <td>0</td>\n",
       "      <td>0</td>\n",
       "      <td>0</td>\n",
       "      <td>0</td>\n",
       "    </tr>\n",
       "    <tr>\n",
       "      <th>1</th>\n",
       "      <td>white</td>\n",
       "      <td>black</td>\n",
       "      <td>10000</td>\n",
       "      <td>129000</td>\n",
       "      <td>299500</td>\n",
       "      <td>315000</td>\n",
       "      <td>350000</td>\n",
       "      <td>214500</td>\n",
       "      <td>nike</td>\n",
       "      <td>dunk</td>\n",
       "      <td>high</td>\n",
       "      <td>w</td>\n",
       "      <td>nm</td>\n",
       "      <td>0</td>\n",
       "      <td>0</td>\n",
       "      <td>0</td>\n",
       "      <td>0</td>\n",
       "      <td>0</td>\n",
       "      <td>0</td>\n",
       "    </tr>\n",
       "    <tr>\n",
       "      <th>3</th>\n",
       "      <td>white</td>\n",
       "      <td>yellow</td>\n",
       "      <td>2607</td>\n",
       "      <td>129000</td>\n",
       "      <td>207692</td>\n",
       "      <td>197200</td>\n",
       "      <td>193455</td>\n",
       "      <td>160000</td>\n",
       "      <td>nike</td>\n",
       "      <td>dunk</td>\n",
       "      <td>high</td>\n",
       "      <td>w</td>\n",
       "      <td>sp</td>\n",
       "      <td>0</td>\n",
       "      <td>0</td>\n",
       "      <td>0</td>\n",
       "      <td>0</td>\n",
       "      <td>0</td>\n",
       "      <td>0</td>\n",
       "    </tr>\n",
       "    <tr>\n",
       "      <th>5</th>\n",
       "      <td>black</td>\n",
       "      <td>brown</td>\n",
       "      <td>892</td>\n",
       "      <td>129000</td>\n",
       "      <td>149000</td>\n",
       "      <td>149000</td>\n",
       "      <td>143000</td>\n",
       "      <td>127000</td>\n",
       "      <td>nike</td>\n",
       "      <td>dunk</td>\n",
       "      <td>high</td>\n",
       "      <td>w</td>\n",
       "      <td>nm</td>\n",
       "      <td>0</td>\n",
       "      <td>0</td>\n",
       "      <td>0</td>\n",
       "      <td>0</td>\n",
       "      <td>0</td>\n",
       "      <td>0</td>\n",
       "    </tr>\n",
       "    <tr>\n",
       "      <th>8</th>\n",
       "      <td>white</td>\n",
       "      <td>orange</td>\n",
       "      <td>1061</td>\n",
       "      <td>139000</td>\n",
       "      <td>150000</td>\n",
       "      <td>138000</td>\n",
       "      <td>132000</td>\n",
       "      <td>120000</td>\n",
       "      <td>nike</td>\n",
       "      <td>dunk</td>\n",
       "      <td>high</td>\n",
       "      <td>w</td>\n",
       "      <td>se</td>\n",
       "      <td>0</td>\n",
       "      <td>0</td>\n",
       "      <td>0</td>\n",
       "      <td>0</td>\n",
       "      <td>0</td>\n",
       "      <td>0</td>\n",
       "    </tr>\n",
       "    <tr>\n",
       "      <th>...</th>\n",
       "      <td>...</td>\n",
       "      <td>...</td>\n",
       "      <td>...</td>\n",
       "      <td>...</td>\n",
       "      <td>...</td>\n",
       "      <td>...</td>\n",
       "      <td>...</td>\n",
       "      <td>...</td>\n",
       "      <td>...</td>\n",
       "      <td>...</td>\n",
       "      <td>...</td>\n",
       "      <td>...</td>\n",
       "      <td>...</td>\n",
       "      <td>...</td>\n",
       "      <td>...</td>\n",
       "      <td>...</td>\n",
       "      <td>...</td>\n",
       "      <td>...</td>\n",
       "      <td>...</td>\n",
       "    </tr>\n",
       "    <tr>\n",
       "      <th>382</th>\n",
       "      <td>black</td>\n",
       "      <td>black</td>\n",
       "      <td>764</td>\n",
       "      <td>289000</td>\n",
       "      <td>420000</td>\n",
       "      <td>420000</td>\n",
       "      <td>420000</td>\n",
       "      <td>353667</td>\n",
       "      <td>adidas</td>\n",
       "      <td>yeezy</td>\n",
       "      <td>low</td>\n",
       "      <td>m</td>\n",
       "      <td>nm</td>\n",
       "      <td>0</td>\n",
       "      <td>0</td>\n",
       "      <td>0</td>\n",
       "      <td>0</td>\n",
       "      <td>0</td>\n",
       "      <td>0</td>\n",
       "    </tr>\n",
       "    <tr>\n",
       "      <th>383</th>\n",
       "      <td>ivory</td>\n",
       "      <td>ivory</td>\n",
       "      <td>2647</td>\n",
       "      <td>309000</td>\n",
       "      <td>622000</td>\n",
       "      <td>642000</td>\n",
       "      <td>679000</td>\n",
       "      <td>464000</td>\n",
       "      <td>adidas</td>\n",
       "      <td>yeezy</td>\n",
       "      <td>low</td>\n",
       "      <td>m</td>\n",
       "      <td>nm</td>\n",
       "      <td>0</td>\n",
       "      <td>0</td>\n",
       "      <td>0</td>\n",
       "      <td>0</td>\n",
       "      <td>0</td>\n",
       "      <td>0</td>\n",
       "    </tr>\n",
       "    <tr>\n",
       "      <th>384</th>\n",
       "      <td>grey</td>\n",
       "      <td>grey</td>\n",
       "      <td>751</td>\n",
       "      <td>309000</td>\n",
       "      <td>344455</td>\n",
       "      <td>343667</td>\n",
       "      <td>329760</td>\n",
       "      <td>314000</td>\n",
       "      <td>adidas</td>\n",
       "      <td>yeezy</td>\n",
       "      <td>low</td>\n",
       "      <td>m</td>\n",
       "      <td>nm</td>\n",
       "      <td>0</td>\n",
       "      <td>0</td>\n",
       "      <td>0</td>\n",
       "      <td>0</td>\n",
       "      <td>0</td>\n",
       "      <td>0</td>\n",
       "    </tr>\n",
       "    <tr>\n",
       "      <th>385</th>\n",
       "      <td>blue</td>\n",
       "      <td>orange</td>\n",
       "      <td>362</td>\n",
       "      <td>309000</td>\n",
       "      <td>324500</td>\n",
       "      <td>319000</td>\n",
       "      <td>319000</td>\n",
       "      <td>245000</td>\n",
       "      <td>adidas</td>\n",
       "      <td>yeezy</td>\n",
       "      <td>low</td>\n",
       "      <td>m</td>\n",
       "      <td>nm</td>\n",
       "      <td>0</td>\n",
       "      <td>0</td>\n",
       "      <td>0</td>\n",
       "      <td>0</td>\n",
       "      <td>0</td>\n",
       "      <td>0</td>\n",
       "    </tr>\n",
       "    <tr>\n",
       "      <th>386</th>\n",
       "      <td>beige</td>\n",
       "      <td>black</td>\n",
       "      <td>800</td>\n",
       "      <td>329000</td>\n",
       "      <td>542600</td>\n",
       "      <td>485118</td>\n",
       "      <td>525455</td>\n",
       "      <td>426000</td>\n",
       "      <td>adidas</td>\n",
       "      <td>yeezy</td>\n",
       "      <td>low</td>\n",
       "      <td>m</td>\n",
       "      <td>nm</td>\n",
       "      <td>0</td>\n",
       "      <td>0</td>\n",
       "      <td>0</td>\n",
       "      <td>0</td>\n",
       "      <td>0</td>\n",
       "      <td>0</td>\n",
       "    </tr>\n",
       "  </tbody>\n",
       "</table>\n",
       "<p>251 rows × 19 columns</p>\n",
       "</div>"
      ],
      "text/plain": [
       "      col1    col2   wish   price  price1  price2  price3     min   brand  \\\n",
       "0    white    blue   5072  129000  170000  150000  150750  132700    nike   \n",
       "1    white   black  10000  129000  299500  315000  350000  214500    nike   \n",
       "3    white  yellow   2607  129000  207692  197200  193455  160000    nike   \n",
       "5    black   brown    892  129000  149000  149000  143000  127000    nike   \n",
       "8    white  orange   1061  139000  150000  138000  132000  120000    nike   \n",
       "..     ...     ...    ...     ...     ...     ...     ...     ...     ...   \n",
       "382  black   black    764  289000  420000  420000  420000  353667  adidas   \n",
       "383  ivory   ivory   2647  309000  622000  642000  679000  464000  adidas   \n",
       "384   grey    grey    751  309000  344455  343667  329760  314000  adidas   \n",
       "385   blue  orange    362  309000  324500  319000  319000  245000  adidas   \n",
       "386  beige   black    800  329000  542600  485118  525455  426000  adidas   \n",
       "\n",
       "    category high/low W1M0 line  scrap  disrupt  X  event  prm  emb  \n",
       "0       dunk     high    w   nm      0        0  0      0    0    0  \n",
       "1       dunk     high    w   nm      0        0  0      0    0    0  \n",
       "3       dunk     high    w   sp      0        0  0      0    0    0  \n",
       "5       dunk     high    w   nm      0        0  0      0    0    0  \n",
       "8       dunk     high    w   se      0        0  0      0    0    0  \n",
       "..       ...      ...  ...  ...    ...      ... ..    ...  ...  ...  \n",
       "382    yeezy      low    m   nm      0        0  0      0    0    0  \n",
       "383    yeezy      low    m   nm      0        0  0      0    0    0  \n",
       "384    yeezy      low    m   nm      0        0  0      0    0    0  \n",
       "385    yeezy      low    m   nm      0        0  0      0    0    0  \n",
       "386    yeezy      low    m   nm      0        0  0      0    0    0  \n",
       "\n",
       "[251 rows x 19 columns]"
      ]
     },
     "execution_count": 45,
     "metadata": {},
     "output_type": "execute_result"
    }
   ],
   "source": [
    "growth = ((df['min']-df['price1'])/df['price1'] * 100)\n",
    "growth.describe()\n",
    "\n",
    "a = growth.describe().tolist()[4]\n",
    "b = growth.describe().tolist()[6]\n",
    "\n",
    "# c = 0.9\n",
    "\n",
    "top = b + c*(b-a)\n",
    "bottom = a - c*(b-a)\n",
    "\n",
    "df = df[(growth <= top) & (growth >= bottom)]\n",
    "# df = df[df['min']>=0]\n",
    "num = len(df)\n",
    "df"
   ]
  },
  {
   "cell_type": "code",
   "execution_count": 46,
   "id": "14fb1019",
   "metadata": {},
   "outputs": [],
   "source": [
    "# 색상값 1\n",
    "df_col1 = pd.get_dummies(df['col1'], prefix = 'col1')\n",
    "df_col2 = pd.get_dummies(df['col2'], prefix = 'col2')\n",
    "df_co1_1 = pd.concat([df_col1 , df_col2], axis =1)\n",
    "\n",
    "# 카테고리\n",
    "df_category = pd.get_dummies(df['category'], prefix = 'category')\n",
    "\n",
    "# 로우하이\n",
    "df_high_low_mid = pd.get_dummies(df['high/low'], prefix = 'high/low/mid')\n",
    "\n",
    "# 브랜드\n",
    "df_brand = pd.get_dummies(df['brand'], prefix = 'brand')\n",
    "\n",
    "# line\n",
    "df_line = pd.get_dummies(df['line'], prefix = 'line')\n",
    "\n",
    "# 성별\n",
    "df_sex = pd.get_dummies(df['W1M0'], prefix = 'W1M0')\n",
    "\n",
    "df_final_p = pd.concat([df_co1_1, df_category, df_high_low_mid, df_brand, df_line, df_sex], axis =1)"
   ]
  },
  {
   "cell_type": "code",
   "execution_count": 47,
   "id": "76f24fbf",
   "metadata": {},
   "outputs": [],
   "source": [
    "df_copy = df.copy().drop([\"col1\",\"col2\",\"brand\",\"category\",\"high/low\",\"W1M0\",\"line\"], axis = 1)"
   ]
  },
  {
   "cell_type": "code",
   "execution_count": 48,
   "id": "9851bfb1",
   "metadata": {},
   "outputs": [],
   "source": [
    "df = pd.concat([df_copy, df_final_p], axis = 1)"
   ]
  },
  {
   "cell_type": "code",
   "execution_count": 49,
   "id": "900c7a0a",
   "metadata": {},
   "outputs": [],
   "source": [
    "data = df.drop(\"min\", axis = 1)"
   ]
  },
  {
   "cell_type": "code",
   "execution_count": 50,
   "id": "c543383f",
   "metadata": {},
   "outputs": [
    {
     "data": {
      "text/plain": [
       "array([[  5072, 129000, 170000, ...,      0,      0,      1],\n",
       "       [ 10000, 129000, 299500, ...,      0,      0,      1],\n",
       "       [  2607, 129000, 207692, ...,      1,      0,      1],\n",
       "       ...,\n",
       "       [   751, 309000, 344455, ...,      0,      1,      0],\n",
       "       [   362, 309000, 324500, ...,      0,      1,      0],\n",
       "       [   800, 329000, 542600, ...,      0,      1,      0]])"
      ]
     },
     "execution_count": 50,
     "metadata": {},
     "output_type": "execute_result"
    }
   ],
   "source": [
    "data.to_numpy()"
   ]
  },
  {
   "cell_type": "code",
   "execution_count": 51,
   "id": "65944bb1",
   "metadata": {},
   "outputs": [
    {
     "data": {
      "text/plain": [
       "array([ 132700,  214500,  160000,  127000,  120000,  213571,  139333,\n",
       "        269000,  165167,  158000,  186700,  176000,  200000,  185000,\n",
       "        126000,  214000,  117000,  228615,  151727,  255000,  205000,\n",
       "        174000,  563500,  356000,  226333,  340000,  162000,  129000,\n",
       "        147600,  139000,  142429,  183500,  181111,  172000,  132000,\n",
       "        160000,  170000,  251267,  268667,  118500,  147500,  168129,\n",
       "        145000,  141500,  122167,  130000,  151750,  126000,  143571,\n",
       "        326000,  136800,  135000,   82000,   99000,  230000,  259000,\n",
       "        295000,  289000,  229000,  429167,  131000,  190000,  108667,\n",
       "        109000,  119000,  230000,  311000,  636625,  522000,  312500,\n",
       "       1236667,  544750,  396875,  560000,  711000,  282000,  302300,\n",
       "        200000,  330195,  133000,  128750,  144000,  230000,  106000,\n",
       "        300000,  279000,  221667,  122500,  308600,  115000,  157000,\n",
       "        381000,  180000,  207125,  165000,  119000,  134500,  150000,\n",
       "        120000,  148333,  199917,  194250,  213779,  234125,  179000,\n",
       "        206143,  227000,  206143,  260000,  157000,  218000,  130000,\n",
       "        222000,  226217,   85000,  175000,  186500,  240000,  192750,\n",
       "        711000,  226000,  220000,  319000,  573000,  390000,  142500,\n",
       "        352000,  225000,  260000,  288000,  199000,  234000,  270000,\n",
       "        225000,  363000,  260000,  401800,  186333,  316667,  183000,\n",
       "        208040,  168000,  322538,  264444,  391515,  168067,  122400,\n",
       "        121615,  213500,  515364,  283333,  216455,  472000,  195000,\n",
       "        130000,  170000,  119000,  217500,  161000,  286476,  115000,\n",
       "        215000,  182000,  120000,  118000,  120000,  167857,  504500,\n",
       "        241000,  250000,  279000,  137154,  188143,  322333,  264000,\n",
       "        211143,  248154,  137333,  251000,  202034,  231778,  122500,\n",
       "       1027500,  300667,  396222,  479500,  356000,  228333, 1236667,\n",
       "        544750,  396875, 1545667,  210000,  120000,  142583,  133000,\n",
       "        320000,  240000,  145000,  147500,  115000,  100000,   99333,\n",
       "         92500,  100000,  120000,   89500,  220000,  269000,  350000,\n",
       "        433333,  289000,  325000,  200000,  240000,  315500,  289000,\n",
       "        492760,  474247,  255500,  324000,  252000,  244500,  200000,\n",
       "        275000,  262500,  245000,  281000,  260000,  240000,  296750,\n",
       "        261000,  221000,  200000,  250000,  265167,  243500,  230500,\n",
       "        294667,  403000,  343667,  250000,  236000,  292250,  266000,\n",
       "        250000,  353667,  464000,  314000,  245000,  426000])"
      ]
     },
     "execution_count": 51,
     "metadata": {},
     "output_type": "execute_result"
    }
   ],
   "source": [
    "df['min'].to_numpy()"
   ]
  },
  {
   "cell_type": "markdown",
   "id": "b21c1dc3",
   "metadata": {},
   "source": [
    "## 랜덤포레스트"
   ]
  },
  {
   "cell_type": "code",
   "execution_count": 52,
   "id": "39a7fd24",
   "metadata": {},
   "outputs": [],
   "source": [
    "import pandas as pd\n",
    "import numpy as np\n",
    "import seaborn as sns"
   ]
  },
  {
   "cell_type": "code",
   "execution_count": 53,
   "id": "78016bd2",
   "metadata": {},
   "outputs": [],
   "source": [
    "X = data.to_numpy()\n",
    "y = df['min'].to_numpy()"
   ]
  },
  {
   "cell_type": "code",
   "execution_count": 54,
   "id": "6f133916",
   "metadata": {},
   "outputs": [],
   "source": [
    "from sklearn.model_selection import train_test_split"
   ]
  },
  {
   "cell_type": "code",
   "execution_count": 55,
   "id": "8847e732",
   "metadata": {},
   "outputs": [],
   "source": [
    "# 70프로를 트레이닝 셋, 30프로를 테스트 셋\n",
    "X_train, X_test, y_train, y_test = train_test_split(X, y, test_size=0.3, random_state=123) # 70% training and 30% test"
   ]
  },
  {
   "cell_type": "code",
   "execution_count": 56,
   "id": "34cf5336",
   "metadata": {},
   "outputs": [],
   "source": [
    "from sklearn.ensemble import RandomForestClassifier"
   ]
  },
  {
   "cell_type": "code",
   "execution_count": 57,
   "id": "2ff1d11d",
   "metadata": {},
   "outputs": [],
   "source": [
    "# estimators  : 랜덤 포레스트 안에 만들어지는 의사결정 나무의 갯수\n",
    "clf = RandomForestClassifier(n_estimators=100)"
   ]
  },
  {
   "cell_type": "code",
   "execution_count": 58,
   "id": "18d5426c",
   "metadata": {},
   "outputs": [
    {
     "data": {
      "text/plain": [
       "RandomForestClassifier()"
      ]
     },
     "execution_count": 58,
     "metadata": {},
     "output_type": "execute_result"
    }
   ],
   "source": [
    "clf.fit(X_train, y_train)"
   ]
  },
  {
   "cell_type": "code",
   "execution_count": 59,
   "id": "aa7dabd3",
   "metadata": {},
   "outputs": [],
   "source": [
    "y_pred = clf.predict(X_test)"
   ]
  },
  {
   "cell_type": "code",
   "execution_count": 60,
   "id": "e7d66565",
   "metadata": {},
   "outputs": [
    {
     "name": "stdout",
     "output_type": "stream",
     "text": [
      "Accuracy: 0.013157894736842105\n"
     ]
    }
   ],
   "source": [
    "from sklearn import metrics\n",
    "print(\"Accuracy:\",metrics.accuracy_score(y_test, y_pred))"
   ]
  },
  {
   "cell_type": "code",
   "execution_count": 61,
   "id": "a68b2d8e",
   "metadata": {},
   "outputs": [],
   "source": [
    "score_r = metrics.accuracy_score(y_test, y_pred)"
   ]
  },
  {
   "cell_type": "code",
   "execution_count": 62,
   "id": "deb9034d",
   "metadata": {},
   "outputs": [
    {
     "name": "stdout",
     "output_type": "stream",
     "text": [
      "RMSE: 77095.625138\n"
     ]
    }
   ],
   "source": [
    "from sklearn.metrics import mean_squared_error\n",
    "rmse = np.sqrt(mean_squared_error(y_test, y_pred))\n",
    "print(\"RMSE: %f\" % (rmse))"
   ]
  },
  {
   "cell_type": "code",
   "execution_count": 63,
   "id": "181fcd19",
   "metadata": {},
   "outputs": [],
   "source": [
    "rmse_r = rmse"
   ]
  },
  {
   "cell_type": "code",
   "execution_count": 64,
   "id": "496158e9",
   "metadata": {},
   "outputs": [],
   "source": [
    "data_a = data.columns.tolist()"
   ]
  },
  {
   "cell_type": "code",
   "execution_count": 65,
   "id": "a8a9f1cf",
   "metadata": {},
   "outputs": [
    {
     "data": {
      "text/plain": [
       "wish                 0.089596\n",
       "price1               0.089357\n",
       "price3               0.088253\n",
       "price2               0.086061\n",
       "price                0.064430\n",
       "                       ...   \n",
       "category_jordan 5    0.001053\n",
       "col2_lime            0.001048\n",
       "col2_silver          0.000000\n",
       "scrap                0.000000\n",
       "col2_ivory           0.000000\n",
       "Length: 75, dtype: float64"
      ]
     },
     "execution_count": 65,
     "metadata": {},
     "output_type": "execute_result"
    }
   ],
   "source": [
    "# 영향\n",
    "feature_imp = pd.Series(clf.feature_importances_, index=data_a).sort_values(ascending=False)\n",
    "feature_imp"
   ]
  },
  {
   "cell_type": "code",
   "execution_count": 66,
   "id": "3446202d",
   "metadata": {},
   "outputs": [
    {
     "name": "stderr",
     "output_type": "stream",
     "text": [
      "No artists with labels found to put in legend.  Note that artists whose label start with an underscore are ignored when legend() is called with no argument.\n"
     ]
    },
    {
     "data": {
      "image/png": "[encoded data removed]",
      "text/plain": [
       "<Figure size 432x720 with 1 Axes>"
      ]
     },
     "metadata": {
      "needs_background": "light"
     },
     "output_type": "display_data"
    }
   ],
   "source": [
    "# Commented out IPython magic to ensure Python compatibility.\n",
    "import matplotlib.pyplot as plt\n",
    "# %matplotlib inline\n",
    "plt.figure(figsize=(6,10))\n",
    "sns.barplot(x=feature_imp, y=feature_imp.index)\n",
    "plt.xlabel('Feature Importance Score')\n",
    "plt.ylabel('Features')\n",
    "plt.title(\"Visualizing Important Features\")\n",
    "plt.legend()\n",
    "plt.show()"
   ]
  },
  {
   "cell_type": "markdown",
   "id": "a4fc488f",
   "metadata": {},
   "source": [
    "pca"
   ]
  },
  {
   "cell_type": "markdown",
   "id": "e1566b29",
   "metadata": {},
   "source": [
    "## 다중회귀"
   ]
  },
  {
   "cell_type": "code",
   "execution_count": 67,
   "id": "2a9bd4c5",
   "metadata": {},
   "outputs": [
    {
     "data": {
      "text/plain": [
       "LinearRegression()"
      ]
     },
     "execution_count": 67,
     "metadata": {},
     "output_type": "execute_result"
    }
   ],
   "source": [
    "from sklearn.linear_model import LinearRegression\n",
    "mlr = LinearRegression()\n",
    "mlr.fit(X_train, y_train) "
   ]
  },
  {
   "cell_type": "code",
   "execution_count": 68,
   "id": "7e6b12e6",
   "metadata": {},
   "outputs": [],
   "source": [
    "y_predict = mlr.predict(X_test)"
   ]
  },
  {
   "cell_type": "code",
   "execution_count": 69,
   "id": "2629ad55",
   "metadata": {},
   "outputs": [
    {
     "data": {
      "image/png": "[encoded data removed]",
      "text/plain": [
       "<Figure size 432x288 with 1 Axes>"
      ]
     },
     "metadata": {
      "needs_background": "light"
     },
     "output_type": "display_data"
    }
   ],
   "source": [
    "import matplotlib.pyplot as plt\n",
    "plt.scatter(y_test, y_predict, alpha=0.4)\n",
    "plt.xlabel(\"Actual min\")\n",
    "plt.ylabel(\"Predicted min\")\n",
    "plt.title(\"MULTIPLE LINEAR REGRESSION\")\n",
    "plt.show()"
   ]
  },
  {
   "cell_type": "code",
   "execution_count": 70,
   "id": "35b46f03",
   "metadata": {},
   "outputs": [
    {
     "data": {
      "image/png": "[encoded data removed]",
      "text/plain": [
       "<Figure size 432x288 with 1 Axes>"
      ]
     },
     "metadata": {
      "needs_background": "light"
     },
     "output_type": "display_data"
    }
   ],
   "source": [
    "plt.scatter(df[['price']], df[['min']], alpha=0.4)\n",
    "plt.show()"
   ]
  },
  {
   "cell_type": "code",
   "execution_count": 71,
   "id": "1eb76ab9",
   "metadata": {},
   "outputs": [
    {
     "data": {
      "image/png": "[encoded data removed]",
      "text/plain": [
       "<Figure size 432x288 with 1 Axes>"
      ]
     },
     "metadata": {
      "needs_background": "light"
     },
     "output_type": "display_data"
    }
   ],
   "source": [
    "plt.scatter(df[['price1']], df[['min']], alpha=0.4)\n",
    "plt.show()"
   ]
  },
  {
   "cell_type": "code",
   "execution_count": 72,
   "id": "e0f19cc3",
   "metadata": {},
   "outputs": [
    {
     "data": {
      "image/png": "[encoded data removed]",
      "text/plain": [
       "<Figure size 432x288 with 1 Axes>"
      ]
     },
     "metadata": {
      "needs_background": "light"
     },
     "output_type": "display_data"
    }
   ],
   "source": [
    "plt.scatter(df[['price2']], df[['min']], alpha=0.4)\n",
    "plt.show()"
   ]
  },
  {
   "cell_type": "code",
   "execution_count": 73,
   "id": "c6bd3250",
   "metadata": {},
   "outputs": [
    {
     "data": {
      "image/png": "[encoded data removed]",
      "text/plain": [
       "<Figure size 432x288 with 1 Axes>"
      ]
     },
     "metadata": {
      "needs_background": "light"
     },
     "output_type": "display_data"
    }
   ],
   "source": [
    "plt.scatter(df[['price3']], df[['min']], alpha=0.4)\n",
    "plt.show()"
   ]
  },
  {
   "cell_type": "code",
   "execution_count": 74,
   "id": "8a76108e",
   "metadata": {},
   "outputs": [
    {
     "name": "stdout",
     "output_type": "stream",
     "text": [
      "[-4.18566624e-03  5.29516752e-02  3.92157311e-01  3.32505649e-01\n",
      "  2.09129779e-02 -2.66209099e-09 -2.19975802e+04  4.36181037e+03\n",
      " -1.70304499e+03 -3.00793296e+04  3.39061305e+04 -9.25974382e+03\n",
      "  2.78899050e+03 -6.68893657e+03 -6.96287359e+02 -4.49743178e+03\n",
      "  1.09811707e+04 -9.17033566e+03 -9.69229523e+03  1.21728946e+03\n",
      " -1.65315243e+03  1.69877307e+04  1.02159204e+04 -1.29581752e+03\n",
      " -7.42732029e+03 -1.58136707e+04  4.03845505e+04 -4.12249253e+03\n",
      " -1.22581685e+04  9.38760293e+03  3.70757864e+03  8.85275048e+03\n",
      "  4.14987730e+03 -1.02944973e+04  3.16042271e+03 -9.09774135e+03\n",
      "  3.45607987e-11 -6.09249135e+03  1.18787372e+04 -1.03774154e+04\n",
      " -8.73194059e+03 -1.22426966e+04 -1.76474778e+04 -1.16619345e+03\n",
      "  1.75693061e+04 -3.63797881e-12  1.03547527e+04  6.58942582e+03\n",
      " -6.42562607e+03  1.01189160e+04  1.60250413e+03  3.04467326e+03\n",
      "  1.12539532e+04 -2.39346247e+04 -1.76515041e+04  9.44173783e+04\n",
      " -2.17136494e+04 -1.60471687e+03  1.69365702e+03 -5.08009608e+04\n",
      "  2.78172738e+03  4.59442505e+03 -7.37615243e+03  1.69365702e+03\n",
      " -1.60471687e+03 -8.89401490e+01 -1.98031312e+03 -2.39199084e+03\n",
      " -7.43013848e+02 -4.48804547e+03  3.37164144e+04 -1.68711959e+04\n",
      " -7.24185525e+03  2.55220765e+02 -2.55220765e+02]\n"
     ]
    }
   ],
   "source": [
    "print(mlr.coef_)"
   ]
  },
  {
   "cell_type": "code",
   "execution_count": 75,
   "id": "26d6555d",
   "metadata": {},
   "outputs": [
    {
     "name": "stdout",
     "output_type": "stream",
     "text": [
      "0.9858503584084441\n"
     ]
    }
   ],
   "source": [
    "print(mlr.score(X_train, y_train))"
   ]
  },
  {
   "cell_type": "code",
   "execution_count": 76,
   "id": "b916a18b",
   "metadata": {},
   "outputs": [],
   "source": [
    "score_d = mlr.score(X_train, y_train)"
   ]
  },
  {
   "cell_type": "code",
   "execution_count": 77,
   "id": "3da86ae3",
   "metadata": {},
   "outputs": [
    {
     "name": "stdout",
     "output_type": "stream",
     "text": [
      "RMSE: 32248.539460\n"
     ]
    }
   ],
   "source": [
    "rmse = np.sqrt(mean_squared_error(y_test, y_predict))\n",
    "print(\"RMSE: %f\" % (rmse))"
   ]
  },
  {
   "cell_type": "code",
   "execution_count": 78,
   "id": "0efbe0b0",
   "metadata": {},
   "outputs": [],
   "source": [
    "rmse_d = rmse"
   ]
  },
  {
   "cell_type": "markdown",
   "id": "4d5c8a3b",
   "metadata": {},
   "source": [
    "## XGBoost"
   ]
  },
  {
   "cell_type": "code",
   "execution_count": 79,
   "id": "87fcf0e5",
   "metadata": {},
   "outputs": [],
   "source": [
    "import xgboost as xgb\n",
    "from sklearn.metrics import mean_squared_error\n",
    "import pandas as pd\n",
    "import numpy as np"
   ]
  },
  {
   "cell_type": "code",
   "execution_count": 80,
   "id": "83488e6f",
   "metadata": {},
   "outputs": [],
   "source": [
    "# xg_reg = xgb.XGBRegressor(objective ='reg:linear', colsample_bytree = 0.3, learning_rate = 0.1,\n",
    "#                 max_depth = 5, alpha = 10, n_estimators = 10)\n",
    "xg_reg = xgb.XGBRegressor(objective ='reg:linear',n_estimators = 100)"
   ]
  },
  {
   "cell_type": "code",
   "execution_count": 81,
   "id": "d938da04",
   "metadata": {},
   "outputs": [
    {
     "name": "stdout",
     "output_type": "stream",
     "text": [
      "[02:57:51] WARNING: /Users/runner/work/xgboost/xgboost/src/objective/regression_obj.cu:188: reg:linear is now deprecated in favor of reg:squarederror.\n"
     ]
    }
   ],
   "source": [
    "xg_reg.fit(X_train,y_train)\n",
    "preds = xg_reg.predict(X_test)"
   ]
  },
  {
   "cell_type": "code",
   "execution_count": 82,
   "id": "a3c81a7f",
   "metadata": {},
   "outputs": [
    {
     "name": "stdout",
     "output_type": "stream",
     "text": [
      "RMSE: 18413.984535\n"
     ]
    }
   ],
   "source": [
    "rmse = np.sqrt(mean_squared_error(y_test, preds))\n",
    "print(\"RMSE: %f\" % (rmse))"
   ]
  },
  {
   "cell_type": "code",
   "execution_count": 83,
   "id": "4c845cc0",
   "metadata": {},
   "outputs": [],
   "source": [
    "rmse_x = rmse"
   ]
  },
  {
   "cell_type": "code",
   "execution_count": 84,
   "id": "feefd25e",
   "metadata": {},
   "outputs": [
    {
     "name": "stdout",
     "output_type": "stream",
     "text": [
      "0.2\n",
      "251\n",
      "0.013157894736842105\n",
      "0.9858503584084441\n",
      "77095.62513767186\n",
      "32248.53946045243\n",
      "18413.984534994688\n"
     ]
    }
   ],
   "source": [
    "print(c)\n",
    "print(num)\n",
    "print(score_r)\n",
    "print(score_d)\n",
    "print(rmse_r)\n",
    "print(rmse_d)\n",
    "print(rmse_x)"
   ]
  }
 ],
 "metadata": {
  "kernelspec": {
   "display_name": "Python 3",
   "language": "python",
   "name": "python3"
  },
  "language_info": {
   "codemirror_mode": {
    "name": "ipython",
    "version": 3
   },
   "file_extension": ".py",
   "mimetype": "text/x-python",
   "name": "python",
   "nbconvert_exporter": "python",
   "pygments_lexer": "ipython3",
   "version": "3.8.8"
  },
  "toc": {
   "base_numbering": 1,
   "nav_menu": {},
   "number_sections": true,
   "sideBar": true,
   "skip_h1_title": false,
   "title_cell": "Table of Contents",
   "title_sidebar": "Contents",
   "toc_cell": false,
   "toc_position": {
    "height": "calc(100% - 180px)",
    "left": "10px",
    "top": "150px",
    "width": "165px"
   },
   "toc_section_display": true,
   "toc_window_display": true
  },
  "varInspector": {
   "cols": {
    "lenName": 16,
    "lenType": 16,
    "lenVar": 40
   },
   "kernels_config": {
    "python": {
     "delete_cmd_postfix": "",
     "delete_cmd_prefix": "del ",
     "library": "var_list.py",
     "varRefreshCmd": "print(var_dic_list())"
    },
    "r": {
     "delete_cmd_postfix": ") ",
     "delete_cmd_prefix": "rm(",
     "library": "var_list.r",
     "varRefreshCmd": "cat(var_dic_list()) "
    }
   },
   "types_to_exclude": [
    "module",
    "function",
    "builtin_function_or_method",
    "instance",
    "_Feature"
   ],
   "window_display": false
  }
 },
 "nbformat": 4,
 "nbformat_minor": 5
}
