{
 "cells": [
  {
   "cell_type": "code",
   "execution_count": 1,
   "id": "290e9c7d",
   "metadata": {},
   "outputs": [
    {
     "data": {
      "text/html": [
       "<div>\n",
       "<style scoped>\n",
       "    .dataframe tbody tr th:only-of-type {\n",
       "        vertical-align: middle;\n",
       "    }\n",
       "\n",
       "    .dataframe tbody tr th {\n",
       "        vertical-align: top;\n",
       "    }\n",
       "\n",
       "    .dataframe thead th {\n",
       "        text-align: right;\n",
       "    }\n",
       "</style>\n",
       "<table border=\"1\" class=\"dataframe\">\n",
       "  <thead>\n",
       "    <tr style=\"text-align: right;\">\n",
       "      <th></th>\n",
       "      <th>name</th>\n",
       "      <th>num</th>\n",
       "      <th>col</th>\n",
       "      <th>col1</th>\n",
       "      <th>col2</th>\n",
       "      <th>wish</th>\n",
       "      <th>day</th>\n",
       "      <th>price</th>\n",
       "      <th>day1</th>\n",
       "      <th>price1</th>\n",
       "      <th>...</th>\n",
       "      <th>category</th>\n",
       "      <th>high/low</th>\n",
       "      <th>W1M0</th>\n",
       "      <th>line</th>\n",
       "      <th>scrap</th>\n",
       "      <th>disrupt</th>\n",
       "      <th>X</th>\n",
       "      <th>event</th>\n",
       "      <th>prm</th>\n",
       "      <th>emb</th>\n",
       "    </tr>\n",
       "  </thead>\n",
       "  <tbody>\n",
       "    <tr>\n",
       "      <th>0</th>\n",
       "      <td>(W) nike Dunk High Aluminum</td>\n",
       "      <td>DD1869-107</td>\n",
       "      <td>WHITE/ALUMINUM</td>\n",
       "      <td>white</td>\n",
       "      <td>blue</td>\n",
       "      <td>5072</td>\n",
       "      <td>2021-08-17</td>\n",
       "      <td>129000</td>\n",
       "      <td>2021-07-24</td>\n",
       "      <td>170000</td>\n",
       "      <td>...</td>\n",
       "      <td>dunk</td>\n",
       "      <td>high</td>\n",
       "      <td>w</td>\n",
       "      <td>nm</td>\n",
       "      <td>0</td>\n",
       "      <td>0</td>\n",
       "      <td>0</td>\n",
       "      <td>0</td>\n",
       "      <td>0</td>\n",
       "      <td>0</td>\n",
       "    </tr>\n",
       "    <tr>\n",
       "      <th>1</th>\n",
       "      <td>(W) nike Dunk High Black and White</td>\n",
       "      <td>DD1869-103</td>\n",
       "      <td>WHITE/BLACK-UNIVERSITY RED</td>\n",
       "      <td>white</td>\n",
       "      <td>black</td>\n",
       "      <td>10000</td>\n",
       "      <td>2021-05-01</td>\n",
       "      <td>129000</td>\n",
       "      <td>2021-05-01</td>\n",
       "      <td>299500</td>\n",
       "      <td>...</td>\n",
       "      <td>dunk</td>\n",
       "      <td>high</td>\n",
       "      <td>w</td>\n",
       "      <td>nm</td>\n",
       "      <td>0</td>\n",
       "      <td>0</td>\n",
       "      <td>0</td>\n",
       "      <td>0</td>\n",
       "      <td>0</td>\n",
       "      <td>0</td>\n",
       "    </tr>\n",
       "    <tr>\n",
       "      <th>2</th>\n",
       "      <td>(W) nike Dunk High Crimson Tint</td>\n",
       "      <td>DD1869-104</td>\n",
       "      <td>SAIL/CRIMSON TINT</td>\n",
       "      <td>white</td>\n",
       "      <td>pink</td>\n",
       "      <td>1381</td>\n",
       "      <td>2021-06-04</td>\n",
       "      <td>129000</td>\n",
       "      <td>2021-05-22</td>\n",
       "      <td>130000</td>\n",
       "      <td>...</td>\n",
       "      <td>dunk</td>\n",
       "      <td>high</td>\n",
       "      <td>w</td>\n",
       "      <td>nm</td>\n",
       "      <td>0</td>\n",
       "      <td>0</td>\n",
       "      <td>0</td>\n",
       "      <td>0</td>\n",
       "      <td>0</td>\n",
       "      <td>0</td>\n",
       "    </tr>\n",
       "    <tr>\n",
       "      <th>3</th>\n",
       "      <td>(W) nike Dunk High Dark Sulfur</td>\n",
       "      <td>DD1869-106</td>\n",
       "      <td>WHITE/DARK SULFUR-WHITE</td>\n",
       "      <td>white</td>\n",
       "      <td>yellow</td>\n",
       "      <td>2607</td>\n",
       "      <td>2021-04-16</td>\n",
       "      <td>129000</td>\n",
       "      <td>2021-04-16</td>\n",
       "      <td>207692</td>\n",
       "      <td>...</td>\n",
       "      <td>dunk</td>\n",
       "      <td>high</td>\n",
       "      <td>w</td>\n",
       "      <td>sp</td>\n",
       "      <td>0</td>\n",
       "      <td>0</td>\n",
       "      <td>0</td>\n",
       "      <td>0</td>\n",
       "      <td>0</td>\n",
       "      <td>0</td>\n",
       "    </tr>\n",
       "    <tr>\n",
       "      <th>4</th>\n",
       "      <td>(W) nike Dunk High Football Grey</td>\n",
       "      <td>DD1869-102</td>\n",
       "      <td>SAIL/FOOTBALL GREY-PALE IVORY</td>\n",
       "      <td>white</td>\n",
       "      <td>grey</td>\n",
       "      <td>5488</td>\n",
       "      <td>2021-01-07</td>\n",
       "      <td>129000</td>\n",
       "      <td>2021-01-06</td>\n",
       "      <td>166000</td>\n",
       "      <td>...</td>\n",
       "      <td>dunk</td>\n",
       "      <td>high</td>\n",
       "      <td>w</td>\n",
       "      <td>nm</td>\n",
       "      <td>0</td>\n",
       "      <td>0</td>\n",
       "      <td>0</td>\n",
       "      <td>0</td>\n",
       "      <td>0</td>\n",
       "      <td>0</td>\n",
       "    </tr>\n",
       "    <tr>\n",
       "      <th>...</th>\n",
       "      <td>...</td>\n",
       "      <td>...</td>\n",
       "      <td>...</td>\n",
       "      <td>...</td>\n",
       "      <td>...</td>\n",
       "      <td>...</td>\n",
       "      <td>...</td>\n",
       "      <td>...</td>\n",
       "      <td>...</td>\n",
       "      <td>...</td>\n",
       "      <td>...</td>\n",
       "      <td>...</td>\n",
       "      <td>...</td>\n",
       "      <td>...</td>\n",
       "      <td>...</td>\n",
       "      <td>...</td>\n",
       "      <td>...</td>\n",
       "      <td>...</td>\n",
       "      <td>...</td>\n",
       "      <td>...</td>\n",
       "      <td>...</td>\n",
       "    </tr>\n",
       "    <tr>\n",
       "      <th>384</th>\n",
       "      <td>Adidas Yeezy Boost 700 V2 Mauve</td>\n",
       "      <td>GZ0724</td>\n",
       "      <td>MAUVE/MAUVE/MAUVE</td>\n",
       "      <td>grey</td>\n",
       "      <td>grey</td>\n",
       "      <td>751</td>\n",
       "      <td>2021-09-25</td>\n",
       "      <td>309000</td>\n",
       "      <td>2021-09-25</td>\n",
       "      <td>344455</td>\n",
       "      <td>...</td>\n",
       "      <td>yeezy</td>\n",
       "      <td>low</td>\n",
       "      <td>m</td>\n",
       "      <td>nm</td>\n",
       "      <td>0</td>\n",
       "      <td>0</td>\n",
       "      <td>0</td>\n",
       "      <td>0</td>\n",
       "      <td>0</td>\n",
       "      <td>0</td>\n",
       "    </tr>\n",
       "    <tr>\n",
       "      <th>385</th>\n",
       "      <td>Adidas Yeezy Boost 700 Wash Orange</td>\n",
       "      <td>GW0296</td>\n",
       "      <td>WASH ORANGE/WASH ORANGE/WASH ORANGE</td>\n",
       "      <td>blue</td>\n",
       "      <td>orange</td>\n",
       "      <td>362</td>\n",
       "      <td>2021-10-15</td>\n",
       "      <td>309000</td>\n",
       "      <td>2021-10-16</td>\n",
       "      <td>324500</td>\n",
       "      <td>...</td>\n",
       "      <td>yeezy</td>\n",
       "      <td>low</td>\n",
       "      <td>m</td>\n",
       "      <td>nm</td>\n",
       "      <td>0</td>\n",
       "      <td>0</td>\n",
       "      <td>0</td>\n",
       "      <td>0</td>\n",
       "      <td>0</td>\n",
       "      <td>0</td>\n",
       "    </tr>\n",
       "    <tr>\n",
       "      <th>386</th>\n",
       "      <td>Adidas Yeezy QNTM Barium</td>\n",
       "      <td>H68771</td>\n",
       "      <td>BARIUM/BARIUM/BARIUM</td>\n",
       "      <td>beige</td>\n",
       "      <td>black</td>\n",
       "      <td>800</td>\n",
       "      <td>2020-06-25</td>\n",
       "      <td>329000</td>\n",
       "      <td>2020-06-25</td>\n",
       "      <td>542600</td>\n",
       "      <td>...</td>\n",
       "      <td>yeezy</td>\n",
       "      <td>low</td>\n",
       "      <td>m</td>\n",
       "      <td>nm</td>\n",
       "      <td>0</td>\n",
       "      <td>0</td>\n",
       "      <td>0</td>\n",
       "      <td>0</td>\n",
       "      <td>0</td>\n",
       "      <td>0</td>\n",
       "    </tr>\n",
       "    <tr>\n",
       "      <th>387</th>\n",
       "      <td>Adidas Yeezy QNTM Lifestyle</td>\n",
       "      <td>Q46473</td>\n",
       "      <td>QNTM</td>\n",
       "      <td>black</td>\n",
       "      <td>black</td>\n",
       "      <td>1294</td>\n",
       "      <td>2020-09-05</td>\n",
       "      <td>329000</td>\n",
       "      <td>2020-06-08</td>\n",
       "      <td>1250000</td>\n",
       "      <td>...</td>\n",
       "      <td>yeezy</td>\n",
       "      <td>low</td>\n",
       "      <td>m</td>\n",
       "      <td>nm</td>\n",
       "      <td>0</td>\n",
       "      <td>0</td>\n",
       "      <td>0</td>\n",
       "      <td>0</td>\n",
       "      <td>0</td>\n",
       "      <td>0</td>\n",
       "    </tr>\n",
       "    <tr>\n",
       "      <th>388</th>\n",
       "      <td>Adidas Yeezy QNTM Onyx</td>\n",
       "      <td>GX1317</td>\n",
       "      <td>ONYX/ONYX/ONYX</td>\n",
       "      <td>grey</td>\n",
       "      <td>black</td>\n",
       "      <td>425</td>\n",
       "      <td>2021-09-10</td>\n",
       "      <td>355100</td>\n",
       "      <td>2021-09-10</td>\n",
       "      <td>375000</td>\n",
       "      <td>...</td>\n",
       "      <td>yeezy</td>\n",
       "      <td>low</td>\n",
       "      <td>m</td>\n",
       "      <td>nm</td>\n",
       "      <td>0</td>\n",
       "      <td>0</td>\n",
       "      <td>0</td>\n",
       "      <td>0</td>\n",
       "      <td>0</td>\n",
       "      <td>0</td>\n",
       "    </tr>\n",
       "  </tbody>\n",
       "</table>\n",
       "<p>389 rows × 24 columns</p>\n",
       "</div>"
      ],
      "text/plain": [
       "                                   name         num  \\\n",
       "0           (W) nike Dunk High Aluminum  DD1869-107   \n",
       "1    (W) nike Dunk High Black and White  DD1869-103   \n",
       "2       (W) nike Dunk High Crimson Tint  DD1869-104   \n",
       "3        (W) nike Dunk High Dark Sulfur  DD1869-106   \n",
       "4      (W) nike Dunk High Football Grey  DD1869-102   \n",
       "..                                  ...         ...   \n",
       "384     Adidas Yeezy Boost 700 V2 Mauve     GZ0724    \n",
       "385  Adidas Yeezy Boost 700 Wash Orange     GW0296    \n",
       "386            Adidas Yeezy QNTM Barium     H68771    \n",
       "387         Adidas Yeezy QNTM Lifestyle     Q46473    \n",
       "388              Adidas Yeezy QNTM Onyx     GX1317    \n",
       "\n",
       "                                       col   col1    col2   wish         day  \\\n",
       "0                           WHITE/ALUMINUM  white    blue   5072  2021-08-17   \n",
       "1               WHITE/BLACK-UNIVERSITY RED  white   black  10000  2021-05-01   \n",
       "2                        SAIL/CRIMSON TINT  white    pink   1381  2021-06-04   \n",
       "3                  WHITE/DARK SULFUR-WHITE  white  yellow   2607  2021-04-16   \n",
       "4            SAIL/FOOTBALL GREY-PALE IVORY  white    grey   5488  2021-01-07   \n",
       "..                                     ...    ...     ...    ...         ...   \n",
       "384                     MAUVE/MAUVE/MAUVE    grey    grey    751  2021-09-25   \n",
       "385   WASH ORANGE/WASH ORANGE/WASH ORANGE    blue  orange    362  2021-10-15   \n",
       "386                  BARIUM/BARIUM/BARIUM   beige   black    800  2020-06-25   \n",
       "387                                  QNTM   black   black   1294  2020-09-05   \n",
       "388                        ONYX/ONYX/ONYX    grey   black    425  2021-09-10   \n",
       "\n",
       "      price        day1   price1  ...  category  high/low  W1M0 line scrap  \\\n",
       "0    129000  2021-07-24   170000  ...      dunk      high     w   nm     0   \n",
       "1    129000  2021-05-01   299500  ...      dunk      high     w   nm     0   \n",
       "2    129000  2021-05-22   130000  ...      dunk      high     w   nm     0   \n",
       "3    129000  2021-04-16   207692  ...      dunk      high     w   sp     0   \n",
       "4    129000  2021-01-06   166000  ...      dunk      high     w   nm     0   \n",
       "..      ...         ...      ...  ...       ...       ...   ...  ...   ...   \n",
       "384  309000  2021-09-25   344455  ...     yeezy       low     m   nm     0   \n",
       "385  309000  2021-10-16   324500  ...     yeezy       low     m   nm     0   \n",
       "386  329000  2020-06-25   542600  ...     yeezy       low     m   nm     0   \n",
       "387  329000  2020-06-08  1250000  ...     yeezy       low     m   nm     0   \n",
       "388  355100  2021-09-10   375000  ...     yeezy       low     m   nm     0   \n",
       "\n",
       "    disrupt  X event  prm  emb  \n",
       "0         0  0     0    0    0  \n",
       "1         0  0     0    0    0  \n",
       "2         0  0     0    0    0  \n",
       "3         0  0     0    0    0  \n",
       "4         0  0     0    0    0  \n",
       "..      ... ..   ...  ...  ...  \n",
       "384       0  0     0    0    0  \n",
       "385       0  0     0    0    0  \n",
       "386       0  0     0    0    0  \n",
       "387       0  0     0    0    0  \n",
       "388       0  0     0    0    0  \n",
       "\n",
       "[389 rows x 24 columns]"
      ]
     },
     "execution_count": 1,
     "metadata": {},
     "output_type": "execute_result"
    }
   ],
   "source": [
    "import pandas as pd\n",
    "df = pd.read_csv(\"./df_concat(최종388개).csv\")\n",
    "df = df.dropna()\n",
    "df"
   ]
  },
  {
   "cell_type": "code",
   "execution_count": 2,
   "id": "f9396086",
   "metadata": {},
   "outputs": [],
   "source": [
    "df = df.drop([\"name\", \"num\",\"day\", \"day1\",\"col\"], axis = 1)"
   ]
  },
  {
   "cell_type": "code",
   "execution_count": 3,
   "id": "be8e238a",
   "metadata": {},
   "outputs": [
    {
     "data": {
      "text/html": [
       "<div>\n",
       "<style scoped>\n",
       "    .dataframe tbody tr th:only-of-type {\n",
       "        vertical-align: middle;\n",
       "    }\n",
       "\n",
       "    .dataframe tbody tr th {\n",
       "        vertical-align: top;\n",
       "    }\n",
       "\n",
       "    .dataframe thead th {\n",
       "        text-align: right;\n",
       "    }\n",
       "</style>\n",
       "<table border=\"1\" class=\"dataframe\">\n",
       "  <thead>\n",
       "    <tr style=\"text-align: right;\">\n",
       "      <th></th>\n",
       "      <th>col1</th>\n",
       "      <th>col2</th>\n",
       "      <th>wish</th>\n",
       "      <th>price</th>\n",
       "      <th>price1</th>\n",
       "      <th>price2</th>\n",
       "      <th>price3</th>\n",
       "      <th>min</th>\n",
       "      <th>brand</th>\n",
       "      <th>category</th>\n",
       "      <th>high/low</th>\n",
       "      <th>W1M0</th>\n",
       "      <th>line</th>\n",
       "      <th>scrap</th>\n",
       "      <th>disrupt</th>\n",
       "      <th>X</th>\n",
       "      <th>event</th>\n",
       "      <th>prm</th>\n",
       "      <th>emb</th>\n",
       "    </tr>\n",
       "  </thead>\n",
       "  <tbody>\n",
       "    <tr>\n",
       "      <th>0</th>\n",
       "      <td>white</td>\n",
       "      <td>blue</td>\n",
       "      <td>5072</td>\n",
       "      <td>129000</td>\n",
       "      <td>170000</td>\n",
       "      <td>150000</td>\n",
       "      <td>150750</td>\n",
       "      <td>132700</td>\n",
       "      <td>nike</td>\n",
       "      <td>dunk</td>\n",
       "      <td>high</td>\n",
       "      <td>w</td>\n",
       "      <td>nm</td>\n",
       "      <td>0</td>\n",
       "      <td>0</td>\n",
       "      <td>0</td>\n",
       "      <td>0</td>\n",
       "      <td>0</td>\n",
       "      <td>0</td>\n",
       "    </tr>\n",
       "    <tr>\n",
       "      <th>1</th>\n",
       "      <td>white</td>\n",
       "      <td>black</td>\n",
       "      <td>10000</td>\n",
       "      <td>129000</td>\n",
       "      <td>299500</td>\n",
       "      <td>315000</td>\n",
       "      <td>350000</td>\n",
       "      <td>214500</td>\n",
       "      <td>nike</td>\n",
       "      <td>dunk</td>\n",
       "      <td>high</td>\n",
       "      <td>w</td>\n",
       "      <td>nm</td>\n",
       "      <td>0</td>\n",
       "      <td>0</td>\n",
       "      <td>0</td>\n",
       "      <td>0</td>\n",
       "      <td>0</td>\n",
       "      <td>0</td>\n",
       "    </tr>\n",
       "    <tr>\n",
       "      <th>2</th>\n",
       "      <td>white</td>\n",
       "      <td>pink</td>\n",
       "      <td>1381</td>\n",
       "      <td>129000</td>\n",
       "      <td>130000</td>\n",
       "      <td>130000</td>\n",
       "      <td>132500</td>\n",
       "      <td>123000</td>\n",
       "      <td>nike</td>\n",
       "      <td>dunk</td>\n",
       "      <td>high</td>\n",
       "      <td>w</td>\n",
       "      <td>nm</td>\n",
       "      <td>0</td>\n",
       "      <td>0</td>\n",
       "      <td>0</td>\n",
       "      <td>0</td>\n",
       "      <td>0</td>\n",
       "      <td>0</td>\n",
       "    </tr>\n",
       "    <tr>\n",
       "      <th>3</th>\n",
       "      <td>white</td>\n",
       "      <td>yellow</td>\n",
       "      <td>2607</td>\n",
       "      <td>129000</td>\n",
       "      <td>207692</td>\n",
       "      <td>197200</td>\n",
       "      <td>193455</td>\n",
       "      <td>160000</td>\n",
       "      <td>nike</td>\n",
       "      <td>dunk</td>\n",
       "      <td>high</td>\n",
       "      <td>w</td>\n",
       "      <td>sp</td>\n",
       "      <td>0</td>\n",
       "      <td>0</td>\n",
       "      <td>0</td>\n",
       "      <td>0</td>\n",
       "      <td>0</td>\n",
       "      <td>0</td>\n",
       "    </tr>\n",
       "    <tr>\n",
       "      <th>4</th>\n",
       "      <td>white</td>\n",
       "      <td>grey</td>\n",
       "      <td>5488</td>\n",
       "      <td>129000</td>\n",
       "      <td>166000</td>\n",
       "      <td>248667</td>\n",
       "      <td>246250</td>\n",
       "      <td>166000</td>\n",
       "      <td>nike</td>\n",
       "      <td>dunk</td>\n",
       "      <td>high</td>\n",
       "      <td>w</td>\n",
       "      <td>nm</td>\n",
       "      <td>0</td>\n",
       "      <td>0</td>\n",
       "      <td>0</td>\n",
       "      <td>0</td>\n",
       "      <td>0</td>\n",
       "      <td>0</td>\n",
       "    </tr>\n",
       "    <tr>\n",
       "      <th>...</th>\n",
       "      <td>...</td>\n",
       "      <td>...</td>\n",
       "      <td>...</td>\n",
       "      <td>...</td>\n",
       "      <td>...</td>\n",
       "      <td>...</td>\n",
       "      <td>...</td>\n",
       "      <td>...</td>\n",
       "      <td>...</td>\n",
       "      <td>...</td>\n",
       "      <td>...</td>\n",
       "      <td>...</td>\n",
       "      <td>...</td>\n",
       "      <td>...</td>\n",
       "      <td>...</td>\n",
       "      <td>...</td>\n",
       "      <td>...</td>\n",
       "      <td>...</td>\n",
       "      <td>...</td>\n",
       "    </tr>\n",
       "    <tr>\n",
       "      <th>384</th>\n",
       "      <td>grey</td>\n",
       "      <td>grey</td>\n",
       "      <td>751</td>\n",
       "      <td>309000</td>\n",
       "      <td>344455</td>\n",
       "      <td>343667</td>\n",
       "      <td>329760</td>\n",
       "      <td>314000</td>\n",
       "      <td>adidas</td>\n",
       "      <td>yeezy</td>\n",
       "      <td>low</td>\n",
       "      <td>m</td>\n",
       "      <td>nm</td>\n",
       "      <td>0</td>\n",
       "      <td>0</td>\n",
       "      <td>0</td>\n",
       "      <td>0</td>\n",
       "      <td>0</td>\n",
       "      <td>0</td>\n",
       "    </tr>\n",
       "    <tr>\n",
       "      <th>385</th>\n",
       "      <td>blue</td>\n",
       "      <td>orange</td>\n",
       "      <td>362</td>\n",
       "      <td>309000</td>\n",
       "      <td>324500</td>\n",
       "      <td>319000</td>\n",
       "      <td>319000</td>\n",
       "      <td>245000</td>\n",
       "      <td>adidas</td>\n",
       "      <td>yeezy</td>\n",
       "      <td>low</td>\n",
       "      <td>m</td>\n",
       "      <td>nm</td>\n",
       "      <td>0</td>\n",
       "      <td>0</td>\n",
       "      <td>0</td>\n",
       "      <td>0</td>\n",
       "      <td>0</td>\n",
       "      <td>0</td>\n",
       "    </tr>\n",
       "    <tr>\n",
       "      <th>386</th>\n",
       "      <td>beige</td>\n",
       "      <td>black</td>\n",
       "      <td>800</td>\n",
       "      <td>329000</td>\n",
       "      <td>542600</td>\n",
       "      <td>485118</td>\n",
       "      <td>525455</td>\n",
       "      <td>426000</td>\n",
       "      <td>adidas</td>\n",
       "      <td>yeezy</td>\n",
       "      <td>low</td>\n",
       "      <td>m</td>\n",
       "      <td>nm</td>\n",
       "      <td>0</td>\n",
       "      <td>0</td>\n",
       "      <td>0</td>\n",
       "      <td>0</td>\n",
       "      <td>0</td>\n",
       "      <td>0</td>\n",
       "    </tr>\n",
       "    <tr>\n",
       "      <th>387</th>\n",
       "      <td>black</td>\n",
       "      <td>black</td>\n",
       "      <td>1294</td>\n",
       "      <td>329000</td>\n",
       "      <td>1250000</td>\n",
       "      <td>1250000</td>\n",
       "      <td>1250000</td>\n",
       "      <td>411000</td>\n",
       "      <td>adidas</td>\n",
       "      <td>yeezy</td>\n",
       "      <td>low</td>\n",
       "      <td>m</td>\n",
       "      <td>nm</td>\n",
       "      <td>0</td>\n",
       "      <td>0</td>\n",
       "      <td>0</td>\n",
       "      <td>0</td>\n",
       "      <td>0</td>\n",
       "      <td>0</td>\n",
       "    </tr>\n",
       "    <tr>\n",
       "      <th>388</th>\n",
       "      <td>grey</td>\n",
       "      <td>black</td>\n",
       "      <td>425</td>\n",
       "      <td>355100</td>\n",
       "      <td>375000</td>\n",
       "      <td>330000</td>\n",
       "      <td>330000</td>\n",
       "      <td>200000</td>\n",
       "      <td>adidas</td>\n",
       "      <td>yeezy</td>\n",
       "      <td>low</td>\n",
       "      <td>m</td>\n",
       "      <td>nm</td>\n",
       "      <td>0</td>\n",
       "      <td>0</td>\n",
       "      <td>0</td>\n",
       "      <td>0</td>\n",
       "      <td>0</td>\n",
       "      <td>0</td>\n",
       "    </tr>\n",
       "  </tbody>\n",
       "</table>\n",
       "<p>364 rows × 19 columns</p>\n",
       "</div>"
      ],
      "text/plain": [
       "      col1    col2   wish   price   price1   price2   price3     min   brand  \\\n",
       "0    white    blue   5072  129000   170000   150000   150750  132700    nike   \n",
       "1    white   black  10000  129000   299500   315000   350000  214500    nike   \n",
       "2    white    pink   1381  129000   130000   130000   132500  123000    nike   \n",
       "3    white  yellow   2607  129000   207692   197200   193455  160000    nike   \n",
       "4    white    grey   5488  129000   166000   248667   246250  166000    nike   \n",
       "..     ...     ...    ...     ...      ...      ...      ...     ...     ...   \n",
       "384   grey    grey    751  309000   344455   343667   329760  314000  adidas   \n",
       "385   blue  orange    362  309000   324500   319000   319000  245000  adidas   \n",
       "386  beige   black    800  329000   542600   485118   525455  426000  adidas   \n",
       "387  black   black   1294  329000  1250000  1250000  1250000  411000  adidas   \n",
       "388   grey   black    425  355100   375000   330000   330000  200000  adidas   \n",
       "\n",
       "    category high/low W1M0 line  scrap  disrupt  X  event  prm  emb  \n",
       "0       dunk     high    w   nm      0        0  0      0    0    0  \n",
       "1       dunk     high    w   nm      0        0  0      0    0    0  \n",
       "2       dunk     high    w   nm      0        0  0      0    0    0  \n",
       "3       dunk     high    w   sp      0        0  0      0    0    0  \n",
       "4       dunk     high    w   nm      0        0  0      0    0    0  \n",
       "..       ...      ...  ...  ...    ...      ... ..    ...  ...  ...  \n",
       "384    yeezy      low    m   nm      0        0  0      0    0    0  \n",
       "385    yeezy      low    m   nm      0        0  0      0    0    0  \n",
       "386    yeezy      low    m   nm      0        0  0      0    0    0  \n",
       "387    yeezy      low    m   nm      0        0  0      0    0    0  \n",
       "388    yeezy      low    m   nm      0        0  0      0    0    0  \n",
       "\n",
       "[364 rows x 19 columns]"
      ]
     },
     "execution_count": 3,
     "metadata": {},
     "output_type": "execute_result"
    }
   ],
   "source": [
    "growth = ((df['min']-df['price'])/df['price'] * 100)\n",
    "growth.describe()\n",
    "\n",
    "a = growth.describe().tolist()[4]\n",
    "b = growth.describe().tolist()[6]\n",
    "\n",
    "top = b + 1.5*(b-a)\n",
    "bottom = a - 1.5*(b-a)\n",
    "\n",
    "df = df[(growth <= top) & (growth >= bottom)]\n",
    "\n",
    "df"
   ]
  },
  {
   "cell_type": "code",
   "execution_count": 4,
   "id": "14fb1019",
   "metadata": {},
   "outputs": [],
   "source": [
    "# 색상값 1\n",
    "df_col1 = pd.get_dummies(df['col1'], prefix = 'col1')\n",
    "df_col2 = pd.get_dummies(df['col2'], prefix = 'col2')\n",
    "df_co1_1 = pd.concat([df_col1 , df_col2], axis =1)\n",
    "\n",
    "# 카테고리\n",
    "df_category = pd.get_dummies(df['category'], prefix = 'category')\n",
    "\n",
    "# 로우하이\n",
    "df_high_low_mid = pd.get_dummies(df['high/low'], prefix = 'high/low/mid')\n",
    "\n",
    "# 브랜드\n",
    "df_brand = pd.get_dummies(df['brand'], prefix = 'brand')\n",
    "\n",
    "# line\n",
    "df_line = pd.get_dummies(df['line'], prefix = 'line')\n",
    "\n",
    "# 성별\n",
    "df_sex = pd.get_dummies(df['W1M0'], prefix = 'W1M0')\n",
    "\n",
    "df_final_p = pd.concat([df_co1_1, df_category, df_high_low_mid, df_brand, df_line, df_sex], axis =1)"
   ]
  },
  {
   "cell_type": "code",
   "execution_count": 5,
   "id": "4123e705",
   "metadata": {},
   "outputs": [],
   "source": [
    "df_copy = df.copy().drop([\"col1\",\"col2\",\"brand\",\"category\",\"high/low\",\"W1M0\",\"line\"], axis = 1)"
   ]
  },
  {
   "cell_type": "code",
   "execution_count": 6,
   "id": "270626ae",
   "metadata": {},
   "outputs": [],
   "source": [
    "df = pd.concat([df_copy, df_final_p], axis = 1)"
   ]
  },
  {
   "cell_type": "code",
   "execution_count": 7,
   "id": "900c7a0a",
   "metadata": {},
   "outputs": [],
   "source": [
    "data = df.drop(\"min\", axis = 1)"
   ]
  },
  {
   "cell_type": "code",
   "execution_count": 8,
   "id": "c543383f",
   "metadata": {},
   "outputs": [
    {
     "data": {
      "text/plain": [
       "array([[   5072,  129000,  170000, ...,       0,       0,       1],\n",
       "       [  10000,  129000,  299500, ...,       0,       0,       1],\n",
       "       [   1381,  129000,  130000, ...,       0,       0,       1],\n",
       "       ...,\n",
       "       [    800,  329000,  542600, ...,       0,       1,       0],\n",
       "       [   1294,  329000, 1250000, ...,       0,       1,       0],\n",
       "       [    425,  355100,  375000, ...,       0,       1,       0]])"
      ]
     },
     "execution_count": 8,
     "metadata": {},
     "output_type": "execute_result"
    }
   ],
   "source": [
    "data.to_numpy()"
   ]
  },
  {
   "cell_type": "code",
   "execution_count": 9,
   "id": "65944bb1",
   "metadata": {},
   "outputs": [
    {
     "data": {
      "text/plain": [
       "array([132700, 214500, 123000, 160000, 166000, 127000, 160818, 112000,\n",
       "       120000, 176143, 213571, 139333, 152667, 105000, 269000, 165167,\n",
       "       158000, 186700, 176000, 200000, 185000, 126000, 214000, 117000,\n",
       "       228615, 151727, 122000, 255000, 205000, 137000, 142500, 174000,\n",
       "       450000, 563500, 226000, 356000, 226333, 185000, 300000, 340000,\n",
       "       162000, 110000, 125000, 194600, 149000, 129000, 147600, 120000,\n",
       "       139000, 142429, 183500, 181111, 172000, 132000, 166000, 152000,\n",
       "       160000, 170000, 536667, 535415, 251267, 268667, 118500, 147500,\n",
       "       168129, 133000, 143500, 145000, 141500, 138000, 122167, 135000,\n",
       "       130000, 151750, 126000, 143571, 326000, 136800, 120000, 135000,\n",
       "        82000, 130800, 120000,  99000, 230000, 290000, 259000, 295000,\n",
       "       289000, 229000, 216000, 305000, 429167, 140000, 181000, 131000,\n",
       "       190000, 108667, 109000, 119000, 119086, 230000, 320000, 311000,\n",
       "       636625, 522000, 390000, 254250, 312500, 300000, 389000, 544750,\n",
       "       396875, 560000, 480500, 711000, 221000, 282000, 186778, 199000,\n",
       "       302300, 153000, 200000, 293000, 200000, 133000, 128750, 144000,\n",
       "       230000, 113667, 191000, 165083, 106000, 300000, 279000, 151857,\n",
       "       221667, 122500, 135000, 308600, 275864, 115000, 157000, 180000,\n",
       "       184700, 270000, 207125, 162500, 165000, 119000, 134500, 150000,\n",
       "       120000, 148333, 199917, 194250, 213779, 162500, 234125, 179000,\n",
       "       206143, 161000, 227000, 206143, 260000, 157000, 116000, 129000,\n",
       "       266333, 167000, 237000, 218000, 130000, 247500, 222000, 226217,\n",
       "       113500,  85000, 175000, 186500, 240000, 192750, 711000, 420000,\n",
       "       219000, 226000, 220000, 319000, 142500, 220333, 250500, 225000,\n",
       "       260000, 288000, 199000, 234000, 270000, 165000, 180000, 225000,\n",
       "       363000, 260000, 401800, 186333, 425000, 262500, 318490, 215068,\n",
       "       316667, 183000, 208040, 169000, 168000, 322538, 187429, 264444,\n",
       "       171000, 211978, 391515, 450000, 168067, 122400, 121615, 213500,\n",
       "       283333, 216455, 472000, 195000, 113500, 130000, 170000, 119000,\n",
       "       217500, 146000, 161000, 286476, 115000, 215000, 182000, 162000,\n",
       "       120000, 118000, 121571, 120000, 167857, 504500, 241000, 250000,\n",
       "       279000, 155000, 137154, 188143, 298143, 322333, 189222, 264000,\n",
       "       211143, 248154, 172909, 119000, 131500, 137333, 240500, 197895,\n",
       "       251000, 202034, 190000, 231778, 122500, 300667, 226000, 356000,\n",
       "       326333, 228333, 544750, 396875, 210000, 120000, 142583, 200000,\n",
       "       133000, 320000, 240000, 145000, 147500, 110143, 115000,  95000,\n",
       "       100000,  99333,  92500, 118500, 100000, 120000,  98000,  89500,\n",
       "       118500, 126000, 220000, 142000, 320000, 240000, 319000, 269000,\n",
       "       327083, 350000, 433333, 317714, 289000, 321000, 325000, 200000,\n",
       "       209000, 240000, 401364, 300000, 315500, 289000, 281000, 492760,\n",
       "       400000, 474247, 255500, 324000, 450500, 252000, 244500, 274150,\n",
       "       315000, 200000, 275000, 262500, 245000, 429000, 281000, 260000,\n",
       "       240000, 296750, 261000, 221000, 200000, 284000, 491600, 250000,\n",
       "       265167, 243500, 230500, 320000, 294667, 403000, 343667, 250000,\n",
       "       236000, 260000, 292250, 266000, 250000, 353667, 464000, 314000,\n",
       "       245000, 426000, 411000, 200000])"
      ]
     },
     "execution_count": 9,
     "metadata": {},
     "output_type": "execute_result"
    }
   ],
   "source": [
    "df['min'].to_numpy()"
   ]
  },
  {
   "cell_type": "markdown",
   "id": "b21c1dc3",
   "metadata": {},
   "source": [
    "## 랜덤포레스트"
   ]
  },
  {
   "cell_type": "code",
   "execution_count": 10,
   "id": "39a7fd24",
   "metadata": {},
   "outputs": [],
   "source": [
    "import pandas as pd\n",
    "import numpy as np\n",
    "import seaborn as sns"
   ]
  },
  {
   "cell_type": "code",
   "execution_count": 11,
   "id": "78016bd2",
   "metadata": {},
   "outputs": [],
   "source": [
    "X = data.to_numpy()\n",
    "y = df['min'].to_numpy()"
   ]
  },
  {
   "cell_type": "code",
   "execution_count": 12,
   "id": "6f133916",
   "metadata": {},
   "outputs": [],
   "source": [
    "from sklearn.model_selection import train_test_split"
   ]
  },
  {
   "cell_type": "code",
   "execution_count": 13,
   "id": "8847e732",
   "metadata": {},
   "outputs": [],
   "source": [
    "# 70프로를 트레이닝 셋, 30프로를 테스트 셋\n",
    "X_train, X_test, y_train, y_test = train_test_split(X, y, test_size=0.3, random_state=123) # 70% training and 30% test"
   ]
  },
  {
   "cell_type": "code",
   "execution_count": 14,
   "id": "34cf5336",
   "metadata": {},
   "outputs": [],
   "source": [
    "from sklearn.ensemble import RandomForestClassifier"
   ]
  },
  {
   "cell_type": "code",
   "execution_count": 15,
   "id": "2ff1d11d",
   "metadata": {},
   "outputs": [],
   "source": [
    "# estimators  : 랜덤 포레스트 안에 만들어지는 의사결정 나무의 갯수\n",
    "clf = RandomForestClassifier(n_estimators=100)"
   ]
  },
  {
   "cell_type": "code",
   "execution_count": 16,
   "id": "18d5426c",
   "metadata": {},
   "outputs": [
    {
     "data": {
      "text/plain": [
       "RandomForestClassifier()"
      ]
     },
     "execution_count": 16,
     "metadata": {},
     "output_type": "execute_result"
    }
   ],
   "source": [
    "clf.fit(X_train, y_train)"
   ]
  },
  {
   "cell_type": "code",
   "execution_count": 17,
   "id": "aa7dabd3",
   "metadata": {},
   "outputs": [],
   "source": [
    "y_pred = clf.predict(X_test)"
   ]
  },
  {
   "cell_type": "code",
   "execution_count": 18,
   "id": "e7d66565",
   "metadata": {},
   "outputs": [
    {
     "name": "stdout",
     "output_type": "stream",
     "text": [
      "Accuracy: 0.03636363636363636\n"
     ]
    }
   ],
   "source": [
    "from sklearn import metrics\n",
    "print(\"Accuracy:\",metrics.accuracy_score(y_test, y_pred))"
   ]
  },
  {
   "cell_type": "code",
   "execution_count": 19,
   "id": "deb9034d",
   "metadata": {},
   "outputs": [
    {
     "name": "stdout",
     "output_type": "stream",
     "text": [
      "RMSE: 57537.082889\n"
     ]
    }
   ],
   "source": [
    "from sklearn.metrics import mean_squared_error\n",
    "rmse = np.sqrt(mean_squared_error(y_test, y_pred))\n",
    "print(\"RMSE: %f\" % (rmse))"
   ]
  },
  {
   "cell_type": "code",
   "execution_count": 20,
   "id": "496158e9",
   "metadata": {},
   "outputs": [],
   "source": [
    "data_a = data.columns.tolist()"
   ]
  },
  {
   "cell_type": "code",
   "execution_count": 21,
   "id": "a8a9f1cf",
   "metadata": {},
   "outputs": [
    {
     "data": {
      "text/plain": [
       "price3               0.095206\n",
       "wish                 0.093320\n",
       "price2               0.091460\n",
       "price1               0.090291\n",
       "price                0.065075\n",
       "                       ...   \n",
       "category_jordan 6    0.001042\n",
       "category_converse    0.000929\n",
       "brand_converse       0.000832\n",
       "category_jordan 5    0.000000\n",
       "col1_burgundy        0.000000\n",
       "Length: 79, dtype: float64"
      ]
     },
     "execution_count": 21,
     "metadata": {},
     "output_type": "execute_result"
    }
   ],
   "source": [
    "# 영향\n",
    "feature_imp = pd.Series(clf.feature_importances_, index=data_a).sort_values(ascending=False)\n",
    "feature_imp"
   ]
  },
  {
   "cell_type": "code",
   "execution_count": 22,
   "id": "3446202d",
   "metadata": {},
   "outputs": [
    {
     "name": "stderr",
     "output_type": "stream",
     "text": [
      "No artists with labels found to put in legend.  Note that artists whose label start with an underscore are ignored when legend() is called with no argument.\n"
     ]
    },
    {
     "data": {
      "image/png": "[encoded data removed]",
      "text/plain": [
       "<Figure size 432x720 with 1 Axes>"
      ]
     },
     "metadata": {
      "needs_background": "light"
     },
     "output_type": "display_data"
    }
   ],
   "source": [
    "# Commented out IPython magic to ensure Python compatibility.\n",
    "import matplotlib.pyplot as plt\n",
    "# %matplotlib inline\n",
    "plt.figure(figsize=(6,10))\n",
    "sns.barplot(x=feature_imp, y=feature_imp.index)\n",
    "plt.xlabel('Feature Importance Score')\n",
    "plt.ylabel('Features')\n",
    "plt.title(\"Visualizing Important Features\")\n",
    "plt.legend()\n",
    "plt.show()"
   ]
  },
  {
   "cell_type": "markdown",
   "id": "a4fc488f",
   "metadata": {},
   "source": [
    "pca"
   ]
  },
  {
   "cell_type": "markdown",
   "id": "e1566b29",
   "metadata": {},
   "source": [
    "## 다중회귀"
   ]
  },
  {
   "cell_type": "code",
   "execution_count": 23,
   "id": "2a9bd4c5",
   "metadata": {},
   "outputs": [
    {
     "data": {
      "text/plain": [
       "LinearRegression()"
      ]
     },
     "execution_count": 23,
     "metadata": {},
     "output_type": "execute_result"
    }
   ],
   "source": [
    "from sklearn.linear_model import LinearRegression\n",
    "mlr = LinearRegression()\n",
    "mlr.fit(X_train, y_train) "
   ]
  },
  {
   "cell_type": "code",
   "execution_count": 24,
   "id": "7e6b12e6",
   "metadata": {},
   "outputs": [],
   "source": [
    "y_predict = mlr.predict(X_test)"
   ]
  },
  {
   "cell_type": "code",
   "execution_count": 25,
   "id": "2629ad55",
   "metadata": {},
   "outputs": [
    {
     "data": {
      "image/png": "[encoded data removed]",
      "text/plain": [
       "<Figure size 432x288 with 1 Axes>"
      ]
     },
     "metadata": {
      "needs_background": "light"
     },
     "output_type": "display_data"
    }
   ],
   "source": [
    "import matplotlib.pyplot as plt\n",
    "plt.scatter(y_test, y_predict, alpha=0.4)\n",
    "plt.xlabel(\"Actual min\")\n",
    "plt.ylabel(\"Predicted min\")\n",
    "plt.title(\"MULTIPLE LINEAR REGRESSION\")\n",
    "plt.show()"
   ]
  },
  {
   "cell_type": "code",
   "execution_count": 26,
   "id": "60bcf867",
   "metadata": {},
   "outputs": [
    {
     "data": {
      "image/png": "[encoded data removed]",
      "text/plain": [
       "<Figure size 432x288 with 1 Axes>"
      ]
     },
     "metadata": {
      "needs_background": "light"
     },
     "output_type": "display_data"
    }
   ],
   "source": [
    "plt.scatter(df[['price']], df[['min']], alpha=0.4)\n",
    "plt.show()"
   ]
  },
  {
   "cell_type": "code",
   "execution_count": 27,
   "id": "795669ef",
   "metadata": {},
   "outputs": [
    {
     "data": {
      "image/png": "[encoded data removed]",
      "text/plain": [
       "<Figure size 432x288 with 1 Axes>"
      ]
     },
     "metadata": {
      "needs_background": "light"
     },
     "output_type": "display_data"
    }
   ],
   "source": [
    "plt.scatter(df[['price1']], df[['min']], alpha=0.4)\n",
    "plt.show()"
   ]
  },
  {
   "cell_type": "code",
   "execution_count": 28,
   "id": "e0f19cc3",
   "metadata": {},
   "outputs": [
    {
     "data": {
      "image/png": "[encoded data removed]",
      "text/plain": [
       "<Figure size 432x288 with 1 Axes>"
      ]
     },
     "metadata": {
      "needs_background": "light"
     },
     "output_type": "display_data"
    }
   ],
   "source": [
    "plt.scatter(df[['price2']], df[['min']], alpha=0.4)\n",
    "plt.show()"
   ]
  },
  {
   "cell_type": "code",
   "execution_count": 29,
   "id": "83bda943",
   "metadata": {},
   "outputs": [
    {
     "data": {
      "image/png": "[encoded data removed]",
      "text/plain": [
       "<Figure size 432x288 with 1 Axes>"
      ]
     },
     "metadata": {
      "needs_background": "light"
     },
     "output_type": "display_data"
    }
   ],
   "source": [
    "plt.scatter(df[['price3']], df[['min']], alpha=0.4)\n",
    "plt.show()"
   ]
  },
  {
   "cell_type": "code",
   "execution_count": 30,
   "id": "8a76108e",
   "metadata": {},
   "outputs": [
    {
     "name": "stdout",
     "output_type": "stream",
     "text": [
      "[-4.80935891e-02  3.35976106e-01 -1.62878439e-02  7.00193131e-02\n",
      "  4.11440240e-01  2.17691483e+03 -1.85784632e+04  5.89889355e+04\n",
      " -4.95125432e+03 -6.28168771e+03 -3.58177166e+04  1.26167257e+04\n",
      " -5.67097041e+03 -6.51481216e+03 -4.64405039e+03 -5.31144906e-10\n",
      " -1.30540069e+04  1.80925966e+04  8.22744499e+03 -5.96115052e+04\n",
      "  7.06072535e+03  1.57556573e+04 -9.49402623e+03  1.19766381e+04\n",
      "  2.10815085e+04 -3.35542121e+04 -1.46267875e+04  7.98937525e+04\n",
      "  1.10095077e+04 -3.85441859e+04  5.62523109e+02 -2.45379734e+03\n",
      " -2.28378372e+04 -1.28666334e+02  2.68275431e+04 -2.86822253e+04\n",
      "  8.79146715e+03 -5.57649456e+03  2.36528278e+04  1.54433232e+04\n",
      "  8.23939620e+03 -8.12750256e+03  3.19088676e+03 -1.23583168e+04\n",
      " -8.44608039e+03 -1.79786145e+04  2.73525757e+04 -2.02473016e+03\n",
      " -5.44627790e+03  7.59087708e+02 -1.23713007e+04  3.72200591e+03\n",
      "  9.57742813e+03  2.41524744e+04 -1.21662107e+04 -1.12590012e+04\n",
      " -6.43917525e+04  1.17954183e+05 -7.27595761e-12  1.73721597e+04\n",
      " -4.21365754e+03  3.73538887e+03 -7.28708050e+04 -1.22167866e+04\n",
      "  1.15601308e+04  6.56655766e+02  3.73538887e+03 -1.23713007e+04\n",
      " -4.21365754e+03  1.28495693e+04  3.64747187e+03  5.75479969e+03\n",
      " -4.36726140e+04  1.89447194e+04  2.18041624e+04 -1.93175742e+04\n",
      "  1.28390350e+04  2.33387722e+03 -2.33387722e+03]\n"
     ]
    }
   ],
   "source": [
    "print(mlr.coef_)"
   ]
  },
  {
   "cell_type": "code",
   "execution_count": 31,
   "id": "26d6555d",
   "metadata": {},
   "outputs": [
    {
     "name": "stdout",
     "output_type": "stream",
     "text": [
      "0.8751378895634457\n"
     ]
    }
   ],
   "source": [
    "print(mlr.score(X_train, y_train))"
   ]
  },
  {
   "cell_type": "code",
   "execution_count": 32,
   "id": "99914e66",
   "metadata": {},
   "outputs": [
    {
     "name": "stdout",
     "output_type": "stream",
     "text": [
      "RMSE: 59774.035311\n"
     ]
    }
   ],
   "source": [
    "rmse = np.sqrt(mean_squared_error(y_test, y_predict))\n",
    "print(\"RMSE: %f\" % (rmse))"
   ]
  },
  {
   "cell_type": "markdown",
   "id": "4d5c8a3b",
   "metadata": {},
   "source": [
    "## XGBoost"
   ]
  },
  {
   "cell_type": "code",
   "execution_count": 33,
   "id": "87fcf0e5",
   "metadata": {},
   "outputs": [],
   "source": [
    "import xgboost as xgb\n",
    "from sklearn.metrics import mean_squared_error\n",
    "import pandas as pd\n",
    "import numpy as np"
   ]
  },
  {
   "cell_type": "code",
   "execution_count": 34,
   "id": "83488e6f",
   "metadata": {},
   "outputs": [],
   "source": [
    "# xg_reg = xgb.XGBRegressor(objective ='reg:linear', colsample_bytree = 0.3, learning_rate = 0.1,\n",
    "#                 max_depth = 5, alpha = 10, n_estimators = 10)\n",
    "xg_reg = xgb.XGBRegressor(objective ='reg:linear',n_estimators = 100)"
   ]
  },
  {
   "cell_type": "code",
   "execution_count": 35,
   "id": "d938da04",
   "metadata": {},
   "outputs": [
    {
     "name": "stdout",
     "output_type": "stream",
     "text": [
      "[22:02:11] WARNING: /Users/runner/work/xgboost/xgboost/src/objective/regression_obj.cu:188: reg:linear is now deprecated in favor of reg:squarederror.\n"
     ]
    }
   ],
   "source": [
    "xg_reg.fit(X_train,y_train)\n",
    "preds = xg_reg.predict(X_test)"
   ]
  },
  {
   "cell_type": "code",
   "execution_count": 36,
   "id": "a3c81a7f",
   "metadata": {},
   "outputs": [
    {
     "name": "stdout",
     "output_type": "stream",
     "text": [
      "RMSE: 36915.956295\n"
     ]
    }
   ],
   "source": [
    "rmse = np.sqrt(mean_squared_error(y_test, preds))\n",
    "print(\"RMSE: %f\" % (rmse))"
   ]
  },
  {
   "cell_type": "code",
   "execution_count": null,
   "id": "fa4b8df6",
   "metadata": {},
   "outputs": [],
   "source": []
  }
 ],
 "metadata": {
  "kernelspec": {
   "display_name": "Python 3",
   "language": "python",
   "name": "python3"
  },
  "language_info": {
   "codemirror_mode": {
    "name": "ipython",
    "version": 3
   },
   "file_extension": ".py",
   "mimetype": "text/x-python",
   "name": "python",
   "nbconvert_exporter": "python",
   "pygments_lexer": "ipython3",
   "version": "3.8.8"
  },
  "toc": {
   "base_numbering": 1,
   "nav_menu": {},
   "number_sections": true,
   "sideBar": true,
   "skip_h1_title": false,
   "title_cell": "Table of Contents",
   "title_sidebar": "Contents",
   "toc_cell": false,
   "toc_position": {
    "height": "calc(100% - 180px)",
    "left": "10px",
    "top": "150px",
    "width": "165px"
   },
   "toc_section_display": true,
   "toc_window_display": true
  },
  "varInspector": {
   "cols": {
    "lenName": 16,
    "lenType": 16,
    "lenVar": 40
   },
   "kernels_config": {
    "python": {
     "delete_cmd_postfix": "",
     "delete_cmd_prefix": "del ",
     "library": "var_list.py",
     "varRefreshCmd": "print(var_dic_list())"
    },
    "r": {
     "delete_cmd_postfix": ") ",
     "delete_cmd_prefix": "rm(",
     "library": "var_list.r",
     "varRefreshCmd": "cat(var_dic_list()) "
    }
   },
   "types_to_exclude": [
    "module",
    "function",
    "builtin_function_or_method",
    "instance",
    "_Feature"
   ],
   "window_display": false
  }
 },
 "nbformat": 4,
 "nbformat_minor": 5
}
