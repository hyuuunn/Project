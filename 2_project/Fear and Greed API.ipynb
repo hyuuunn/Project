{
 "cells": [
  {
   "cell_type": "markdown",
   "id": "a674f047",
   "metadata": {},
   "source": [
    "[Crypto Fear & Greed Index - Bitcoin Sentiment - Alternative.me](https://alternative.me/crypto/fear-and-greed-index/#api)"
   ]
  },
  {
   "cell_type": "code",
   "execution_count": 1,
   "id": "30461936",
   "metadata": {},
   "outputs": [],
   "source": [
    "import requests\n",
    "import json\n",
    "import time"
   ]
  },
  {
   "cell_type": "code",
   "execution_count": 2,
   "id": "2ffbe58c",
   "metadata": {},
   "outputs": [],
   "source": [
    "#제공해주는 api 주소(url)을 통해 json형식의 데이터를 가져오고 이를 파싱해\n",
    "#오늘(day), 어제(yester), 이틀전(twodaysago), 주평균(week), 월평균(month) 공포/탐욕 지수를 가져오기\n",
    "\n",
    "url = \"https://api.alternative.me/fng/?limit=\"\n",
    "\n",
    "def fear_day():\n",
    "    _url = url+\"1\"\n",
    "    res = requests.request(\"GET\", _url);\n",
    "    \n",
    "    parsed = json.loads(res.text)\n",
    "    data = parsed[\"data\"]\n",
    "    \n",
    "    return data[0][\"value\"]\n",
    "                \n",
    "def fear_yester():\n",
    "    _url = url+\"2\"\n",
    "    res = requests.request(\"GET\", _url);\n",
    "    \n",
    "    parsed = json.loads(res.text)\n",
    "    data = parsed[\"data\"]\n",
    "\n",
    "    return data[1][\"value\"]\n",
    "    \n",
    "def fear_twodaysago():\n",
    "    _url = url+\"3\"\n",
    "    res = requests.request(\"GET\", _url);\n",
    "    \n",
    "    parsed = json.loads(res.text)\n",
    "    data = parsed[\"data\"]\n",
    "\n",
    "    return data[2][\"value\"]\n",
    "\n",
    "def fear_week():\n",
    "    _url = url+\"7\"\n",
    "    res = requests.request(\"GET\", _url);\n",
    "    \n",
    "    parsed = json.loads(res.text)\n",
    "    data = parsed[\"data\"]\n",
    "    \n",
    "    sum = 0\n",
    "    for index, value in enumerate(data):\n",
    "        sum += int(value[\"value\"])\n",
    "        \n",
    "    return sum/7\n",
    "    \n",
    "def fear_month():\n",
    "    _url = url+\"30\"\n",
    "    res = requests.request(\"GET\", _url);\n",
    "    \n",
    "    parsed = json.loads(res.text)\n",
    "    data = parsed[\"data\"]\n",
    "\n",
    "    sum = 0\n",
    "    for index, value in enumerate(data):\n",
    "        sum += int(value[\"value\"])\n",
    "    \n",
    "    return sum/30"
   ]
  },
  {
   "cell_type": "code",
   "execution_count": 3,
   "id": "dce69260",
   "metadata": {},
   "outputs": [
    {
     "data": {
      "text/plain": [
       "'15'"
      ]
     },
     "execution_count": 3,
     "metadata": {},
     "output_type": "execute_result"
    }
   ],
   "source": [
    "fear_yester()"
   ]
  },
  {
   "cell_type": "code",
   "execution_count": 4,
   "id": "30354a73",
   "metadata": {},
   "outputs": [
    {
     "data": {
      "text/plain": [
       "'18'"
      ]
     },
     "execution_count": 4,
     "metadata": {},
     "output_type": "execute_result"
    }
   ],
   "source": [
    "fear_day()"
   ]
  },
  {
   "cell_type": "code",
   "execution_count": 5,
   "id": "9f281e56",
   "metadata": {},
   "outputs": [
    {
     "data": {
      "text/plain": [
       "'24'"
      ]
     },
     "execution_count": 5,
     "metadata": {},
     "output_type": "execute_result"
    }
   ],
   "source": [
    "fear_twodaysago()"
   ]
  },
  {
   "cell_type": "code",
   "execution_count": 6,
   "id": "e1433d67",
   "metadata": {},
   "outputs": [],
   "source": [
    "url1=\"https://api.alternative.me/fng/?limit=10&format=csv&date_format=us\""
   ]
  },
  {
   "cell_type": "code",
   "execution_count": 7,
   "id": "0b939587",
   "metadata": {},
   "outputs": [
    {
     "name": "stdout",
     "output_type": "stream",
     "text": [
      "https://api.alternative.me/fng/?limit=10&format=csv&date_format=us\n"
     ]
    }
   ],
   "source": [
    "print(url1)"
   ]
  },
  {
   "cell_type": "code",
   "execution_count": 8,
   "id": "8581aa98",
   "metadata": {},
   "outputs": [
    {
     "name": "stdout",
     "output_type": "stream",
     "text": [
      "https://api.alternative.me/fng/?limit=100\n"
     ]
    }
   ],
   "source": [
    "url2 = \"https://api.alternative.me/fng/?limit=100\"\n",
    "print(url2)"
   ]
  },
  {
   "cell_type": "code",
   "execution_count": 9,
   "id": "df92a782",
   "metadata": {},
   "outputs": [],
   "source": [
    "# 주소 뒤에 여러 옵션 파라메터를 추가할 수 있다. \n",
    "\n",
    "# - 데이터 개수 -> limit= n으로 설정. 0으로 입력시 가능한한 많은 데이터를 불러온다 \n",
    "# - 포멧 -> json, csv 선택 가능. 기본은 json \n",
    "# - 날짜 형식 -> json의 경우 timestamp형식으로 불러와진다. kr을 입력시 2021/12/12와 같이 나온다 \n",
    "\n",
    "# 다음은 api를 이용해서 불러올 수 있는 최대한의 데이터를 불러와서 fng라는 판다스 Series에 데이터를 저장\n",
    "\n",
    "# date_format을 이용하지 않고 timestamp를 변환하는 식으로 코드를 짰다. \n",
    "\n",
    "import requests\n",
    "import datetime\n",
    "import pandas as pd\n",
    "\n",
    "url = ' https://api.alternative.me/fng/?limit=0'\n",
    "data = requests.get(url).json()\n",
    "value = []\n",
    "time = []\n",
    "for i in data['data']:\n",
    "    value.append(i['value'])\n",
    "    time.append(datetime.datetime.fromtimestamp(int(i['timestamp'])).strftime('%Y-%m-%d'))\n",
    "value = value[::-1]\n",
    "time = pd.to_datetime(time[::-1])\n",
    "fng = pd.Series(value,time,name='fng')"
   ]
  },
  {
   "cell_type": "code",
   "execution_count": 10,
   "id": "bc6c69e2",
   "metadata": {},
   "outputs": [],
   "source": [
    "df_fng = fng.reset_index(name='value')"
   ]
  },
  {
   "cell_type": "code",
   "execution_count": 11,
   "id": "587478c4",
   "metadata": {},
   "outputs": [],
   "source": [
    "df_fng = df_fng.rename(columns={'index':'datetime'})"
   ]
  },
  {
   "cell_type": "code",
   "execution_count": 12,
   "id": "2ce5e11c",
   "metadata": {},
   "outputs": [],
   "source": [
    "url = ' https://api.alternative.me/fng/?limit=0'\n",
    "data = requests.get(url).json()\n",
    "value = []\n",
    "time = []\n",
    "for i in data['data']:\n",
    "    value.append(i['value'])\n",
    "    time.append(i['timestamp'])\n",
    "value = value[::-1]\n",
    "time = time[::-1]\n",
    "tv = pd.Series(value,time,name='tv')"
   ]
  },
  {
   "cell_type": "code",
   "execution_count": 13,
   "id": "3b3c36ac",
   "metadata": {},
   "outputs": [],
   "source": [
    "df_greed = tv.reset_index(name='value')"
   ]
  },
  {
   "cell_type": "code",
   "execution_count": 14,
   "id": "0c6c3b73",
   "metadata": {},
   "outputs": [],
   "source": [
    "df_greed = df_greed.rename(columns={'index':'timestamp'})"
   ]
  },
  {
   "cell_type": "code",
   "execution_count": 15,
   "id": "ce404937",
   "metadata": {},
   "outputs": [
    {
     "data": {
      "text/html": [
       "<div>\n",
       "<style scoped>\n",
       "    .dataframe tbody tr th:only-of-type {\n",
       "        vertical-align: middle;\n",
       "    }\n",
       "\n",
       "    .dataframe tbody tr th {\n",
       "        vertical-align: top;\n",
       "    }\n",
       "\n",
       "    .dataframe thead th {\n",
       "        text-align: right;\n",
       "    }\n",
       "</style>\n",
       "<table border=\"1\" class=\"dataframe\">\n",
       "  <thead>\n",
       "    <tr style=\"text-align: right;\">\n",
       "      <th></th>\n",
       "      <th>timestamp</th>\n",
       "      <th>value</th>\n",
       "    </tr>\n",
       "  </thead>\n",
       "  <tbody>\n",
       "    <tr>\n",
       "      <th>0</th>\n",
       "      <td>1517443200</td>\n",
       "      <td>30</td>\n",
       "    </tr>\n",
       "    <tr>\n",
       "      <th>1</th>\n",
       "      <td>1517529600</td>\n",
       "      <td>15</td>\n",
       "    </tr>\n",
       "    <tr>\n",
       "      <th>2</th>\n",
       "      <td>1517616000</td>\n",
       "      <td>40</td>\n",
       "    </tr>\n",
       "    <tr>\n",
       "      <th>3</th>\n",
       "      <td>1517702400</td>\n",
       "      <td>24</td>\n",
       "    </tr>\n",
       "    <tr>\n",
       "      <th>4</th>\n",
       "      <td>1517788800</td>\n",
       "      <td>11</td>\n",
       "    </tr>\n",
       "    <tr>\n",
       "      <th>...</th>\n",
       "      <td>...</td>\n",
       "      <td>...</td>\n",
       "    </tr>\n",
       "    <tr>\n",
       "      <th>1429</th>\n",
       "      <td>1641168000</td>\n",
       "      <td>29</td>\n",
       "    </tr>\n",
       "    <tr>\n",
       "      <th>1430</th>\n",
       "      <td>1641254400</td>\n",
       "      <td>23</td>\n",
       "    </tr>\n",
       "    <tr>\n",
       "      <th>1431</th>\n",
       "      <td>1641340800</td>\n",
       "      <td>24</td>\n",
       "    </tr>\n",
       "    <tr>\n",
       "      <th>1432</th>\n",
       "      <td>1641427200</td>\n",
       "      <td>15</td>\n",
       "    </tr>\n",
       "    <tr>\n",
       "      <th>1433</th>\n",
       "      <td>1641513600</td>\n",
       "      <td>18</td>\n",
       "    </tr>\n",
       "  </tbody>\n",
       "</table>\n",
       "<p>1434 rows × 2 columns</p>\n",
       "</div>"
      ],
      "text/plain": [
       "       timestamp value\n",
       "0     1517443200    30\n",
       "1     1517529600    15\n",
       "2     1517616000    40\n",
       "3     1517702400    24\n",
       "4     1517788800    11\n",
       "...          ...   ...\n",
       "1429  1641168000    29\n",
       "1430  1641254400    23\n",
       "1431  1641340800    24\n",
       "1432  1641427200    15\n",
       "1433  1641513600    18\n",
       "\n",
       "[1434 rows x 2 columns]"
      ]
     },
     "execution_count": 15,
     "metadata": {},
     "output_type": "execute_result"
    }
   ],
   "source": [
    "df_greed"
   ]
  },
  {
   "cell_type": "code",
   "execution_count": 16,
   "id": "b220ef10",
   "metadata": {},
   "outputs": [],
   "source": [
    "df_greed = df_greed.drop([\"value\"], axis=1)"
   ]
  },
  {
   "cell_type": "code",
   "execution_count": 17,
   "id": "e27dfdab",
   "metadata": {},
   "outputs": [],
   "source": [
    "df_greed = pd.concat([df_greed,df_fng],axis=1)"
   ]
  },
  {
   "cell_type": "code",
   "execution_count": 18,
   "id": "1508c42a",
   "metadata": {},
   "outputs": [],
   "source": [
    "url = ' https://api.alternative.me/fng/?limit=0'\n",
    "data = requests.get(url).json()\n",
    "value = []\n",
    "value_class = []\n",
    "for i in data['data']:\n",
    "    value.append(i['value'])\n",
    "    value_class.append(i['value_classification'])\n",
    "value = value[::-1]\n",
    "value_class = value_class[::-1]\n",
    "tv = pd.Series(value,value_class,name='tv')"
   ]
  },
  {
   "cell_type": "code",
   "execution_count": 19,
   "id": "73dc7a12",
   "metadata": {},
   "outputs": [],
   "source": [
    "df_g = tv.reset_index(name='value')"
   ]
  },
  {
   "cell_type": "code",
   "execution_count": 20,
   "id": "40fcd064",
   "metadata": {},
   "outputs": [],
   "source": [
    "df_g = df_g.rename(columns={'index':'value_class'})"
   ]
  },
  {
   "cell_type": "code",
   "execution_count": 21,
   "id": "b9c61496",
   "metadata": {},
   "outputs": [],
   "source": [
    "df_g = df_g.drop([\"value\"], axis=1)"
   ]
  },
  {
   "cell_type": "code",
   "execution_count": 22,
   "id": "10e56451",
   "metadata": {},
   "outputs": [],
   "source": [
    "df_greed = pd.concat([df_greed,df_g],axis=1)"
   ]
  },
  {
   "cell_type": "code",
   "execution_count": 23,
   "id": "7e3a7fd0",
   "metadata": {},
   "outputs": [
    {
     "data": {
      "text/html": [
       "<div>\n",
       "<style scoped>\n",
       "    .dataframe tbody tr th:only-of-type {\n",
       "        vertical-align: middle;\n",
       "    }\n",
       "\n",
       "    .dataframe tbody tr th {\n",
       "        vertical-align: top;\n",
       "    }\n",
       "\n",
       "    .dataframe thead th {\n",
       "        text-align: right;\n",
       "    }\n",
       "</style>\n",
       "<table border=\"1\" class=\"dataframe\">\n",
       "  <thead>\n",
       "    <tr style=\"text-align: right;\">\n",
       "      <th></th>\n",
       "      <th>timestamp</th>\n",
       "      <th>datetime</th>\n",
       "      <th>value</th>\n",
       "      <th>value_class</th>\n",
       "    </tr>\n",
       "  </thead>\n",
       "  <tbody>\n",
       "    <tr>\n",
       "      <th>0</th>\n",
       "      <td>1517443200</td>\n",
       "      <td>2018-02-01</td>\n",
       "      <td>30</td>\n",
       "      <td>Fear</td>\n",
       "    </tr>\n",
       "    <tr>\n",
       "      <th>1</th>\n",
       "      <td>1517529600</td>\n",
       "      <td>2018-02-02</td>\n",
       "      <td>15</td>\n",
       "      <td>Extreme Fear</td>\n",
       "    </tr>\n",
       "    <tr>\n",
       "      <th>2</th>\n",
       "      <td>1517616000</td>\n",
       "      <td>2018-02-03</td>\n",
       "      <td>40</td>\n",
       "      <td>Fear</td>\n",
       "    </tr>\n",
       "    <tr>\n",
       "      <th>3</th>\n",
       "      <td>1517702400</td>\n",
       "      <td>2018-02-04</td>\n",
       "      <td>24</td>\n",
       "      <td>Extreme Fear</td>\n",
       "    </tr>\n",
       "    <tr>\n",
       "      <th>4</th>\n",
       "      <td>1517788800</td>\n",
       "      <td>2018-02-05</td>\n",
       "      <td>11</td>\n",
       "      <td>Extreme Fear</td>\n",
       "    </tr>\n",
       "    <tr>\n",
       "      <th>...</th>\n",
       "      <td>...</td>\n",
       "      <td>...</td>\n",
       "      <td>...</td>\n",
       "      <td>...</td>\n",
       "    </tr>\n",
       "    <tr>\n",
       "      <th>1429</th>\n",
       "      <td>1641168000</td>\n",
       "      <td>2022-01-03</td>\n",
       "      <td>29</td>\n",
       "      <td>Fear</td>\n",
       "    </tr>\n",
       "    <tr>\n",
       "      <th>1430</th>\n",
       "      <td>1641254400</td>\n",
       "      <td>2022-01-04</td>\n",
       "      <td>23</td>\n",
       "      <td>Extreme Fear</td>\n",
       "    </tr>\n",
       "    <tr>\n",
       "      <th>1431</th>\n",
       "      <td>1641340800</td>\n",
       "      <td>2022-01-05</td>\n",
       "      <td>24</td>\n",
       "      <td>Extreme Fear</td>\n",
       "    </tr>\n",
       "    <tr>\n",
       "      <th>1432</th>\n",
       "      <td>1641427200</td>\n",
       "      <td>2022-01-06</td>\n",
       "      <td>15</td>\n",
       "      <td>Extreme Fear</td>\n",
       "    </tr>\n",
       "    <tr>\n",
       "      <th>1433</th>\n",
       "      <td>1641513600</td>\n",
       "      <td>2022-01-07</td>\n",
       "      <td>18</td>\n",
       "      <td>Extreme Fear</td>\n",
       "    </tr>\n",
       "  </tbody>\n",
       "</table>\n",
       "<p>1434 rows × 4 columns</p>\n",
       "</div>"
      ],
      "text/plain": [
       "       timestamp   datetime value   value_class\n",
       "0     1517443200 2018-02-01    30          Fear\n",
       "1     1517529600 2018-02-02    15  Extreme Fear\n",
       "2     1517616000 2018-02-03    40          Fear\n",
       "3     1517702400 2018-02-04    24  Extreme Fear\n",
       "4     1517788800 2018-02-05    11  Extreme Fear\n",
       "...          ...        ...   ...           ...\n",
       "1429  1641168000 2022-01-03    29          Fear\n",
       "1430  1641254400 2022-01-04    23  Extreme Fear\n",
       "1431  1641340800 2022-01-05    24  Extreme Fear\n",
       "1432  1641427200 2022-01-06    15  Extreme Fear\n",
       "1433  1641513600 2022-01-07    18  Extreme Fear\n",
       "\n",
       "[1434 rows x 4 columns]"
      ]
     },
     "execution_count": 23,
     "metadata": {},
     "output_type": "execute_result"
    }
   ],
   "source": [
    "df_greed"
   ]
  },
  {
   "cell_type": "code",
   "execution_count": 24,
   "id": "0ab83f90",
   "metadata": {},
   "outputs": [],
   "source": [
    "df_greed.to_csv(\"CryptoFear.csv\", index = False)"
   ]
  },
  {
   "cell_type": "code",
   "execution_count": 25,
   "id": "1ab76082",
   "metadata": {},
   "outputs": [
    {
     "data": {
      "text/html": [
       "<div>\n",
       "<style scoped>\n",
       "    .dataframe tbody tr th:only-of-type {\n",
       "        vertical-align: middle;\n",
       "    }\n",
       "\n",
       "    .dataframe tbody tr th {\n",
       "        vertical-align: top;\n",
       "    }\n",
       "\n",
       "    .dataframe thead th {\n",
       "        text-align: right;\n",
       "    }\n",
       "</style>\n",
       "<table border=\"1\" class=\"dataframe\">\n",
       "  <thead>\n",
       "    <tr style=\"text-align: right;\">\n",
       "      <th></th>\n",
       "      <th>timestamp</th>\n",
       "      <th>datetime</th>\n",
       "      <th>value</th>\n",
       "      <th>value_class</th>\n",
       "    </tr>\n",
       "  </thead>\n",
       "  <tbody>\n",
       "    <tr>\n",
       "      <th>0</th>\n",
       "      <td>1517443200</td>\n",
       "      <td>2018-02-01</td>\n",
       "      <td>30</td>\n",
       "      <td>Fear</td>\n",
       "    </tr>\n",
       "    <tr>\n",
       "      <th>1</th>\n",
       "      <td>1517529600</td>\n",
       "      <td>2018-02-02</td>\n",
       "      <td>15</td>\n",
       "      <td>Extreme Fear</td>\n",
       "    </tr>\n",
       "    <tr>\n",
       "      <th>2</th>\n",
       "      <td>1517616000</td>\n",
       "      <td>2018-02-03</td>\n",
       "      <td>40</td>\n",
       "      <td>Fear</td>\n",
       "    </tr>\n",
       "    <tr>\n",
       "      <th>3</th>\n",
       "      <td>1517702400</td>\n",
       "      <td>2018-02-04</td>\n",
       "      <td>24</td>\n",
       "      <td>Extreme Fear</td>\n",
       "    </tr>\n",
       "    <tr>\n",
       "      <th>4</th>\n",
       "      <td>1517788800</td>\n",
       "      <td>2018-02-05</td>\n",
       "      <td>11</td>\n",
       "      <td>Extreme Fear</td>\n",
       "    </tr>\n",
       "    <tr>\n",
       "      <th>...</th>\n",
       "      <td>...</td>\n",
       "      <td>...</td>\n",
       "      <td>...</td>\n",
       "      <td>...</td>\n",
       "    </tr>\n",
       "    <tr>\n",
       "      <th>1429</th>\n",
       "      <td>1641168000</td>\n",
       "      <td>2022-01-03</td>\n",
       "      <td>29</td>\n",
       "      <td>Fear</td>\n",
       "    </tr>\n",
       "    <tr>\n",
       "      <th>1430</th>\n",
       "      <td>1641254400</td>\n",
       "      <td>2022-01-04</td>\n",
       "      <td>23</td>\n",
       "      <td>Extreme Fear</td>\n",
       "    </tr>\n",
       "    <tr>\n",
       "      <th>1431</th>\n",
       "      <td>1641340800</td>\n",
       "      <td>2022-01-05</td>\n",
       "      <td>24</td>\n",
       "      <td>Extreme Fear</td>\n",
       "    </tr>\n",
       "    <tr>\n",
       "      <th>1432</th>\n",
       "      <td>1641427200</td>\n",
       "      <td>2022-01-06</td>\n",
       "      <td>15</td>\n",
       "      <td>Extreme Fear</td>\n",
       "    </tr>\n",
       "    <tr>\n",
       "      <th>1433</th>\n",
       "      <td>1641513600</td>\n",
       "      <td>2022-01-07</td>\n",
       "      <td>18</td>\n",
       "      <td>Extreme Fear</td>\n",
       "    </tr>\n",
       "  </tbody>\n",
       "</table>\n",
       "<p>1434 rows × 4 columns</p>\n",
       "</div>"
      ],
      "text/plain": [
       "       timestamp    datetime  value   value_class\n",
       "0     1517443200  2018-02-01     30          Fear\n",
       "1     1517529600  2018-02-02     15  Extreme Fear\n",
       "2     1517616000  2018-02-03     40          Fear\n",
       "3     1517702400  2018-02-04     24  Extreme Fear\n",
       "4     1517788800  2018-02-05     11  Extreme Fear\n",
       "...          ...         ...    ...           ...\n",
       "1429  1641168000  2022-01-03     29          Fear\n",
       "1430  1641254400  2022-01-04     23  Extreme Fear\n",
       "1431  1641340800  2022-01-05     24  Extreme Fear\n",
       "1432  1641427200  2022-01-06     15  Extreme Fear\n",
       "1433  1641513600  2022-01-07     18  Extreme Fear\n",
       "\n",
       "[1434 rows x 4 columns]"
      ]
     },
     "execution_count": 25,
     "metadata": {},
     "output_type": "execute_result"
    }
   ],
   "source": [
    "pd.read_csv(\"CryptoFear.csv\")"
   ]
  },
  {
   "cell_type": "code",
   "execution_count": null,
   "id": "3b546b8c",
   "metadata": {},
   "outputs": [],
   "source": []
  }
 ],
 "metadata": {
  "kernelspec": {
   "display_name": "Python 3",
   "language": "python",
   "name": "python3"
  },
  "language_info": {
   "codemirror_mode": {
    "name": "ipython",
    "version": 3
   },
   "file_extension": ".py",
   "mimetype": "text/x-python",
   "name": "python",
   "nbconvert_exporter": "python",
   "pygments_lexer": "ipython3",
   "version": "3.8.8"
  },
  "toc": {
   "base_numbering": 1,
   "nav_menu": {},
   "number_sections": true,
   "sideBar": true,
   "skip_h1_title": false,
   "title_cell": "Table of Contents",
   "title_sidebar": "Contents",
   "toc_cell": false,
   "toc_position": {},
   "toc_section_display": true,
   "toc_window_display": false
  },
  "varInspector": {
   "cols": {
    "lenName": 16,
    "lenType": 16,
    "lenVar": 40
   },
   "kernels_config": {
    "python": {
     "delete_cmd_postfix": "",
     "delete_cmd_prefix": "del ",
     "library": "var_list.py",
     "varRefreshCmd": "print(var_dic_list())"
    },
    "r": {
     "delete_cmd_postfix": ") ",
     "delete_cmd_prefix": "rm(",
     "library": "var_list.r",
     "varRefreshCmd": "cat(var_dic_list()) "
    }
   },
   "types_to_exclude": [
    "module",
    "function",
    "builtin_function_or_method",
    "instance",
    "_Feature"
   ],
   "window_display": false
  }
 },
 "nbformat": 4,
 "nbformat_minor": 5
}
