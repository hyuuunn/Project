{
 "cells": [
  {
   "cell_type": "code",
   "execution_count": 1,
   "id": "69d6f54a",
   "metadata": {},
   "outputs": [],
   "source": [
    "import requests\n",
    "import json\n",
    "import time"
   ]
  },
  {
   "cell_type": "code",
   "execution_count": 2,
   "id": "878588a8",
   "metadata": {},
   "outputs": [],
   "source": [
    "#제공해주는 api 주소(url)을 통해 json형식의 데이터를 가져오고 이를 파싱해\n",
    "#오늘(day), 어제(yester), 이틀전(twodaysago), 주평균(week), 월평균(month) 공포/탐욕 지수를 가져오기\n",
    "\n",
    "url = \"https://api.alternative.me/fng/?limit=\"\n",
    "\n",
    "def fear_day():\n",
    "    _url = url+\"1\"\n",
    "    res = requests.request(\"GET\", _url);\n",
    "    \n",
    "    parsed = json.loads(res.text)\n",
    "    data = parsed[\"data\"]\n",
    "    \n",
    "    return data[0][\"value\"]\n",
    "                \n",
    "def fear_yester():\n",
    "    _url = url+\"2\"\n",
    "    res = requests.request(\"GET\", _url);\n",
    "    \n",
    "    parsed = json.loads(res.text)\n",
    "    data = parsed[\"data\"]\n",
    "\n",
    "    return data[1][\"value\"]\n",
    "    \n",
    "def fear_twodaysago():\n",
    "    _url = url+\"3\"\n",
    "    res = requests.request(\"GET\", _url);\n",
    "    \n",
    "    parsed = json.loads(res.text)\n",
    "    data = parsed[\"data\"]\n",
    "\n",
    "    return data[2][\"value\"]\n",
    "\n",
    "def fear_week():\n",
    "    _url = url+\"7\"\n",
    "    res = requests.request(\"GET\", _url);\n",
    "    \n",
    "    parsed = json.loads(res.text)\n",
    "    data = parsed[\"data\"]\n",
    "    \n",
    "    sum = 0\n",
    "    for index, value in enumerate(data):\n",
    "        sum += int(value[\"value\"])\n",
    "        \n",
    "    return sum/7\n",
    "    \n",
    "def fear_month():\n",
    "    _url = url+\"30\"\n",
    "    res = requests.request(\"GET\", _url);\n",
    "    \n",
    "    parsed = json.loads(res.text)\n",
    "    data = parsed[\"data\"]\n",
    "\n",
    "    sum = 0\n",
    "    for index, value in enumerate(data):\n",
    "        sum += int(value[\"value\"])\n",
    "    \n",
    "    return sum/30"
   ]
  },
  {
   "cell_type": "code",
   "execution_count": 3,
   "id": "773aa092",
   "metadata": {},
   "outputs": [
    {
     "data": {
      "text/plain": [
       "'24'"
      ]
     },
     "execution_count": 3,
     "metadata": {},
     "output_type": "execute_result"
    }
   ],
   "source": [
    "fear_yester()"
   ]
  },
  {
   "cell_type": "code",
   "execution_count": 4,
   "id": "c894f800",
   "metadata": {},
   "outputs": [
    {
     "data": {
      "text/plain": [
       "'15'"
      ]
     },
     "execution_count": 4,
     "metadata": {},
     "output_type": "execute_result"
    }
   ],
   "source": [
    "fear_day()"
   ]
  },
  {
   "cell_type": "code",
   "execution_count": 5,
   "id": "840ea38a",
   "metadata": {},
   "outputs": [
    {
     "data": {
      "text/plain": [
       "'23'"
      ]
     },
     "execution_count": 5,
     "metadata": {},
     "output_type": "execute_result"
    }
   ],
   "source": [
    "fear_twodaysago()"
   ]
  },
  {
   "cell_type": "code",
   "execution_count": 6,
   "id": "be84cd50",
   "metadata": {},
   "outputs": [],
   "source": [
    "url1=\"https://api.alternative.me/fng/?limit=10&format=csv&date_format=us\""
   ]
  },
  {
   "cell_type": "code",
   "execution_count": 7,
   "id": "172a2967",
   "metadata": {},
   "outputs": [
    {
     "name": "stdout",
     "output_type": "stream",
     "text": [
      "https://api.alternative.me/fng/?limit=10&format=csv&date_format=us\n"
     ]
    }
   ],
   "source": [
    "print(url1)"
   ]
  },
  {
   "cell_type": "code",
   "execution_count": 11,
   "id": "1f38ede1",
   "metadata": {},
   "outputs": [
    {
     "name": "stdout",
     "output_type": "stream",
     "text": [
      "https://api.alternative.me/fng/?limit=100\n"
     ]
    }
   ],
   "source": [
    "url2 = \"https://api.alternative.me/fng/?limit=100\"\n",
    "print(url2)"
   ]
  },
  {
   "cell_type": "code",
   "execution_count": null,
   "id": "8e9bdf19",
   "metadata": {},
   "outputs": [],
   "source": []
  },
  {
   "cell_type": "code",
   "execution_count": null,
   "id": "da0a92d6",
   "metadata": {},
   "outputs": [],
   "source": []
  },
  {
   "cell_type": "code",
   "execution_count": null,
   "id": "3f082fe5",
   "metadata": {},
   "outputs": [],
   "source": []
  }
 ],
 "metadata": {
  "kernelspec": {
   "display_name": "Python 3",
   "language": "python",
   "name": "python3"
  },
  "language_info": {
   "codemirror_mode": {
    "name": "ipython",
    "version": 3
   },
   "file_extension": ".py",
   "mimetype": "text/x-python",
   "name": "python",
   "nbconvert_exporter": "python",
   "pygments_lexer": "ipython3",
   "version": "3.8.8"
  },
  "toc": {
   "base_numbering": 1,
   "nav_menu": {},
   "number_sections": true,
   "sideBar": true,
   "skip_h1_title": false,
   "title_cell": "Table of Contents",
   "title_sidebar": "Contents",
   "toc_cell": false,
   "toc_position": {},
   "toc_section_display": true,
   "toc_window_display": false
  },
  "varInspector": {
   "cols": {
    "lenName": 16,
    "lenType": 16,
    "lenVar": 40
   },
   "kernels_config": {
    "python": {
     "delete_cmd_postfix": "",
     "delete_cmd_prefix": "del ",
     "library": "var_list.py",
     "varRefreshCmd": "print(var_dic_list())"
    },
    "r": {
     "delete_cmd_postfix": ") ",
     "delete_cmd_prefix": "rm(",
     "library": "var_list.r",
     "varRefreshCmd": "cat(var_dic_list()) "
    }
   },
   "types_to_exclude": [
    "module",
    "function",
    "builtin_function_or_method",
    "instance",
    "_Feature"
   ],
   "window_display": false
  }
 },
 "nbformat": 4,
 "nbformat_minor": 5
}
