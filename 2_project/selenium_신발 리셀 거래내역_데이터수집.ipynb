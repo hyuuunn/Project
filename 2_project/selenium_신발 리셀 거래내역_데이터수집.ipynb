{
 "cells": [
  {
   "cell_type": "markdown",
   "id": "a2856e0a",
   "metadata": {},
   "source": [
    "selenium"
   ]
  },
  {
   "cell_type": "code",
   "execution_count": 1,
   "id": "678b8cb4",
   "metadata": {},
   "outputs": [],
   "source": [
    "## libraryimport\n",
    "import pandas as pd\n",
    "import numpy as np\n",
    "import requests \n",
    "import time\n",
    "\n",
    "from selenium import webdriver\n",
    "from selenium.webdriver.common.keys import Keys\n",
    "from bs4 import BeautifulSoup as bs\n",
    "\n",
    "from tqdm import trange"
   ]
  },
  {
   "cell_type": "code",
   "execution_count": 18,
   "id": "f315115f",
   "metadata": {},
   "outputs": [
    {
     "name": "stderr",
     "output_type": "stream",
     "text": [
      "<ipython-input-18-d774641c0dd2>:5: DeprecationWarning: executable_path has been deprecated, please pass in a Service object\n",
      "  driver = webdriver.Chrome(\"/usr/local/bin/chromedriver\")\n",
      "<ipython-input-18-d774641c0dd2>:10: DeprecationWarning: find_element_by_* commands are deprecated. Please use find_element() instead\n",
      "  driver.find_element_by_css_selector(\".btn.btn_login.solid.medium\").click()\n",
      "<ipython-input-18-d774641c0dd2>:14: DeprecationWarning: find_element_by_* commands are deprecated. Please use find_element() instead\n",
      "  login = driver.find_element_by_xpath('//*[@id=\"__layout\"]/div/div[2]/div[1]/div/div[1]/div/input')\n",
      "<ipython-input-18-d774641c0dd2>:17: DeprecationWarning: find_element_by_* commands are deprecated. Please use find_element() instead\n",
      "  password = driver.find_element_by_xpath('//*[@id=\"__layout\"]/div/div[2]/div[1]/div/div[2]/div/input')\n",
      "<ipython-input-18-d774641c0dd2>:21: DeprecationWarning: find_element_by_* commands are deprecated. Please use find_element() instead\n",
      "  driver.find_element_by_css_selector(\".btn.full.solid\").click()\n",
      "<ipython-input-18-d774641c0dd2>:25: DeprecationWarning: find_element_by_* commands are deprecated. Please use find_element() instead\n",
      "  driver.find_element_by_css_selector(\".btn_size\").click()\n",
      "<ipython-input-18-d774641c0dd2>:28: DeprecationWarning: find_element_by_* commands are deprecated. Please use find_element() instead\n",
      "  driver.find_element_by_xpath('//*[@id=\"__layout\"]/div/div[2]/div[5]/div/div/div[2]/div/ul/li[13]/button').click()\n",
      "<ipython-input-18-d774641c0dd2>:31: DeprecationWarning: find_element_by_* commands are deprecated. Please use find_element() instead\n",
      "  driver.find_element_by_css_selector(\".btn.outlinegrey.full.medium\").click()\n",
      "<ipython-input-18-d774641c0dd2>:34: DeprecationWarning: find_element_by_* commands are deprecated. Please use find_element() instead\n",
      "  driver.find_element_by_xpath('//*[@id=\"panel1\"]/div/div/div[1]/div/div[3]/a').click()\n",
      "<ipython-input-18-d774641c0dd2>:37: DeprecationWarning: find_element_by_* commands are deprecated. Please use find_element() instead\n",
      "  scr1 = driver.find_element_by_xpath('//*[@id=\"panel1\"]/div/div/div[2]')\n",
      "  0%|          | 0/30 [00:00<?, ?it/s]"
     ]
    },
    {
     "name": "stdout",
     "output_type": "stream",
     "text": [
      "0\n"
     ]
    },
    {
     "name": "stderr",
     "output_type": "stream",
     "text": [
      "\r",
      "  3%|▎         | 1/30 [00:02<01:04,  2.22s/it]"
     ]
    },
    {
     "name": "stdout",
     "output_type": "stream",
     "text": [
      "1\n"
     ]
    },
    {
     "name": "stderr",
     "output_type": "stream",
     "text": [
      "\r",
      "  7%|▋         | 2/30 [00:04<01:02,  2.25s/it]"
     ]
    },
    {
     "name": "stdout",
     "output_type": "stream",
     "text": [
      "2\n"
     ]
    },
    {
     "name": "stderr",
     "output_type": "stream",
     "text": [
      "\r",
      " 10%|█         | 3/30 [00:06<01:00,  2.24s/it]"
     ]
    },
    {
     "name": "stdout",
     "output_type": "stream",
     "text": [
      "3\n"
     ]
    },
    {
     "name": "stderr",
     "output_type": "stream",
     "text": [
      "\r",
      " 13%|█▎        | 4/30 [00:08<00:58,  2.24s/it]"
     ]
    },
    {
     "name": "stdout",
     "output_type": "stream",
     "text": [
      "4\n"
     ]
    },
    {
     "name": "stderr",
     "output_type": "stream",
     "text": [
      "\r",
      " 17%|█▋        | 5/30 [00:11<00:55,  2.24s/it]"
     ]
    },
    {
     "name": "stdout",
     "output_type": "stream",
     "text": [
      "5\n"
     ]
    },
    {
     "name": "stderr",
     "output_type": "stream",
     "text": [
      "\r",
      " 20%|██        | 6/30 [00:13<00:53,  2.24s/it]"
     ]
    },
    {
     "name": "stdout",
     "output_type": "stream",
     "text": [
      "6\n"
     ]
    },
    {
     "name": "stderr",
     "output_type": "stream",
     "text": [
      "\r",
      " 23%|██▎       | 7/30 [00:15<00:51,  2.24s/it]"
     ]
    },
    {
     "name": "stdout",
     "output_type": "stream",
     "text": [
      "7\n"
     ]
    },
    {
     "name": "stderr",
     "output_type": "stream",
     "text": [
      "\r",
      " 27%|██▋       | 8/30 [00:17<00:49,  2.24s/it]"
     ]
    },
    {
     "name": "stdout",
     "output_type": "stream",
     "text": [
      "8\n"
     ]
    },
    {
     "name": "stderr",
     "output_type": "stream",
     "text": [
      "\r",
      " 30%|███       | 9/30 [00:20<00:47,  2.24s/it]"
     ]
    },
    {
     "name": "stdout",
     "output_type": "stream",
     "text": [
      "9\n"
     ]
    },
    {
     "name": "stderr",
     "output_type": "stream",
     "text": [
      "\r",
      " 33%|███▎      | 10/30 [00:22<00:44,  2.24s/it]"
     ]
    },
    {
     "name": "stdout",
     "output_type": "stream",
     "text": [
      "10\n"
     ]
    },
    {
     "name": "stderr",
     "output_type": "stream",
     "text": [
      "\r",
      " 37%|███▋      | 11/30 [00:24<00:42,  2.24s/it]"
     ]
    },
    {
     "name": "stdout",
     "output_type": "stream",
     "text": [
      "11\n"
     ]
    },
    {
     "name": "stderr",
     "output_type": "stream",
     "text": [
      "\r",
      " 40%|████      | 12/30 [00:26<00:40,  2.23s/it]"
     ]
    },
    {
     "name": "stdout",
     "output_type": "stream",
     "text": [
      "12\n"
     ]
    },
    {
     "name": "stderr",
     "output_type": "stream",
     "text": [
      "\r",
      " 43%|████▎     | 13/30 [00:29<00:38,  2.25s/it]"
     ]
    },
    {
     "name": "stdout",
     "output_type": "stream",
     "text": [
      "13\n"
     ]
    },
    {
     "name": "stderr",
     "output_type": "stream",
     "text": [
      "\r",
      " 47%|████▋     | 14/30 [00:31<00:35,  2.25s/it]"
     ]
    },
    {
     "name": "stdout",
     "output_type": "stream",
     "text": [
      "14\n"
     ]
    },
    {
     "name": "stderr",
     "output_type": "stream",
     "text": [
      "\r",
      " 50%|█████     | 15/30 [00:33<00:33,  2.24s/it]"
     ]
    },
    {
     "name": "stdout",
     "output_type": "stream",
     "text": [
      "15\n"
     ]
    },
    {
     "name": "stderr",
     "output_type": "stream",
     "text": [
      "\r",
      " 53%|█████▎    | 16/30 [00:35<00:31,  2.24s/it]"
     ]
    },
    {
     "name": "stdout",
     "output_type": "stream",
     "text": [
      "16\n"
     ]
    },
    {
     "name": "stderr",
     "output_type": "stream",
     "text": [
      "\r",
      " 57%|█████▋    | 17/30 [00:38<00:29,  2.23s/it]"
     ]
    },
    {
     "name": "stdout",
     "output_type": "stream",
     "text": [
      "17\n"
     ]
    },
    {
     "name": "stderr",
     "output_type": "stream",
     "text": [
      "\r",
      " 60%|██████    | 18/30 [00:40<00:29,  2.44s/it]"
     ]
    },
    {
     "name": "stdout",
     "output_type": "stream",
     "text": [
      "18\n"
     ]
    },
    {
     "name": "stderr",
     "output_type": "stream",
     "text": [
      "\r",
      " 63%|██████▎   | 19/30 [00:43<00:26,  2.37s/it]"
     ]
    },
    {
     "name": "stdout",
     "output_type": "stream",
     "text": [
      "19\n"
     ]
    },
    {
     "name": "stderr",
     "output_type": "stream",
     "text": [
      "\r",
      " 67%|██████▋   | 20/30 [00:45<00:23,  2.32s/it]"
     ]
    },
    {
     "name": "stdout",
     "output_type": "stream",
     "text": [
      "20\n"
     ]
    },
    {
     "name": "stderr",
     "output_type": "stream",
     "text": [
      "\r",
      " 70%|███████   | 21/30 [00:47<00:20,  2.29s/it]"
     ]
    },
    {
     "name": "stdout",
     "output_type": "stream",
     "text": [
      "21\n"
     ]
    },
    {
     "name": "stderr",
     "output_type": "stream",
     "text": [
      "\r",
      " 73%|███████▎  | 22/30 [00:49<00:18,  2.27s/it]"
     ]
    },
    {
     "name": "stdout",
     "output_type": "stream",
     "text": [
      "22\n"
     ]
    },
    {
     "name": "stderr",
     "output_type": "stream",
     "text": [
      "\r",
      " 77%|███████▋  | 23/30 [00:52<00:15,  2.25s/it]"
     ]
    },
    {
     "name": "stdout",
     "output_type": "stream",
     "text": [
      "23\n"
     ]
    },
    {
     "name": "stderr",
     "output_type": "stream",
     "text": [
      "\r",
      " 80%|████████  | 24/30 [00:54<00:13,  2.25s/it]"
     ]
    },
    {
     "name": "stdout",
     "output_type": "stream",
     "text": [
      "24\n"
     ]
    },
    {
     "name": "stderr",
     "output_type": "stream",
     "text": [
      "\r",
      " 83%|████████▎ | 25/30 [00:56<00:11,  2.25s/it]"
     ]
    },
    {
     "name": "stdout",
     "output_type": "stream",
     "text": [
      "25\n"
     ]
    },
    {
     "name": "stderr",
     "output_type": "stream",
     "text": [
      "\r",
      " 87%|████████▋ | 26/30 [00:58<00:08,  2.25s/it]"
     ]
    },
    {
     "name": "stdout",
     "output_type": "stream",
     "text": [
      "26\n"
     ]
    },
    {
     "name": "stderr",
     "output_type": "stream",
     "text": [
      "\r",
      " 90%|█████████ | 27/30 [01:01<00:06,  2.25s/it]"
     ]
    },
    {
     "name": "stdout",
     "output_type": "stream",
     "text": [
      "27\n"
     ]
    },
    {
     "name": "stderr",
     "output_type": "stream",
     "text": [
      "\r",
      " 93%|█████████▎| 28/30 [01:03<00:04,  2.25s/it]"
     ]
    },
    {
     "name": "stdout",
     "output_type": "stream",
     "text": [
      "28\n"
     ]
    },
    {
     "name": "stderr",
     "output_type": "stream",
     "text": [
      "\r",
      " 97%|█████████▋| 29/30 [01:05<00:02,  2.24s/it]"
     ]
    },
    {
     "name": "stdout",
     "output_type": "stream",
     "text": [
      "29\n"
     ]
    },
    {
     "name": "stderr",
     "output_type": "stream",
     "text": [
      "100%|██████████| 30/30 [01:07<00:00,  2.26s/it]\n",
      "<ipython-input-18-d774641c0dd2>:48: DeprecationWarning: find_element_by_* commands are deprecated. Please use find_element() instead\n",
      "  elements = driver.find_element_by_class_name(\"price_body\").find_elements_by_class_name(\"body_list\")\n",
      "/Applications/anaconda3/lib/python3.8/site-packages/selenium/webdriver/remote/webelement.py:464: UserWarning: find_elements_by_* commands are deprecated. Please use find_elements() instead\n",
      "  warnings.warn(\"find_elements_by_* commands are deprecated. Please use find_elements() instead\")\n"
     ]
    },
    {
     "data": {
      "text/html": [
       "<div>\n",
       "<style scoped>\n",
       "    .dataframe tbody tr th:only-of-type {\n",
       "        vertical-align: middle;\n",
       "    }\n",
       "\n",
       "    .dataframe tbody tr th {\n",
       "        vertical-align: top;\n",
       "    }\n",
       "\n",
       "    .dataframe thead th {\n",
       "        text-align: right;\n",
       "    }\n",
       "</style>\n",
       "<table border=\"1\" class=\"dataframe\">\n",
       "  <thead>\n",
       "    <tr style=\"text-align: right;\">\n",
       "      <th></th>\n",
       "      <th>size</th>\n",
       "      <th>price</th>\n",
       "      <th>buy</th>\n",
       "    </tr>\n",
       "  </thead>\n",
       "  <tbody>\n",
       "    <tr>\n",
       "      <th>0</th>\n",
       "      <td>270</td>\n",
       "      <td>720,000원</td>\n",
       "      <td>21/05/16</td>\n",
       "    </tr>\n",
       "    <tr>\n",
       "      <th>1</th>\n",
       "      <td>270</td>\n",
       "      <td>720,000원</td>\n",
       "      <td>21/05/16</td>\n",
       "    </tr>\n",
       "    <tr>\n",
       "      <th>2</th>\n",
       "      <td>270</td>\n",
       "      <td>720,000원</td>\n",
       "      <td>21/05/16</td>\n",
       "    </tr>\n",
       "    <tr>\n",
       "      <th>3</th>\n",
       "      <td>270</td>\n",
       "      <td>718,000원</td>\n",
       "      <td>21/05/16</td>\n",
       "    </tr>\n",
       "    <tr>\n",
       "      <th>4</th>\n",
       "      <td>270</td>\n",
       "      <td>719,000원</td>\n",
       "      <td>21/05/16</td>\n",
       "    </tr>\n",
       "    <tr>\n",
       "      <th>...</th>\n",
       "      <td>...</td>\n",
       "      <td>...</td>\n",
       "      <td>...</td>\n",
       "    </tr>\n",
       "    <tr>\n",
       "      <th>895</th>\n",
       "      <td>270</td>\n",
       "      <td>510,000원</td>\n",
       "      <td>21/09/02</td>\n",
       "    </tr>\n",
       "    <tr>\n",
       "      <th>896</th>\n",
       "      <td>270</td>\n",
       "      <td>513,000원</td>\n",
       "      <td>21/09/02</td>\n",
       "    </tr>\n",
       "    <tr>\n",
       "      <th>897</th>\n",
       "      <td>270</td>\n",
       "      <td>517,000원</td>\n",
       "      <td>21/09/02</td>\n",
       "    </tr>\n",
       "    <tr>\n",
       "      <th>898</th>\n",
       "      <td>270</td>\n",
       "      <td>518,000원</td>\n",
       "      <td>21/09/02</td>\n",
       "    </tr>\n",
       "    <tr>\n",
       "      <th>899</th>\n",
       "      <td>270</td>\n",
       "      <td>510,000원</td>\n",
       "      <td>21/09/03</td>\n",
       "    </tr>\n",
       "  </tbody>\n",
       "</table>\n",
       "<p>900 rows × 3 columns</p>\n",
       "</div>"
      ],
      "text/plain": [
       "    size     price       buy\n",
       "0    270  720,000원  21/05/16\n",
       "1    270  720,000원  21/05/16\n",
       "2    270  720,000원  21/05/16\n",
       "3    270  718,000원  21/05/16\n",
       "4    270  719,000원  21/05/16\n",
       "..   ...       ...       ...\n",
       "895  270  510,000원  21/09/02\n",
       "896  270  513,000원  21/09/02\n",
       "897  270  517,000원  21/09/02\n",
       "898  270  518,000원  21/09/02\n",
       "899  270  510,000원  21/09/03\n",
       "\n",
       "[900 rows x 3 columns]"
      ]
     },
     "execution_count": 18,
     "metadata": {},
     "output_type": "execute_result"
    }
   ],
   "source": [
    "# 드라이버 초기화\n",
    "# driver = webdriver.Chrome(\"C:\\Applications\\anaconda3\\lib\\python3.8\\site-packages\\selenium\\webdriver\\chrome\\chromedriver.exec\")\n",
    "# driver = webdriver.Chrome(\"./chromedriver\")\n",
    "# driver = webdriver.Chrome('./chromedriver.exec')\n",
    "driver = webdriver.Chrome(\"/usr/local/bin/chromedriver\")\n",
    "# URL 얻기\n",
    "# 거래\n",
    "driver.get(\"https://kream.co.kr/products/34573\")\n",
    "\n",
    "driver.find_element_by_css_selector(\".btn.btn_login.solid.medium\").click()\n",
    "\n",
    "time.sleep(0.5)\n",
    "\n",
    "login = driver.find_element_by_xpath('//*[@id=\"__layout\"]/div/div[2]/div[1]/div/div[1]/div/input')\n",
    "login.send_keys(\"x\")\n",
    "\n",
    "password = driver.find_element_by_xpath('//*[@id=\"__layout\"]/div/div[2]/div[1]/div/div[2]/div/input')\n",
    "password.send_keys(\"x\")\n",
    "\n",
    "time.sleep(0.3)\n",
    "driver.find_element_by_css_selector(\".btn.full.solid\").click()\n",
    "\n",
    "\n",
    "time.sleep(1)\n",
    "driver.find_element_by_css_selector(\".btn_size\").click()\n",
    "\n",
    "time.sleep(1)\n",
    "driver.find_element_by_xpath('//*[@id=\"__layout\"]/div/div[2]/div[5]/div/div/div[2]/div/ul/li[13]/button').click()\n",
    "\n",
    "time.sleep(1)\n",
    "driver.find_element_by_css_selector(\".btn.outlinegrey.full.medium\").click()\n",
    "\n",
    "time.sleep(1)\n",
    "driver.find_element_by_xpath('//*[@id=\"panel1\"]/div/div/div[1]/div/div[3]/a').click()\n",
    "\n",
    "\n",
    "scr1 = driver.find_element_by_xpath('//*[@id=\"panel1\"]/div/div/div[2]')\n",
    "\n",
    "for i in trange(30):                                                     \n",
    "    try:\n",
    "        driver.execute_script(\"arguments[0].scrollTop = arguments[0].scrollHeight\", scr1)   \n",
    "        print(i)                                                                           \n",
    "    except:\n",
    "        pass\n",
    "    time.sleep(2.2) \n",
    "\n",
    "\n",
    "elements = driver.find_element_by_class_name(\"price_body\").find_elements_by_class_name(\"body_list\")\n",
    "html = driver.page_source\n",
    "soup = bs(html, \"html.parser\")\n",
    "table = soup.find(\"div\", attrs={\"class\":\"price_body\"}).find_all(\"div\", attrs = {\"class\":\"body_list\"})\n",
    "\n",
    "df_list = []\n",
    "for x in range(len(elements)):\n",
    "    a = elements[x].text\n",
    "    df_list.append(a)\n",
    "    \n",
    "    size = []\n",
    "    price = []\n",
    "    buy = []\n",
    "    for y in range(len(df_list)):\n",
    "        if df_list[y].split(\"\\n\")[2] == \"빠른배송\":\n",
    "            size.append(df_list[y].split(\"\\n\")[0]) \n",
    "            price.append(df_list[y].split(\"\\n\")[1]) \n",
    "            buy.append(df_list[y].split(\"\\n\")[3]) \n",
    "        elif df_list[y].split(\"\\n\")[2] != \"빠른배송\":\n",
    "            size.append(df_list[y].split(\"\\n\")[0]) \n",
    "            price.append(df_list[y].split(\"\\n\")[1]) \n",
    "            buy.append(df_list[y].split(\"\\n\")[2]) \n",
    "\n",
    "        \n",
    "df = pd.DataFrame()\n",
    "\n",
    "df[\"size\"] = size\n",
    "df[\"price\"] = price\n",
    "df[\"buy\"] = buy\n",
    "\n",
    "df"
   ]
  },
  {
   "cell_type": "code",
   "execution_count": 19,
   "id": "64da0359",
   "metadata": {},
   "outputs": [
    {
     "data": {
      "text/html": [
       "<div>\n",
       "<style scoped>\n",
       "    .dataframe tbody tr th:only-of-type {\n",
       "        vertical-align: middle;\n",
       "    }\n",
       "\n",
       "    .dataframe tbody tr th {\n",
       "        vertical-align: top;\n",
       "    }\n",
       "\n",
       "    .dataframe thead th {\n",
       "        text-align: right;\n",
       "    }\n",
       "</style>\n",
       "<table border=\"1\" class=\"dataframe\">\n",
       "  <thead>\n",
       "    <tr style=\"text-align: right;\">\n",
       "      <th></th>\n",
       "      <th>size</th>\n",
       "      <th>price</th>\n",
       "      <th>buy</th>\n",
       "    </tr>\n",
       "  </thead>\n",
       "  <tbody>\n",
       "    <tr>\n",
       "      <th>0</th>\n",
       "      <td>270</td>\n",
       "      <td>720,000원</td>\n",
       "      <td>21/05/16</td>\n",
       "    </tr>\n",
       "    <tr>\n",
       "      <th>1</th>\n",
       "      <td>270</td>\n",
       "      <td>720,000원</td>\n",
       "      <td>21/05/16</td>\n",
       "    </tr>\n",
       "    <tr>\n",
       "      <th>2</th>\n",
       "      <td>270</td>\n",
       "      <td>720,000원</td>\n",
       "      <td>21/05/16</td>\n",
       "    </tr>\n",
       "    <tr>\n",
       "      <th>3</th>\n",
       "      <td>270</td>\n",
       "      <td>718,000원</td>\n",
       "      <td>21/05/16</td>\n",
       "    </tr>\n",
       "    <tr>\n",
       "      <th>4</th>\n",
       "      <td>270</td>\n",
       "      <td>719,000원</td>\n",
       "      <td>21/05/16</td>\n",
       "    </tr>\n",
       "    <tr>\n",
       "      <th>...</th>\n",
       "      <td>...</td>\n",
       "      <td>...</td>\n",
       "      <td>...</td>\n",
       "    </tr>\n",
       "    <tr>\n",
       "      <th>895</th>\n",
       "      <td>270</td>\n",
       "      <td>510,000원</td>\n",
       "      <td>21/09/02</td>\n",
       "    </tr>\n",
       "    <tr>\n",
       "      <th>896</th>\n",
       "      <td>270</td>\n",
       "      <td>513,000원</td>\n",
       "      <td>21/09/02</td>\n",
       "    </tr>\n",
       "    <tr>\n",
       "      <th>897</th>\n",
       "      <td>270</td>\n",
       "      <td>517,000원</td>\n",
       "      <td>21/09/02</td>\n",
       "    </tr>\n",
       "    <tr>\n",
       "      <th>898</th>\n",
       "      <td>270</td>\n",
       "      <td>518,000원</td>\n",
       "      <td>21/09/02</td>\n",
       "    </tr>\n",
       "    <tr>\n",
       "      <th>899</th>\n",
       "      <td>270</td>\n",
       "      <td>510,000원</td>\n",
       "      <td>21/09/03</td>\n",
       "    </tr>\n",
       "  </tbody>\n",
       "</table>\n",
       "<p>900 rows × 3 columns</p>\n",
       "</div>"
      ],
      "text/plain": [
       "     size     price       buy\n",
       "0     270  720,000원  21/05/16\n",
       "1     270  720,000원  21/05/16\n",
       "2     270  720,000원  21/05/16\n",
       "3     270  718,000원  21/05/16\n",
       "4     270  719,000원  21/05/16\n",
       "..    ...       ...       ...\n",
       "895   270  510,000원  21/09/02\n",
       "896   270  513,000원  21/09/02\n",
       "897   270  517,000원  21/09/02\n",
       "898   270  518,000원  21/09/02\n",
       "899   270  510,000원  21/09/03\n",
       "\n",
       "[900 rows x 3 columns]"
      ]
     },
     "execution_count": 19,
     "metadata": {},
     "output_type": "execute_result"
    }
   ],
   "source": [
    "df.to_csv(\"Nike x Ambush Dunk High Deep Royal Blue.csv\", index = False)\n",
    "pd.read_csv(\"Nike x Ambush Dunk High Deep Royal Blue.csv\")"
   ]
  },
  {
   "cell_type": "code",
   "execution_count": 20,
   "id": "41b2a6bd",
   "metadata": {},
   "outputs": [
    {
     "data": {
      "text/plain": [
       "270    900\n",
       "Name: size, dtype: int64"
      ]
     },
     "execution_count": 20,
     "metadata": {},
     "output_type": "execute_result"
    }
   ],
   "source": [
    "df[\"size\"].value_counts().sort_index()"
   ]
  },
  {
   "cell_type": "code",
   "execution_count": null,
   "id": "6e632fd7",
   "metadata": {},
   "outputs": [],
   "source": []
  }
 ],
 "metadata": {
  "kernelspec": {
   "display_name": "Python 3",
   "language": "python",
   "name": "python3"
  },
  "language_info": {
   "codemirror_mode": {
    "name": "ipython",
    "version": 3
   },
   "file_extension": ".py",
   "mimetype": "text/x-python",
   "name": "python",
   "nbconvert_exporter": "python",
   "pygments_lexer": "ipython3",
   "version": "3.8.8"
  },
  "toc": {
   "base_numbering": 1,
   "nav_menu": {},
   "number_sections": true,
   "sideBar": true,
   "skip_h1_title": false,
   "title_cell": "Table of Contents",
   "title_sidebar": "Contents",
   "toc_cell": false,
   "toc_position": {},
   "toc_section_display": true,
   "toc_window_display": false
  },
  "varInspector": {
   "cols": {
    "lenName": 16,
    "lenType": 16,
    "lenVar": 40
   },
   "kernels_config": {
    "python": {
     "delete_cmd_postfix": "",
     "delete_cmd_prefix": "del ",
     "library": "var_list.py",
     "varRefreshCmd": "print(var_dic_list())"
    },
    "r": {
     "delete_cmd_postfix": ") ",
     "delete_cmd_prefix": "rm(",
     "library": "var_list.r",
     "varRefreshCmd": "cat(var_dic_list()) "
    }
   },
   "types_to_exclude": [
    "module",
    "function",
    "builtin_function_or_method",
    "instance",
    "_Feature"
   ],
   "window_display": false
  }
 },
 "nbformat": 4,
 "nbformat_minor": 5
}
