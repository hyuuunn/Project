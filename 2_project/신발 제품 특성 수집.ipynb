{
 "cells": [
  {
   "cell_type": "code",
   "execution_count": 1,
   "id": "5a36d85c",
   "metadata": {},
   "outputs": [],
   "source": [
    "import pandas as pd\n",
    "import numpy as np\n",
    "import requests \n",
    "import time\n",
    "\n",
    "from selenium import webdriver\n",
    "from selenium.webdriver.common.keys import Keys\n",
    "from bs4 import BeautifulSoup as bs\n",
    "\n",
    "from tqdm import trange"
   ]
  },
  {
   "cell_type": "code",
   "execution_count": null,
   "id": "97311319",
   "metadata": {},
   "outputs": [],
   "source": [
    "driver = webdriver.Chrome(\"/usr/local/bin/chromedriver\")\n",
    "driver.get(\"https://kream.co.kr/products/25620?size=270\")\n",
    "\n",
    "\n",
    "\n",
    "html = driver.page_source\n",
    "soup = bs(html, \"html.parser\")\n",
    "\n",
    "name = soup.findAll('p', attrs={'class': 'title'})\n",
    "tags = soup.findAll('div', attrs={'class': 'detail_box'})\n",
    "wish = soup.findAll('span', attrs={'class': 'wish_count_num'})\n",
    "\n",
    "    \n",
    "p_name = []\n",
    "p_num = []\n",
    "p_day = []\n",
    "p_col = []\n",
    "p_price = []\n",
    "p_wish = []\n",
    "\n",
    "\n",
    "p_name.append(str(name[0]).split(\">\")[1].split(\"<\")[0])\n",
    "p_num.append(str(tags[0]).split(\">\")[4].split(\"<\")[0])\n",
    "p_day.append(str(tags[1]).split(\">\")[4].split(\"<\")[0])\n",
    "p_col.append(str(tags[2]).split(\">\")[4].split(\"<\")[0])\n",
    "p_price.append(str(tags[3]).split(\">\")[4].split(\"<\")[0])\n",
    "p_wish.append(str(wish[0]).split(\">\")[1].split(\"<\")[0])\n",
    "\n",
    "df = pd.DataFrame()\n",
    "\n",
    "df[\"name\"] = p_name\n",
    "df[\"num\"] = p_num\n",
    "df[\"day\"] = p_day\n",
    "df[\"col\"] = p_col\n",
    "df[\"price\"] = p_price\n",
    "df[\"wish\"] = p_wish\n",
    "\n",
    "df"
   ]
  },
  {
   "cell_type": "code",
   "execution_count": 7,
   "id": "929ad87d",
   "metadata": {},
   "outputs": [
    {
     "name": "stderr",
     "output_type": "stream",
     "text": [
      "<ipython-input-7-c9b64518e409>:1: DeprecationWarning: executable_path has been deprecated, please pass in a Service object\n",
      "  driver = webdriver.Chrome(\"/usr/local/bin/chromedriver\")\n",
      "  0%|          | 0/31 [00:00<?, ?it/s]<ipython-input-7-c9b64518e409>:16: DeprecationWarning: find_element_by_* commands are deprecated. Please use find_element() instead\n",
      "  driver.find_element_by_xpath(f'//*[@id=\"__layout\"]/div/div[2]/div[5]/div/div[3]/div[1]/div[{i}]').click()\n",
      "<ipython-input-7-c9b64518e409>:18: DeprecationWarning: find_element_by_* commands are deprecated. Please use find_element() instead\n",
      "  item = driver.find_element_by_xpath(f'//*[@id=\"__layout\"]/div/div[2]/div[5]/div/div[3]/div[1]/div[{i}]/a/div[2]/div[1]/p[2]').text\n",
      "100%|██████████| 31/31 [05:56<00:00, 11.49s/it]\n"
     ]
    },
    {
     "data": {
      "text/html": [
       "<div>\n",
       "<style scoped>\n",
       "    .dataframe tbody tr th:only-of-type {\n",
       "        vertical-align: middle;\n",
       "    }\n",
       "\n",
       "    .dataframe tbody tr th {\n",
       "        vertical-align: top;\n",
       "    }\n",
       "\n",
       "    .dataframe thead th {\n",
       "        text-align: right;\n",
       "    }\n",
       "</style>\n",
       "<table border=\"1\" class=\"dataframe\">\n",
       "  <thead>\n",
       "    <tr style=\"text-align: right;\">\n",
       "      <th></th>\n",
       "      <th>name</th>\n",
       "      <th>num</th>\n",
       "      <th>day</th>\n",
       "      <th>col</th>\n",
       "      <th>price</th>\n",
       "      <th>wish</th>\n",
       "    </tr>\n",
       "  </thead>\n",
       "  <tbody>\n",
       "    <tr>\n",
       "      <th>0</th>\n",
       "      <td>Nike Air Force 1 '07 LV8 Paisley Swoosh</td>\n",
       "      <td>DJ4631-200</td>\n",
       "      <td>21/04/23</td>\n",
       "      <td>RATTAN/PALE IVORY/BLACK</td>\n",
       "      <td>139,000원</td>\n",
       "      <td>9,095</td>\n",
       "    </tr>\n",
       "    <tr>\n",
       "      <th>1</th>\n",
       "      <td>Nike Air Force 1 Low Gore-Tex Olive</td>\n",
       "      <td>DO2760-206</td>\n",
       "      <td>21/12/09</td>\n",
       "      <td>OLIVE/BLACK</td>\n",
       "      <td>189,000원</td>\n",
       "      <td>747</td>\n",
       "    </tr>\n",
       "    <tr>\n",
       "      <th>2</th>\n",
       "      <td>Nike Air Force 1 Mid '07 WB Flax</td>\n",
       "      <td>DJ9158-200</td>\n",
       "      <td>21/10/02</td>\n",
       "      <td>FLAX/WHEAT-GUM LIGHT BROWN</td>\n",
       "      <td>179,000원</td>\n",
       "      <td>2,955</td>\n",
       "    </tr>\n",
       "    <tr>\n",
       "      <th>3</th>\n",
       "      <td>Nike Air Force 1 '07 LV8 Athletic Club Rush Or...</td>\n",
       "      <td>DH7568-800</td>\n",
       "      <td>22/01/11</td>\n",
       "      <td>RUSH ORANGE/WASHED TEAL-WHITE</td>\n",
       "      <td>139,000원</td>\n",
       "      <td>722</td>\n",
       "    </tr>\n",
       "    <tr>\n",
       "      <th>4</th>\n",
       "      <td>Nike Air Force 1 Low QS Acorn 2021</td>\n",
       "      <td>DJ6395-100</td>\n",
       "      <td>21/04/29</td>\n",
       "      <td>UNDERBRUSH/LIGHT BONE/ACORN</td>\n",
       "      <td>169,000원</td>\n",
       "      <td>3,261</td>\n",
       "    </tr>\n",
       "    <tr>\n",
       "      <th>5</th>\n",
       "      <td>Nike Air Force 1 '07 QS LBJ</td>\n",
       "      <td>DC8877-200</td>\n",
       "      <td>21/12/06</td>\n",
       "      <td>CREAM II/BLACK-SAIL-BLACK</td>\n",
       "      <td>159,000원</td>\n",
       "      <td>1,311</td>\n",
       "    </tr>\n",
       "    <tr>\n",
       "      <th>6</th>\n",
       "      <td>Nike Air Force 1 '07 LV8 White Black Wolf Grey</td>\n",
       "      <td>DC8873-101</td>\n",
       "      <td>21/11/27</td>\n",
       "      <td>WHITE/BLACK/WOLF GREY/WHITE</td>\n",
       "      <td>¥12,100 (약 126,000원)</td>\n",
       "      <td>1,073</td>\n",
       "    </tr>\n",
       "    <tr>\n",
       "      <th>7</th>\n",
       "      <td>Nike Air Force 1 '07 LV8 EMB Black Silver</td>\n",
       "      <td>CT2301-001</td>\n",
       "      <td>21/04/29</td>\n",
       "      <td>BLACK/FLT SILVER-WHITE-PINE GREEN</td>\n",
       "      <td>139,000원</td>\n",
       "      <td>4,403</td>\n",
       "    </tr>\n",
       "    <tr>\n",
       "      <th>8</th>\n",
       "      <td>Nike Air Force 1 '07 LV8 Dusty Blue</td>\n",
       "      <td>DH0265-400</td>\n",
       "      <td>21/03/19</td>\n",
       "      <td>BLUE VOID/SAIL</td>\n",
       "      <td>$110 (약 131,100원)</td>\n",
       "      <td>2,487</td>\n",
       "    </tr>\n",
       "    <tr>\n",
       "      <th>9</th>\n",
       "      <td>Nike x Comme des Garcons Shirt x Supreme Air F...</td>\n",
       "      <td>AR7623-001</td>\n",
       "      <td>18/11/09</td>\n",
       "      <td>BLACK/WHITE</td>\n",
       "      <td>$165 (약 196,600원)</td>\n",
       "      <td>859</td>\n",
       "    </tr>\n",
       "    <tr>\n",
       "      <th>10</th>\n",
       "      <td>Nike Air Force 1 '07 White Black</td>\n",
       "      <td>CT2302-100</td>\n",
       "      <td>20/12/23</td>\n",
       "      <td>WHITE/BLACK</td>\n",
       "      <td>129,000원</td>\n",
       "      <td>6,553</td>\n",
       "    </tr>\n",
       "    <tr>\n",
       "      <th>11</th>\n",
       "      <td>Nike Air Force 1 '07 PRM Popcorn</td>\n",
       "      <td>CW2919-100</td>\n",
       "      <td>21/03/09</td>\n",
       "      <td>COCONUT MILK/WHITE-UNIVERSITY RED</td>\n",
       "      <td>169,000원</td>\n",
       "      <td>4,123</td>\n",
       "    </tr>\n",
       "    <tr>\n",
       "      <th>12</th>\n",
       "      <td>Nike Air Force 1 '07 LV8 Coffee</td>\n",
       "      <td>DD5227-234</td>\n",
       "      <td>21/02/24</td>\n",
       "      <td>BEACH/GRAIN/PALE IVORY/MAHOGANY</td>\n",
       "      <td>139,000원</td>\n",
       "      <td>2,077</td>\n",
       "    </tr>\n",
       "    <tr>\n",
       "      <th>13</th>\n",
       "      <td>Nike Air Force 1 Mid QS NYC White Midnight Navy</td>\n",
       "      <td>DH5622-100</td>\n",
       "      <td>21/12/03</td>\n",
       "      <td>WHITE/WHITE-MIDNIGHT NAVY-GUM YELLOW</td>\n",
       "      <td>179,000원</td>\n",
       "      <td>2,319</td>\n",
       "    </tr>\n",
       "    <tr>\n",
       "      <th>14</th>\n",
       "      <td>Nike Air Force 1 '07 LV8 Paint Splatter White</td>\n",
       "      <td>CZ0339-100</td>\n",
       "      <td>21/04/23</td>\n",
       "      <td>WHITE/WHITE/SAIL/WHITE</td>\n",
       "      <td>139,000원</td>\n",
       "      <td>1,769</td>\n",
       "    </tr>\n",
       "    <tr>\n",
       "      <th>15</th>\n",
       "      <td>Nike Air Force 1 Luxe Summit White</td>\n",
       "      <td>DD9605-100</td>\n",
       "      <td>22/01/13</td>\n",
       "      <td>SUMMIT WHITE/LIGHT BONE/SUMMIT WHITE</td>\n",
       "      <td>169,000원</td>\n",
       "      <td>1,011</td>\n",
       "    </tr>\n",
       "    <tr>\n",
       "      <th>16</th>\n",
       "      <td>Nike Air Force 1 B Silver Snake</td>\n",
       "      <td>DJ6033-001</td>\n",
       "      <td>21/02/22</td>\n",
       "      <td>BLACK/SILVER/BLACK</td>\n",
       "      <td>169,000원</td>\n",
       "      <td>7,606</td>\n",
       "    </tr>\n",
       "    <tr>\n",
       "      <th>17</th>\n",
       "      <td>Nike Air Force 1 High Gore-Tex Boot Anthracite</td>\n",
       "      <td>CT2815-001</td>\n",
       "      <td>20/10/30</td>\n",
       "      <td>BLACK/ANTHRACITE/GUM MEDIUM BROWN-BLACK</td>\n",
       "      <td>219,000원</td>\n",
       "      <td>361</td>\n",
       "    </tr>\n",
       "    <tr>\n",
       "      <th>18</th>\n",
       "      <td>Nike Air Force 1 '07 LV8 Varsity Jacket White ...</td>\n",
       "      <td>DO5220-141</td>\n",
       "      <td>21/01/01</td>\n",
       "      <td>WHITE/MIDNIGHT NAVY-SAIL</td>\n",
       "      <td>$110 (약 131,100원)</td>\n",
       "      <td>74</td>\n",
       "    </tr>\n",
       "    <tr>\n",
       "      <th>19</th>\n",
       "      <td>Nike Air Force 1 '07 Low White Pure Platinum</td>\n",
       "      <td>DC2911-100</td>\n",
       "      <td>-</td>\n",
       "      <td>WHITE/PURE PLATINUM-WHITE</td>\n",
       "      <td>$90 (약 107,200원)</td>\n",
       "      <td>247</td>\n",
       "    </tr>\n",
       "    <tr>\n",
       "      <th>20</th>\n",
       "      <td>Nike Air Force 1 '07 LV8 EMB White and Court P...</td>\n",
       "      <td>DB0264-100</td>\n",
       "      <td>21/09/10</td>\n",
       "      <td>WHITE/COURT PURPLE/COURT PURPLE</td>\n",
       "      <td>139,000원</td>\n",
       "      <td>2,660</td>\n",
       "    </tr>\n",
       "    <tr>\n",
       "      <th>21</th>\n",
       "      <td>Nike Air Force 1/1 Triple White</td>\n",
       "      <td>CV1758-100</td>\n",
       "      <td>21/03/12</td>\n",
       "      <td>WHITE/WHITE/WHITE</td>\n",
       "      <td>179,000원</td>\n",
       "      <td>1,379</td>\n",
       "    </tr>\n",
       "    <tr>\n",
       "      <th>22</th>\n",
       "      <td>Nike Air Force 1 NDSTRKT White</td>\n",
       "      <td>CZ3596-100</td>\n",
       "      <td>20/12/01</td>\n",
       "      <td>WHITE/WHITE/BLACK</td>\n",
       "      <td>179,000원</td>\n",
       "      <td>1,051</td>\n",
       "    </tr>\n",
       "    <tr>\n",
       "      <th>23</th>\n",
       "      <td>Nike Air Force 1 '07 Stitch Pine Green</td>\n",
       "      <td>CV1724-103</td>\n",
       "      <td>21/03/04</td>\n",
       "      <td>WHITE/WHITE/PINE GREEN</td>\n",
       "      <td>129,000원</td>\n",
       "      <td>2,875</td>\n",
       "    </tr>\n",
       "    <tr>\n",
       "      <th>24</th>\n",
       "      <td>Nike Air Force 1 Luxe Black</td>\n",
       "      <td>DB4109-001</td>\n",
       "      <td>21/12/01</td>\n",
       "      <td>BLACK/BLACK-BUCKTAN-GUM YELLOW</td>\n",
       "      <td>169,000원</td>\n",
       "      <td>500</td>\n",
       "    </tr>\n",
       "    <tr>\n",
       "      <th>25</th>\n",
       "      <td>Nike Air Force 1 '07 PRM Touch Of Gold</td>\n",
       "      <td>DA8571-200</td>\n",
       "      <td>21/09/04</td>\n",
       "      <td>PARTICLE BEIGE/PARTICLE BEIGE-BLACK-WHITE-MET...</td>\n",
       "      <td>169,000원</td>\n",
       "      <td>366</td>\n",
       "    </tr>\n",
       "    <tr>\n",
       "      <th>26</th>\n",
       "      <td>Nike x NBA Air Force 1 '07 LV8 EMB White and T...</td>\n",
       "      <td>DC8874-100</td>\n",
       "      <td>21/12/16</td>\n",
       "      <td>WHITE/TURQUOISE BLUE/GREY FOG</td>\n",
       "      <td>139,000원</td>\n",
       "      <td>880</td>\n",
       "    </tr>\n",
       "    <tr>\n",
       "      <th>27</th>\n",
       "      <td>Nike Air Force 1 Mid QS NYC Cool Grey</td>\n",
       "      <td>DH5622-001</td>\n",
       "      <td>21/09/29</td>\n",
       "      <td>COOL GREY/WHITE/METALLIC SILVER</td>\n",
       "      <td>179,000원</td>\n",
       "      <td>2,266</td>\n",
       "    </tr>\n",
       "    <tr>\n",
       "      <th>28</th>\n",
       "      <td>Nike Air Force 1 Mid '07 Black</td>\n",
       "      <td>315123-001/CW2289-001</td>\n",
       "      <td>-</td>\n",
       "      <td>BLACK/BLACK</td>\n",
       "      <td>139,000원</td>\n",
       "      <td>480</td>\n",
       "    </tr>\n",
       "    <tr>\n",
       "      <th>29</th>\n",
       "      <td>Nike Air Force 1 Mid '07 White</td>\n",
       "      <td>315123-111/CW2289-111</td>\n",
       "      <td>-</td>\n",
       "      <td>WHITE/WHITE</td>\n",
       "      <td>$95 (약 113,200원)</td>\n",
       "      <td>1,856</td>\n",
       "    </tr>\n",
       "    <tr>\n",
       "      <th>30</th>\n",
       "      <td>Nike Air Force 1 Low '07 Purple Skeleton</td>\n",
       "      <td>CU8067-500</td>\n",
       "      <td>21/11/25</td>\n",
       "      <td>COURT PURPLE/COURT PURPLE-WHITE</td>\n",
       "      <td>159,000원</td>\n",
       "      <td>532</td>\n",
       "    </tr>\n",
       "  </tbody>\n",
       "</table>\n",
       "</div>"
      ],
      "text/plain": [
       "                                                 name  \\\n",
       "0             Nike Air Force 1 '07 LV8 Paisley Swoosh   \n",
       "1                 Nike Air Force 1 Low Gore-Tex Olive   \n",
       "2                    Nike Air Force 1 Mid '07 WB Flax   \n",
       "3   Nike Air Force 1 '07 LV8 Athletic Club Rush Or...   \n",
       "4                  Nike Air Force 1 Low QS Acorn 2021   \n",
       "5                         Nike Air Force 1 '07 QS LBJ   \n",
       "6      Nike Air Force 1 '07 LV8 White Black Wolf Grey   \n",
       "7           Nike Air Force 1 '07 LV8 EMB Black Silver   \n",
       "8                 Nike Air Force 1 '07 LV8 Dusty Blue   \n",
       "9   Nike x Comme des Garcons Shirt x Supreme Air F...   \n",
       "10                   Nike Air Force 1 '07 White Black   \n",
       "11                   Nike Air Force 1 '07 PRM Popcorn   \n",
       "12                    Nike Air Force 1 '07 LV8 Coffee   \n",
       "13    Nike Air Force 1 Mid QS NYC White Midnight Navy   \n",
       "14      Nike Air Force 1 '07 LV8 Paint Splatter White   \n",
       "15                 Nike Air Force 1 Luxe Summit White   \n",
       "16                    Nike Air Force 1 B Silver Snake   \n",
       "17     Nike Air Force 1 High Gore-Tex Boot Anthracite   \n",
       "18  Nike Air Force 1 '07 LV8 Varsity Jacket White ...   \n",
       "19       Nike Air Force 1 '07 Low White Pure Platinum   \n",
       "20  Nike Air Force 1 '07 LV8 EMB White and Court P...   \n",
       "21                    Nike Air Force 1/1 Triple White   \n",
       "22                     Nike Air Force 1 NDSTRKT White   \n",
       "23             Nike Air Force 1 '07 Stitch Pine Green   \n",
       "24                        Nike Air Force 1 Luxe Black   \n",
       "25             Nike Air Force 1 '07 PRM Touch Of Gold   \n",
       "26  Nike x NBA Air Force 1 '07 LV8 EMB White and T...   \n",
       "27              Nike Air Force 1 Mid QS NYC Cool Grey   \n",
       "28                     Nike Air Force 1 Mid '07 Black   \n",
       "29                     Nike Air Force 1 Mid '07 White   \n",
       "30           Nike Air Force 1 Low '07 Purple Skeleton   \n",
       "\n",
       "                         num         day  \\\n",
       "0                DJ4631-200    21/04/23    \n",
       "1                DO2760-206    21/12/09    \n",
       "2                DJ9158-200    21/10/02    \n",
       "3                DH7568-800    22/01/11    \n",
       "4                DJ6395-100    21/04/29    \n",
       "5                DC8877-200    21/12/06    \n",
       "6                DC8873-101    21/11/27    \n",
       "7                CT2301-001    21/04/29    \n",
       "8                DH0265-400    21/03/19    \n",
       "9                AR7623-001    18/11/09    \n",
       "10               CT2302-100    20/12/23    \n",
       "11               CW2919-100    21/03/09    \n",
       "12               DD5227-234    21/02/24    \n",
       "13               DH5622-100    21/12/03    \n",
       "14               CZ0339-100    21/04/23    \n",
       "15               DD9605-100    22/01/13    \n",
       "16               DJ6033-001    21/02/22    \n",
       "17               CT2815-001    20/10/30    \n",
       "18               DO5220-141    21/01/01    \n",
       "19               DC2911-100           -    \n",
       "20               DB0264-100    21/09/10    \n",
       "21               CV1758-100    21/03/12    \n",
       "22               CZ3596-100    20/12/01    \n",
       "23               CV1724-103    21/03/04    \n",
       "24               DB4109-001    21/12/01    \n",
       "25               DA8571-200    21/09/04    \n",
       "26               DC8874-100    21/12/16    \n",
       "27               DH5622-001    21/09/29    \n",
       "28    315123-001/CW2289-001           -    \n",
       "29   315123-111/CW2289-111            -    \n",
       "30               CU8067-500    21/11/25    \n",
       "\n",
       "                                                  col                   price  \\\n",
       "0                            RATTAN/PALE IVORY/BLACK                139,000원    \n",
       "1                                        OLIVE/BLACK                189,000원    \n",
       "2                         FLAX/WHEAT-GUM LIGHT BROWN                179,000원    \n",
       "3                      RUSH ORANGE/WASHED TEAL-WHITE                139,000원    \n",
       "4                        UNDERBRUSH/LIGHT BONE/ACORN                169,000원    \n",
       "5                          CREAM II/BLACK-SAIL-BLACK                159,000원    \n",
       "6                        WHITE/BLACK/WOLF GREY/WHITE    ¥12,100 (약 126,000원)    \n",
       "7                  BLACK/FLT SILVER-WHITE-PINE GREEN                139,000원    \n",
       "8                                     BLUE VOID/SAIL       $110 (약 131,100원)    \n",
       "9                                        BLACK/WHITE       $165 (약 196,600원)    \n",
       "10                                       WHITE/BLACK                129,000원    \n",
       "11                 COCONUT MILK/WHITE-UNIVERSITY RED                169,000원    \n",
       "12                   BEACH/GRAIN/PALE IVORY/MAHOGANY                139,000원    \n",
       "13              WHITE/WHITE-MIDNIGHT NAVY-GUM YELLOW                179,000원    \n",
       "14                            WHITE/WHITE/SAIL/WHITE                139,000원    \n",
       "15              SUMMIT WHITE/LIGHT BONE/SUMMIT WHITE                169,000원    \n",
       "16                                BLACK/SILVER/BLACK                169,000원    \n",
       "17           BLACK/ANTHRACITE/GUM MEDIUM BROWN-BLACK                219,000원    \n",
       "18                          WHITE/MIDNIGHT NAVY-SAIL       $110 (약 131,100원)    \n",
       "19                         WHITE/PURE PLATINUM-WHITE        $90 (약 107,200원)    \n",
       "20                   WHITE/COURT PURPLE/COURT PURPLE                139,000원    \n",
       "21                                 WHITE/WHITE/WHITE                179,000원    \n",
       "22                                 WHITE/WHITE/BLACK                179,000원    \n",
       "23                            WHITE/WHITE/PINE GREEN                129,000원    \n",
       "24                    BLACK/BLACK-BUCKTAN-GUM YELLOW                169,000원    \n",
       "25   PARTICLE BEIGE/PARTICLE BEIGE-BLACK-WHITE-MET...               169,000원    \n",
       "26                     WHITE/TURQUOISE BLUE/GREY FOG                139,000원    \n",
       "27                   COOL GREY/WHITE/METALLIC SILVER                179,000원    \n",
       "28                                       BLACK/BLACK                139,000원    \n",
       "29                                       WHITE/WHITE        $95 (약 113,200원)    \n",
       "30                   COURT PURPLE/COURT PURPLE-WHITE                159,000원    \n",
       "\n",
       "     wish  \n",
       "0   9,095  \n",
       "1     747  \n",
       "2   2,955  \n",
       "3     722  \n",
       "4   3,261  \n",
       "5   1,311  \n",
       "6   1,073  \n",
       "7   4,403  \n",
       "8   2,487  \n",
       "9     859  \n",
       "10  6,553  \n",
       "11  4,123  \n",
       "12  2,077  \n",
       "13  2,319  \n",
       "14  1,769  \n",
       "15  1,011  \n",
       "16  7,606  \n",
       "17    361  \n",
       "18     74  \n",
       "19    247  \n",
       "20  2,660  \n",
       "21  1,379  \n",
       "22  1,051  \n",
       "23  2,875  \n",
       "24    500  \n",
       "25    366  \n",
       "26    880  \n",
       "27  2,266  \n",
       "28    480  \n",
       "29  1,856  \n",
       "30    532  "
      ]
     },
     "execution_count": 7,
     "metadata": {},
     "output_type": "execute_result"
    }
   ],
   "source": [
    "driver = webdriver.Chrome(\"/usr/local/bin/chromedriver\")\n",
    "driver.get(\"https://kream.co.kr/search?category_id=1&tag_id[gender]=45&tag_id[sneakers_size]=97&keyword=%EC%97%90%EC%96%B4%ED%8F%AC%EC%8A%A4&sort=popular&per_page=40\")\n",
    "\n",
    "\n",
    "time.sleep(3)\n",
    "\n",
    "p_name = []\n",
    "p_num = []\n",
    "p_day = []\n",
    "p_col = []\n",
    "p_price = []\n",
    "p_wish = []\n",
    "\n",
    "for i in trange(10,41):   # item 넘버\n",
    "    time.sleep(3)\n",
    "    driver.find_element_by_xpath(f'//*[@id=\"__layout\"]/div/div[2]/div[5]/div/div[3]/div[1]/div[{i}]').click()\n",
    "\n",
    "    item = driver.find_element_by_xpath(f'//*[@id=\"__layout\"]/div/div[2]/div[5]/div/div[3]/div[1]/div[{i}]/a/div[2]/div[1]/p[2]').text\n",
    "    \n",
    "    time.sleep(3)\n",
    "    \n",
    "    html = driver.page_source\n",
    "    soup = bs(html, \"html.parser\")\n",
    "    name = soup.findAll('p', attrs={'class': 'title'})\n",
    "    tags = soup.findAll('div', attrs={'class': 'detail_box'})\n",
    "    wish = soup.findAll('span', attrs={'class': 'wish_count_num'})\n",
    "\n",
    "    p_name.append(str(name[0]).split(\">\")[1].split(\"<\")[0])\n",
    "    p_num.append(str(tags[0]).split(\">\")[4].split(\"<\")[0])\n",
    "    p_day.append(str(tags[1]).split(\">\")[4].split(\"<\")[0])\n",
    "    p_col.append(str(tags[2]).split(\">\")[4].split(\"<\")[0])\n",
    "    p_price.append(str(tags[3]).split(\">\")[4].split(\"<\")[0])\n",
    "    p_wish.append(str(wish[0]).split(\">\")[1].split(\"<\")[0])\n",
    "\n",
    "    time.sleep(2)\n",
    "  \n",
    "    driver.back()\n",
    "    time.sleep(3)\n",
    "    \n",
    "df = pd.DataFrame()\n",
    "\n",
    "df[\"name\"] = p_name\n",
    "df[\"num\"] = p_num\n",
    "df[\"day\"] = p_day\n",
    "df[\"col\"] = p_col\n",
    "df[\"price\"] = p_price\n",
    "df[\"wish\"] = p_wish\n",
    "\n",
    "df"
   ]
  },
  {
   "cell_type": "code",
   "execution_count": 27,
   "id": "3271bd1f",
   "metadata": {},
   "outputs": [],
   "source": [
    "df.to_csv(\"Nike Air Force.csv\", index = False)"
   ]
  },
  {
   "cell_type": "code",
   "execution_count": 8,
   "id": "cd5d545e",
   "metadata": {},
   "outputs": [
    {
     "data": {
      "text/plain": [
       "<p class=\"title\" data-v-384e03c8=\"\">Nike Air Force 1 Low '07 Purple Skeleton</p>"
      ]
     },
     "execution_count": 8,
     "metadata": {},
     "output_type": "execute_result"
    }
   ],
   "source": [
    "name[0]"
   ]
  },
  {
   "cell_type": "code",
   "execution_count": 9,
   "id": "f8eda2df",
   "metadata": {},
   "outputs": [
    {
     "data": {
      "text/plain": [
       "\"Nike Air Force 1 Low '07 Purple Skeleton\""
      ]
     },
     "execution_count": 9,
     "metadata": {},
     "output_type": "execute_result"
    }
   ],
   "source": [
    "str(name[0]).split(\">\")[1].split(\"<\")[0]"
   ]
  },
  {
   "cell_type": "code",
   "execution_count": 10,
   "id": "81d8617e",
   "metadata": {},
   "outputs": [],
   "source": [
    "p_name = []\n",
    "p_name.append(str(name[0]).split(\">\")[1].split(\"<\")[0])"
   ]
  },
  {
   "cell_type": "code",
   "execution_count": 11,
   "id": "2deca088",
   "metadata": {},
   "outputs": [
    {
     "data": {
      "text/plain": [
       "<div class=\"detail_box model_num\" data-v-23793edf=\"\"><dt class=\"product_title\" data-v-23793edf=\"\"> 모델번호 </dt><dd class=\"product_info\" data-v-23793edf=\"\"> CU8067-500 </dd></div>"
      ]
     },
     "execution_count": 11,
     "metadata": {},
     "output_type": "execute_result"
    }
   ],
   "source": [
    "tags[0]"
   ]
  },
  {
   "cell_type": "code",
   "execution_count": 12,
   "id": "deb023d7",
   "metadata": {},
   "outputs": [
    {
     "data": {
      "text/plain": [
       "' CU8067-500 '"
      ]
     },
     "execution_count": 12,
     "metadata": {},
     "output_type": "execute_result"
    }
   ],
   "source": [
    "str(tags[0]).split(\">\")[4].split(\"<\")[0]"
   ]
  },
  {
   "cell_type": "code",
   "execution_count": 13,
   "id": "d491c80d",
   "metadata": {},
   "outputs": [
    {
     "data": {
      "text/plain": [
       "[' CU8067-500 ']"
      ]
     },
     "execution_count": 13,
     "metadata": {},
     "output_type": "execute_result"
    }
   ],
   "source": [
    "p_num = []\n",
    "p_num.append(str(tags[0]).split(\">\")[4].split(\"<\")[0])\n",
    "p_num"
   ]
  },
  {
   "cell_type": "code",
   "execution_count": 14,
   "id": "d1f833d5",
   "metadata": {},
   "outputs": [
    {
     "data": {
      "text/plain": [
       "<div class=\"detail_box\" data-v-23793edf=\"\"><dt class=\"product_title\" data-v-23793edf=\"\"> 출시일 </dt><dd class=\"product_info\" data-v-23793edf=\"\"> 21/11/25 </dd></div>"
      ]
     },
     "execution_count": 14,
     "metadata": {},
     "output_type": "execute_result"
    }
   ],
   "source": [
    "tags[1]"
   ]
  },
  {
   "cell_type": "code",
   "execution_count": 15,
   "id": "d4bd1c49",
   "metadata": {},
   "outputs": [
    {
     "data": {
      "text/plain": [
       "' 21/11/25 '"
      ]
     },
     "execution_count": 15,
     "metadata": {},
     "output_type": "execute_result"
    }
   ],
   "source": [
    "str(tags[1]).split(\">\")[4].split(\"<\")[0]"
   ]
  },
  {
   "cell_type": "code",
   "execution_count": 16,
   "id": "d06a6c49",
   "metadata": {},
   "outputs": [],
   "source": [
    "p_day = []\n",
    "p_day.append(str(tags[1]).split(\">\")[4].split(\"<\")[0])"
   ]
  },
  {
   "cell_type": "code",
   "execution_count": 17,
   "id": "ce27a75a",
   "metadata": {},
   "outputs": [
    {
     "data": {
      "text/plain": [
       "<div class=\"detail_box\" data-v-23793edf=\"\"><dt class=\"product_title\" data-v-23793edf=\"\"> 컬러 </dt><dd class=\"product_info\" data-v-23793edf=\"\"> COURT PURPLE/COURT PURPLE-WHITE </dd></div>"
      ]
     },
     "execution_count": 17,
     "metadata": {},
     "output_type": "execute_result"
    }
   ],
   "source": [
    "tags[2]"
   ]
  },
  {
   "cell_type": "code",
   "execution_count": 18,
   "id": "81020762",
   "metadata": {},
   "outputs": [
    {
     "data": {
      "text/plain": [
       "' COURT PURPLE/COURT PURPLE-WHITE '"
      ]
     },
     "execution_count": 18,
     "metadata": {},
     "output_type": "execute_result"
    }
   ],
   "source": [
    "str(tags[2]).split(\">\")[4].split(\"<\")[0]"
   ]
  },
  {
   "cell_type": "code",
   "execution_count": 19,
   "id": "b050386c",
   "metadata": {},
   "outputs": [],
   "source": [
    "p_col = []\n",
    "p_col.append(str(tags[2]).split(\">\")[4].split(\"<\")[0])"
   ]
  },
  {
   "cell_type": "code",
   "execution_count": 20,
   "id": "6be1fae0",
   "metadata": {},
   "outputs": [
    {
     "data": {
      "text/plain": [
       "<div class=\"detail_box\" data-v-23793edf=\"\"><dt class=\"product_title\" data-v-23793edf=\"\"> 발매가 </dt><dd class=\"product_info\" data-v-23793edf=\"\"> 159,000원 </dd></div>"
      ]
     },
     "execution_count": 20,
     "metadata": {},
     "output_type": "execute_result"
    }
   ],
   "source": [
    "tags[3]"
   ]
  },
  {
   "cell_type": "code",
   "execution_count": 21,
   "id": "7722fcb0",
   "metadata": {},
   "outputs": [
    {
     "data": {
      "text/plain": [
       "' 159,000원 '"
      ]
     },
     "execution_count": 21,
     "metadata": {},
     "output_type": "execute_result"
    }
   ],
   "source": [
    "str(tags[3]).split(\">\")[4].split(\"<\")[0]"
   ]
  },
  {
   "cell_type": "code",
   "execution_count": 22,
   "id": "ad311547",
   "metadata": {},
   "outputs": [],
   "source": [
    "p_price = []\n",
    "p_price.append(str(tags[3]).split(\">\")[4].split(\"<\")[0])"
   ]
  },
  {
   "cell_type": "code",
   "execution_count": 23,
   "id": "cc634d09",
   "metadata": {},
   "outputs": [
    {
     "data": {
      "text/plain": [
       "<span class=\"wish_count_num\" data-v-2d0ab5c1=\"\">532</span>"
      ]
     },
     "execution_count": 23,
     "metadata": {},
     "output_type": "execute_result"
    }
   ],
   "source": [
    "wish[0]"
   ]
  },
  {
   "cell_type": "code",
   "execution_count": 24,
   "id": "3a51be22",
   "metadata": {},
   "outputs": [
    {
     "data": {
      "text/plain": [
       "'532'"
      ]
     },
     "execution_count": 24,
     "metadata": {},
     "output_type": "execute_result"
    }
   ],
   "source": [
    "str(wish[0]).split(\">\")[1].split(\"<\")[0]"
   ]
  },
  {
   "cell_type": "code",
   "execution_count": 25,
   "id": "215f9b64",
   "metadata": {},
   "outputs": [],
   "source": [
    "p_wish = []\n",
    "p_wish.append(str(wish[0]).split(\">\")[1].split(\"<\")[0])"
   ]
  },
  {
   "cell_type": "code",
   "execution_count": null,
   "id": "abcd93ea",
   "metadata": {},
   "outputs": [],
   "source": []
  }
 ],
 "metadata": {
  "kernelspec": {
   "display_name": "Python 3",
   "language": "python",
   "name": "python3"
  },
  "language_info": {
   "codemirror_mode": {
    "name": "ipython",
    "version": 3
   },
   "file_extension": ".py",
   "mimetype": "text/x-python",
   "name": "python",
   "nbconvert_exporter": "python",
   "pygments_lexer": "ipython3",
   "version": "3.8.8"
  },
  "toc": {
   "base_numbering": 1,
   "nav_menu": {},
   "number_sections": true,
   "sideBar": true,
   "skip_h1_title": false,
   "title_cell": "Table of Contents",
   "title_sidebar": "Contents",
   "toc_cell": false,
   "toc_position": {},
   "toc_section_display": true,
   "toc_window_display": false
  },
  "varInspector": {
   "cols": {
    "lenName": 16,
    "lenType": 16,
    "lenVar": 40
   },
   "kernels_config": {
    "python": {
     "delete_cmd_postfix": "",
     "delete_cmd_prefix": "del ",
     "library": "var_list.py",
     "varRefreshCmd": "print(var_dic_list())"
    },
    "r": {
     "delete_cmd_postfix": ") ",
     "delete_cmd_prefix": "rm(",
     "library": "var_list.r",
     "varRefreshCmd": "cat(var_dic_list()) "
    }
   },
   "types_to_exclude": [
    "module",
    "function",
    "builtin_function_or_method",
    "instance",
    "_Feature"
   ],
   "window_display": false
  }
 },
 "nbformat": 4,
 "nbformat_minor": 5
}
